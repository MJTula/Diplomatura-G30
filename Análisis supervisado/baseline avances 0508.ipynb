{
 "cells": [
  {
   "cell_type": "markdown",
   "metadata": {},
   "source": [
    "# DiploDatos Kaggle Competition"
   ]
  },
  {
   "cell_type": "markdown",
   "metadata": {},
   "source": [
    "Presentamos un código creado como ejemplo de base para la competición.\n",
    "\n",
    "Deben:\n",
    "\n",
    "- Explorar los datos y aprender de ellos.\n",
    "- Probar diferentes modelos y ver cuáles ajustan mejor dado los datos.\n",
    "- **Obtener una accuracy mejor que la que se presenta en este ejemplo.**\n",
    "- Tratar de obtener la accuracy más alta posible!\n",
    "- Discutir la elección de modelo.\n",
    "\n",
    "El análisis exploratorio y el preprocesamiento de los datos queda a libertad de cada grupo y no deben quedarse con este simple ejemplo."
   ]
  },
  {
   "cell_type": "markdown",
   "metadata": {},
   "source": [
    "#### Librerias externas"
   ]
  },
  {
   "cell_type": "code",
   "execution_count": 3,
   "metadata": {},
   "outputs": [],
   "source": [
    "import pandas as pd\n",
    "import missingno as msno\n",
    "import numpy as np\n",
    "import seaborn as sns\n",
    "import matplotlib.pyplot as plt\n",
    "from sklearn.preprocessing import StandardScaler, LabelEncoder\n",
    "from sklearn.impute import SimpleImputer\n",
    "from sklearn.model_selection import train_test_split, GridSearchCV, StratifiedKFold\n",
    "from sklearn.metrics import accuracy_score, ConfusionMatrixDisplay, classification_report\n",
    "from sklearn.tree import DecisionTreeClassifier"
   ]
  },
  {
   "cell_type": "markdown",
   "metadata": {},
   "source": [
    "#### Información de nuestra base de datos"
   ]
  },
  {
   "cell_type": "markdown",
   "metadata": {},
   "source": [
    "* PassengerId: Identificación única para cada pasajero. \n",
    "\n",
    "* HomePlanet: El planeta del que partió el pasajero, normalmente su planeta de residencia permanente.\n",
    "\n",
    "* CryoSleep: Indica si el pasajero eligió ponerse en modo suspendido durante la duración del viaje.Los pasajeros en criosueño están confinados en sus cabinas.\n",
    "\n",
    "* Cabina : El número de cabina donde se hospeda el pasajero. Toma la forma cubierta/número/lado, donde lado puede ser P para babor o S para estribor.\n",
    "\n",
    "* Destino: El planeta al que desembarcará el pasajero.\n",
    "\n",
    "* Edad - La edad del pasajero.\n",
    "\n",
    "* VIP: si el pasajero ha pagado por un servicio VIP especial durante el viaje.\n",
    "\n",
    "* RoomService, FoodCourt, ShoppingMall, Spa, VRDeck: monto que el pasajero ha facturado en cada uno de los muchos servicios de lujo del Spaceship Titanic.\n",
    "\n",
    "* Nombre - El nombre y apellido del pasajero.\n",
    "\n",
    "* Transportado: Si el pasajero fue transportado a otra dimensión. Este es el objetivo, la columna que está tratando de predecir."
   ]
  },
  {
   "cell_type": "code",
   "execution_count": 4,
   "metadata": {},
   "outputs": [],
   "source": [
    "####Pablo\n",
    "#train_data = pd.read_csv(r'C:\\Users\\Pablo Madriaga\\OneDrive - Helacor S.A\\ArchivosPersonal\\Diplomatura Ciencia De Datos\\4. Aprendizaje Supervisado\\AprendizajeSupervisado-master\\Práctico\\train.csv',index_col=0)\n",
    "#test_data = pd.read_csv(r'C:\\Users\\Pablo Madriaga\\OneDrive - Helacor S.A\\ArchivosPersonal\\Diplomatura Ciencia De Datos\\4. Aprendizaje Supervisado\\AprendizajeSupervisado-master\\Práctico\\test.csv',index_col=0)"
   ]
  },
  {
   "cell_type": "code",
   "execution_count": 5,
   "metadata": {},
   "outputs": [],
   "source": [
    "####MELANI\n",
    "#train_data = pd.read_csv(r'C:\\Users\\Usuario\\Desktop\\Roco\\Aprendizaje supervisado Diplo\\Práctico\\train.csv',index_col=0)\n",
    "#test_data = pd.read_csv(r'C:\\Users\\Usuario\\Desktop\\Roco\\Aprendizaje supervisado Diplo\\Práctico\\test.csv',index_col=0)"
   ]
  },
  {
   "cell_type": "code",
   "execution_count": 6,
   "metadata": {},
   "outputs": [
    {
     "data": {
      "text/plain": [
       "7823"
      ]
     },
     "execution_count": 6,
     "metadata": {},
     "output_type": "execute_result"
    }
   ],
   "source": [
    "train_data = pd.read_csv('train.csv',index_col=0)\n",
    "len(train_data)"
   ]
  },
  {
   "cell_type": "code",
   "execution_count": 7,
   "metadata": {},
   "outputs": [
    {
     "name": "stdout",
     "output_type": "stream",
     "text": [
      "<class 'pandas.core.frame.DataFrame'>\n",
      "Int64Index: 7823 entries, 3430 to 7624\n",
      "Data columns (total 13 columns):\n",
      " #   Column        Non-Null Count  Dtype  \n",
      "---  ------        --------------  -----  \n",
      " 0   HomePlanet    7644 non-null   object \n",
      " 1   CryoSleep     7627 non-null   object \n",
      " 2   Cabin         7639 non-null   object \n",
      " 3   Destination   7663 non-null   object \n",
      " 4   Age           7661 non-null   float64\n",
      " 5   VIP           7639 non-null   object \n",
      " 6   RoomService   7669 non-null   float64\n",
      " 7   FoodCourt     7668 non-null   float64\n",
      " 8   ShoppingMall  7635 non-null   float64\n",
      " 9   Spa           7665 non-null   float64\n",
      " 10  VRDeck        7654 non-null   float64\n",
      " 11  Name          7639 non-null   object \n",
      " 12  Transported   7823 non-null   int64  \n",
      "dtypes: float64(6), int64(1), object(6)\n",
      "memory usage: 855.6+ KB\n"
     ]
    }
   ],
   "source": [
    "train_data.info()"
   ]
  },
  {
   "cell_type": "code",
   "execution_count": 8,
   "metadata": {},
   "outputs": [
    {
     "data": {
      "text/plain": [
       "False    7456\n",
       "True      183\n",
       "Name: VIP, dtype: int64"
      ]
     },
     "execution_count": 8,
     "metadata": {},
     "output_type": "execute_result"
    }
   ],
   "source": [
    "train_data['VIP'].value_counts()"
   ]
  },
  {
   "cell_type": "code",
   "execution_count": 9,
   "metadata": {},
   "outputs": [
    {
     "name": "stdout",
     "output_type": "stream",
     "text": [
      "            HomePlanet CryoSleep     Cabin  Destination   Age    VIP  \\\n",
      "PassengerId                                                            \n",
      "3430            Europa     False   C/123/P  TRAPPIST-1e  57.0  False   \n",
      "669               Mars      True   F/126/S          NaN  18.0  False   \n",
      "8430            Europa      True   B/343/S  TRAPPIST-1e  33.0    NaN   \n",
      "6463             Earth     False  F/1420/P  TRAPPIST-1e  43.0  False   \n",
      "85               Earth     False     G/9/P  TRAPPIST-1e  19.0  False   \n",
      "...                ...       ...       ...          ...   ...    ...   \n",
      "6528              Mars     False  F/1319/S  TRAPPIST-1e  12.0    NaN   \n",
      "2693             Earth     False   G/459/S  TRAPPIST-1e  44.0  False   \n",
      "8076              Mars      True  F/1772/P  TRAPPIST-1e  55.0  False   \n",
      "3829             Earth     False   E/253/P  TRAPPIST-1e  15.0  False   \n",
      "7624            Europa      True   B/270/P  55 Cancri e  45.0  False   \n",
      "\n",
      "             RoomService  FoodCourt  ShoppingMall    Spa  VRDeck  \\\n",
      "PassengerId                                                        \n",
      "3430                 0.0     3859.0          13.0  195.0  3874.0   \n",
      "669                  0.0        0.0           0.0    0.0     0.0   \n",
      "8430                 0.0        0.0           0.0    0.0     0.0   \n",
      "6463               142.0     1208.0           0.0    0.0   204.0   \n",
      "85                   0.0        0.0         670.0    1.0    34.0   \n",
      "...                  ...        ...           ...    ...     ...   \n",
      "6528                 0.0        0.0           0.0    0.0     0.0   \n",
      "2693                 0.0        0.0         744.0   62.0     3.0   \n",
      "8076                 0.0        0.0           0.0    0.0     0.0   \n",
      "3829                 0.0      840.0         123.0    0.0    20.0   \n",
      "7624                 0.0        0.0           0.0    0.0     0.0   \n",
      "\n",
      "                          Name  Transported  \n",
      "PassengerId                                  \n",
      "3430            Azhah Tronsive            0  \n",
      "669                 Roswal Sha            1  \n",
      "8430         Shaiam Tinganking            1  \n",
      "6463            Landa Grifford            0  \n",
      "85              Gracy Dunnisey            0  \n",
      "...                        ...          ...  \n",
      "6528               Risps Hacle            1  \n",
      "2693             Gabrie Reenez            0  \n",
      "8076              Panzel Ruity            1  \n",
      "3829           Belly Weavesend            0  \n",
      "7624         Graston Donotaked            1  \n",
      "\n",
      "[7823 rows x 13 columns]\n"
     ]
    }
   ],
   "source": [
    "print(train_data)"
   ]
  },
  {
   "cell_type": "markdown",
   "metadata": {},
   "source": [
    "Resumen:\n",
    "\n",
    "* Cómo podemos observar nuestros datos train , poseen 7823 filas y 14 columnas\n",
    "* Posee valores nulos "
   ]
  },
  {
   "cell_type": "code",
   "execution_count": 10,
   "metadata": {},
   "outputs": [
    {
     "data": {
      "text/plain": [
       "HomePlanet      179\n",
       "CryoSleep       196\n",
       "Cabin           184\n",
       "Destination     160\n",
       "Age             162\n",
       "VIP             184\n",
       "RoomService     154\n",
       "FoodCourt       155\n",
       "ShoppingMall    188\n",
       "Spa             158\n",
       "VRDeck          169\n",
       "Name            184\n",
       "Transported       0\n",
       "dtype: int64"
      ]
     },
     "execution_count": 10,
     "metadata": {},
     "output_type": "execute_result"
    }
   ],
   "source": [
    "train_data.isna().sum()"
   ]
  },
  {
   "cell_type": "code",
   "execution_count": 11,
   "metadata": {},
   "outputs": [
    {
     "data": {
      "text/plain": [
       "Earth     4114\n",
       "Europa    1935\n",
       "Mars      1595\n",
       "Name: HomePlanet, dtype: int64"
      ]
     },
     "execution_count": 11,
     "metadata": {},
     "output_type": "execute_result"
    }
   ],
   "source": [
    "train_data.HomePlanet.value_counts()"
   ]
  },
  {
   "cell_type": "code",
   "execution_count": 12,
   "metadata": {},
   "outputs": [
    {
     "data": {
      "text/plain": [
       "TRAPPIST-1e      5316\n",
       "55 Cancri e      1625\n",
       "PSO J318.5-22     722\n",
       "Name: Destination, dtype: int64"
      ]
     },
     "execution_count": 12,
     "metadata": {},
     "output_type": "execute_result"
    }
   ],
   "source": [
    "train_data.Destination.value_counts()"
   ]
  },
  {
   "cell_type": "code",
   "execution_count": 13,
   "metadata": {},
   "outputs": [
    {
     "data": {
      "text/plain": [
       "<AxesSubplot:>"
      ]
     },
     "execution_count": 13,
     "metadata": {},
     "output_type": "execute_result"
    },
    {
     "data": {
      "image/png": "[encoded data removed]",
      "text/plain": [
       "<Figure size 720x288 with 2 Axes>"
      ]
     },
     "metadata": {
      "needs_background": "light"
     },
     "output_type": "display_data"
    }
   ],
   "source": [
    "msno.matrix(train_data,figsize=(10, 4), fontsize=12, color=[0,0,0.2])"
   ]
  },
  {
   "cell_type": "code",
   "execution_count": 14,
   "metadata": {},
   "outputs": [
    {
     "data": {
      "text/html": [
       "<div>\n",
       "<style scoped>\n",
       "    .dataframe tbody tr th:only-of-type {\n",
       "        vertical-align: middle;\n",
       "    }\n",
       "\n",
       "    .dataframe tbody tr th {\n",
       "        vertical-align: top;\n",
       "    }\n",
       "\n",
       "    .dataframe thead th {\n",
       "        text-align: right;\n",
       "    }\n",
       "</style>\n",
       "<table border=\"1\" class=\"dataframe\">\n",
       "  <thead>\n",
       "    <tr style=\"text-align: right;\">\n",
       "      <th></th>\n",
       "      <th>Age</th>\n",
       "      <th>RoomService</th>\n",
       "      <th>FoodCourt</th>\n",
       "      <th>ShoppingMall</th>\n",
       "      <th>Spa</th>\n",
       "      <th>VRDeck</th>\n",
       "      <th>Transported</th>\n",
       "    </tr>\n",
       "  </thead>\n",
       "  <tbody>\n",
       "    <tr>\n",
       "      <th>count</th>\n",
       "      <td>7661.000000</td>\n",
       "      <td>7669.000000</td>\n",
       "      <td>7668.000000</td>\n",
       "      <td>7635.000000</td>\n",
       "      <td>7665.000000</td>\n",
       "      <td>7654.000000</td>\n",
       "      <td>7823.000000</td>\n",
       "    </tr>\n",
       "    <tr>\n",
       "      <th>mean</th>\n",
       "      <td>28.879389</td>\n",
       "      <td>226.078237</td>\n",
       "      <td>455.643062</td>\n",
       "      <td>172.600393</td>\n",
       "      <td>305.023222</td>\n",
       "      <td>295.476744</td>\n",
       "      <td>0.506711</td>\n",
       "    </tr>\n",
       "    <tr>\n",
       "      <th>std</th>\n",
       "      <td>14.461548</td>\n",
       "      <td>679.180148</td>\n",
       "      <td>1621.290107</td>\n",
       "      <td>597.923749</td>\n",
       "      <td>1133.423579</td>\n",
       "      <td>1093.485752</td>\n",
       "      <td>0.499987</td>\n",
       "    </tr>\n",
       "    <tr>\n",
       "      <th>min</th>\n",
       "      <td>0.000000</td>\n",
       "      <td>0.000000</td>\n",
       "      <td>0.000000</td>\n",
       "      <td>0.000000</td>\n",
       "      <td>0.000000</td>\n",
       "      <td>0.000000</td>\n",
       "      <td>0.000000</td>\n",
       "    </tr>\n",
       "    <tr>\n",
       "      <th>25%</th>\n",
       "      <td>19.000000</td>\n",
       "      <td>0.000000</td>\n",
       "      <td>0.000000</td>\n",
       "      <td>0.000000</td>\n",
       "      <td>0.000000</td>\n",
       "      <td>0.000000</td>\n",
       "      <td>0.000000</td>\n",
       "    </tr>\n",
       "    <tr>\n",
       "      <th>50%</th>\n",
       "      <td>27.000000</td>\n",
       "      <td>0.000000</td>\n",
       "      <td>0.000000</td>\n",
       "      <td>0.000000</td>\n",
       "      <td>0.000000</td>\n",
       "      <td>0.000000</td>\n",
       "      <td>1.000000</td>\n",
       "    </tr>\n",
       "    <tr>\n",
       "      <th>75%</th>\n",
       "      <td>38.000000</td>\n",
       "      <td>44.000000</td>\n",
       "      <td>69.000000</td>\n",
       "      <td>28.000000</td>\n",
       "      <td>58.000000</td>\n",
       "      <td>46.000000</td>\n",
       "      <td>1.000000</td>\n",
       "    </tr>\n",
       "    <tr>\n",
       "      <th>max</th>\n",
       "      <td>79.000000</td>\n",
       "      <td>14327.000000</td>\n",
       "      <td>29813.000000</td>\n",
       "      <td>23492.000000</td>\n",
       "      <td>22408.000000</td>\n",
       "      <td>24133.000000</td>\n",
       "      <td>1.000000</td>\n",
       "    </tr>\n",
       "  </tbody>\n",
       "</table>\n",
       "</div>"
      ],
      "text/plain": [
       "               Age   RoomService     FoodCourt  ShoppingMall           Spa  \\\n",
       "count  7661.000000   7669.000000   7668.000000   7635.000000   7665.000000   \n",
       "mean     28.879389    226.078237    455.643062    172.600393    305.023222   \n",
       "std      14.461548    679.180148   1621.290107    597.923749   1133.423579   \n",
       "min       0.000000      0.000000      0.000000      0.000000      0.000000   \n",
       "25%      19.000000      0.000000      0.000000      0.000000      0.000000   \n",
       "50%      27.000000      0.000000      0.000000      0.000000      0.000000   \n",
       "75%      38.000000     44.000000     69.000000     28.000000     58.000000   \n",
       "max      79.000000  14327.000000  29813.000000  23492.000000  22408.000000   \n",
       "\n",
       "             VRDeck  Transported  \n",
       "count   7654.000000  7823.000000  \n",
       "mean     295.476744     0.506711  \n",
       "std     1093.485752     0.499987  \n",
       "min        0.000000     0.000000  \n",
       "25%        0.000000     0.000000  \n",
       "50%        0.000000     1.000000  \n",
       "75%       46.000000     1.000000  \n",
       "max    24133.000000     1.000000  "
      ]
     },
     "execution_count": 14,
     "metadata": {},
     "output_type": "execute_result"
    }
   ],
   "source": [
    "train_data.describe()"
   ]
  },
  {
   "cell_type": "code",
   "execution_count": 15,
   "metadata": {},
   "outputs": [
    {
     "data": {
      "text/plain": [
       "<AxesSubplot:xlabel='Transported', ylabel='count'>"
      ]
     },
     "execution_count": 15,
     "metadata": {},
     "output_type": "execute_result"
    },
    {
     "data": {
      "image/png": "[encoded data removed]",
      "text/plain": [
       "<Figure size 576x216 with 1 Axes>"
      ]
     },
     "metadata": {
      "needs_background": "light"
     },
     "output_type": "display_data"
    }
   ],
   "source": [
    "plt.figure(figsize=(8,3))\n",
    "#plt.subplot(1,2,1)\n",
    "sns.countplot(x=train_data['Transported'],hue=train_data['Transported'],palette='Set2')\n",
    "#palette=('red','green')"
   ]
  },
  {
   "cell_type": "code",
   "execution_count": 16,
   "metadata": {},
   "outputs": [
    {
     "name": "stdout",
     "output_type": "stream",
     "text": [
      "['HomePlanet', 'CryoSleep', 'Cabin', 'Destination', 'VIP', 'Name']\n",
      "['Age', 'RoomService', 'FoodCourt', 'ShoppingMall', 'Spa', 'VRDeck', 'Transported']\n"
     ]
    }
   ],
   "source": [
    "categorical_columns=[]\n",
    "numerical_columns=[]\n",
    "for i in train_data.columns:\n",
    "    if train_data[i].dtype=='object':\n",
    "        categorical_columns.append(i)\n",
    "    elif train_data[i].dtype in ['int64','float64']:\n",
    "        numerical_columns.append(i)\n",
    "\n",
    "print(categorical_columns)\n",
    "print(numerical_columns)"
   ]
  },
  {
   "cell_type": "code",
   "execution_count": 17,
   "metadata": {},
   "outputs": [
    {
     "data": {
      "text/plain": [
       "<AxesSubplot:>"
      ]
     },
     "execution_count": 17,
     "metadata": {},
     "output_type": "execute_result"
    },
    {
     "data": {
      "image/png": "[encoded data removed]",
      "text/plain": [
       "<Figure size 1080x720 with 2 Axes>"
      ]
     },
     "metadata": {},
     "output_type": "display_data"
    }
   ],
   "source": [
    "sns.set(rc = {'figure.figsize':(15,10)})\n",
    "correlation_matrix=train_data.corr().round(2)\n",
    "sns.heatmap(data=correlation_matrix, annot=True)"
   ]
  },
  {
   "cell_type": "code",
   "execution_count": 18,
   "metadata": {},
   "outputs": [
    {
     "data": {
      "image/png": "[encoded data removed]",
      "text/plain": [
       "<Figure size 288x144 with 1 Axes>"
      ]
     },
     "metadata": {},
     "output_type": "display_data"
    },
    {
     "data": {
      "image/png": "[encoded data removed]",
      "text/plain": [
       "<Figure size 288x144 with 1 Axes>"
      ]
     },
     "metadata": {},
     "output_type": "display_data"
    },
    {
     "data": {
      "image/png": "[encoded data removed]",
      "text/plain": [
       "<Figure size 288x144 with 1 Axes>"
      ]
     },
     "metadata": {},
     "output_type": "display_data"
    },
    {
     "data": {
      "image/png": "[encoded data removed]",
      "text/plain": [
       "<Figure size 288x144 with 1 Axes>"
      ]
     },
     "metadata": {},
     "output_type": "display_data"
    },
    {
     "data": {
      "image/png": "[encoded data removed]",
      "text/plain": [
       "<Figure size 288x144 with 1 Axes>"
      ]
     },
     "metadata": {},
     "output_type": "display_data"
    },
    {
     "data": {
      "image/png": "[encoded data removed]",
      "text/plain": [
       "<Figure size 288x144 with 1 Axes>"
      ]
     },
     "metadata": {},
     "output_type": "display_data"
    },
    {
     "data": {
      "image/png": "[encoded data removed]",
      "text/plain": [
       "<Figure size 288x144 with 2 Axes>"
      ]
     },
     "metadata": {},
     "output_type": "display_data"
    }
   ],
   "source": [
    "for var in numerical_columns:\n",
    " sns.pairplot(data=train_data, y_vars=[\"Transported\"],\n",
    "  x_vars=[var],\n",
    " aspect=2, height=2)"
   ]
  },
  {
   "cell_type": "code",
   "execution_count": 19,
   "metadata": {},
   "outputs": [
    {
     "data": {
      "text/html": [
       "<div>\n",
       "<style scoped>\n",
       "    .dataframe tbody tr th:only-of-type {\n",
       "        vertical-align: middle;\n",
       "    }\n",
       "\n",
       "    .dataframe tbody tr th {\n",
       "        vertical-align: top;\n",
       "    }\n",
       "\n",
       "    .dataframe thead th {\n",
       "        text-align: right;\n",
       "    }\n",
       "</style>\n",
       "<table border=\"1\" class=\"dataframe\">\n",
       "  <thead>\n",
       "    <tr style=\"text-align: right;\">\n",
       "      <th>Transported</th>\n",
       "      <th>0</th>\n",
       "      <th>1</th>\n",
       "      <th>Total</th>\n",
       "    </tr>\n",
       "    <tr>\n",
       "      <th>HomePlanet</th>\n",
       "      <th></th>\n",
       "      <th></th>\n",
       "      <th></th>\n",
       "    </tr>\n",
       "  </thead>\n",
       "  <tbody>\n",
       "    <tr>\n",
       "      <th>Earth</th>\n",
       "      <td>2352</td>\n",
       "      <td>1762</td>\n",
       "      <td>4114</td>\n",
       "    </tr>\n",
       "    <tr>\n",
       "      <th>Europa</th>\n",
       "      <td>653</td>\n",
       "      <td>1282</td>\n",
       "      <td>1935</td>\n",
       "    </tr>\n",
       "    <tr>\n",
       "      <th>Mars</th>\n",
       "      <td>768</td>\n",
       "      <td>827</td>\n",
       "      <td>1595</td>\n",
       "    </tr>\n",
       "    <tr>\n",
       "      <th>Total</th>\n",
       "      <td>3773</td>\n",
       "      <td>3871</td>\n",
       "      <td>7644</td>\n",
       "    </tr>\n",
       "  </tbody>\n",
       "</table>\n",
       "</div>"
      ],
      "text/plain": [
       "Transported     0     1  Total\n",
       "HomePlanet                    \n",
       "Earth        2352  1762   4114\n",
       "Europa        653  1282   1935\n",
       "Mars          768   827   1595\n",
       "Total        3773  3871   7644"
      ]
     },
     "execution_count": 19,
     "metadata": {},
     "output_type": "execute_result"
    }
   ],
   "source": [
    "# Matriz usando ambas variables \n",
    "pd.crosstab(train_data[\"HomePlanet\"], train_data[\"Transported\"], margins=True, margins_name=\"Total\")\n",
    "#pd.crosstab(train_data[\"Age\"], train_data[\"Transported\"], margins=True, margins_name=\"Total\", normalize=\"index\")"
   ]
  },
  {
   "cell_type": "code",
   "execution_count": 20,
   "metadata": {},
   "outputs": [
    {
     "data": {
      "text/html": [
       "<div>\n",
       "<style scoped>\n",
       "    .dataframe tbody tr th:only-of-type {\n",
       "        vertical-align: middle;\n",
       "    }\n",
       "\n",
       "    .dataframe tbody tr th {\n",
       "        vertical-align: top;\n",
       "    }\n",
       "\n",
       "    .dataframe thead th {\n",
       "        text-align: right;\n",
       "    }\n",
       "</style>\n",
       "<table border=\"1\" class=\"dataframe\">\n",
       "  <thead>\n",
       "    <tr style=\"text-align: right;\">\n",
       "      <th>Transported</th>\n",
       "      <th>0</th>\n",
       "      <th>1</th>\n",
       "      <th>Total</th>\n",
       "    </tr>\n",
       "    <tr>\n",
       "      <th>VIP</th>\n",
       "      <th></th>\n",
       "      <th></th>\n",
       "      <th></th>\n",
       "    </tr>\n",
       "  </thead>\n",
       "  <tbody>\n",
       "    <tr>\n",
       "      <th>False</th>\n",
       "      <td>3653</td>\n",
       "      <td>3803</td>\n",
       "      <td>7456</td>\n",
       "    </tr>\n",
       "    <tr>\n",
       "      <th>True</th>\n",
       "      <td>116</td>\n",
       "      <td>67</td>\n",
       "      <td>183</td>\n",
       "    </tr>\n",
       "    <tr>\n",
       "      <th>Total</th>\n",
       "      <td>3769</td>\n",
       "      <td>3870</td>\n",
       "      <td>7639</td>\n",
       "    </tr>\n",
       "  </tbody>\n",
       "</table>\n",
       "</div>"
      ],
      "text/plain": [
       "Transported     0     1  Total\n",
       "VIP                           \n",
       "False        3653  3803   7456\n",
       "True          116    67    183\n",
       "Total        3769  3870   7639"
      ]
     },
     "execution_count": 20,
     "metadata": {},
     "output_type": "execute_result"
    }
   ],
   "source": [
    "pd.crosstab(train_data[\"VIP\"], train_data[\"Transported\"], margins=True, margins_name=\"Total\")"
   ]
  },
  {
   "cell_type": "code",
   "execution_count": 21,
   "metadata": {},
   "outputs": [],
   "source": [
    "#pd.crosstab(train_data[\"VIP\"], train_data[\"Transported\"], margins=True, margins_name=\"Total\")\n",
    "#pd.crosstab(train_data[\"CryoSleep\"], train_data[\"Transported\"], margins=True, margins_name=\"Total\")\n",
    "#pd.crosstab(train_data[\"Destination\"], train_data[\"Transported\"], margins=True, margins_name=\"Total\")\n"
   ]
  },
  {
   "cell_type": "code",
   "execution_count": 22,
   "metadata": {},
   "outputs": [
    {
     "data": {
      "text/plain": [
       "<AxesSubplot:xlabel='RoomService', ylabel='Density'>"
      ]
     },
     "execution_count": 22,
     "metadata": {},
     "output_type": "execute_result"
    },
    {
     "data": {
      "image/png": "[encoded data removed]",
      "text/plain": [
       "<Figure size 1080x360 with 1 Axes>"
      ]
     },
     "metadata": {},
     "output_type": "display_data"
    }
   ],
   "source": [
    "f = plt.figure()\n",
    "f.set_figwidth(15)\n",
    "f.set_figheight(5)\n",
    "#fig, axs = plt.subplots(1, 2, sharey=True, tight_layout=True)\n",
    "#Se grafican las densidades de las variables\n",
    "#sns.kdeplot(train_data['RoomService'])\n",
    "sns.kdeplot(data=train_data,x=train_data['RoomService'],hue=train_data['Transported'], multiple=\"stack\")"
   ]
  },
  {
   "cell_type": "code",
   "execution_count": null,
   "metadata": {},
   "outputs": [],
   "source": []
  },
  {
   "cell_type": "code",
   "execution_count": 23,
   "metadata": {},
   "outputs": [
    {
     "data": {
      "text/plain": [
       "<AxesSubplot:xlabel='FoodCourt', ylabel='Density'>"
      ]
     },
     "execution_count": 23,
     "metadata": {},
     "output_type": "execute_result"
    },
    {
     "data": {
      "image/png": "[encoded data removed]",
      "text/plain": [
       "<Figure size 1080x360 with 1 Axes>"
      ]
     },
     "metadata": {},
     "output_type": "display_data"
    }
   ],
   "source": [
    "f = plt.figure()\n",
    "f.set_figwidth(15)\n",
    "f.set_figheight(5)\n",
    "#sns.kdeplot(train_data['FoodCourt'])\n",
    "sns.kdeplot(data=train_data,x=train_data['FoodCourt'],hue=train_data['Transported'],multiple=\"stack\")"
   ]
  },
  {
   "cell_type": "code",
   "execution_count": null,
   "metadata": {},
   "outputs": [],
   "source": []
  },
  {
   "cell_type": "code",
   "execution_count": 24,
   "metadata": {},
   "outputs": [
    {
     "data": {
      "text/plain": [
       "<AxesSubplot:xlabel='ShoppingMall', ylabel='Density'>"
      ]
     },
     "execution_count": 24,
     "metadata": {},
     "output_type": "execute_result"
    },
    {
     "data": {
      "image/png": "[encoded data removed]",
      "text/plain": [
       "<Figure size 1080x360 with 1 Axes>"
      ]
     },
     "metadata": {},
     "output_type": "display_data"
    }
   ],
   "source": [
    "f = plt.figure()\n",
    "f.set_figwidth(15)\n",
    "f.set_figheight(5)\n",
    "#sns.kdeplot(train_data['ShoppingMall'])\n",
    "sns.kdeplot(data=train_data,x=train_data['ShoppingMall'],hue=train_data['Transported'],multiple=\"stack\")"
   ]
  },
  {
   "cell_type": "code",
   "execution_count": 25,
   "metadata": {},
   "outputs": [
    {
     "data": {
      "text/plain": [
       "<AxesSubplot:xlabel='Spa', ylabel='Density'>"
      ]
     },
     "execution_count": 25,
     "metadata": {},
     "output_type": "execute_result"
    },
    {
     "data": {
      "image/png": "[encoded data removed]",
      "text/plain": [
       "<Figure size 1080x360 with 1 Axes>"
      ]
     },
     "metadata": {},
     "output_type": "display_data"
    }
   ],
   "source": [
    "f = plt.figure()\n",
    "f.set_figwidth(15)\n",
    "f.set_figheight(5)\n",
    "#sns.kdeplot(train_data['Spa'])\n",
    "sns.kdeplot(data=train_data,x=train_data['Spa'],hue=train_data['Transported'],multiple=\"stack\")"
   ]
  },
  {
   "cell_type": "code",
   "execution_count": 26,
   "metadata": {},
   "outputs": [
    {
     "data": {
      "text/plain": [
       "<AxesSubplot:xlabel='VRDeck', ylabel='Density'>"
      ]
     },
     "execution_count": 26,
     "metadata": {},
     "output_type": "execute_result"
    },
    {
     "data": {
      "image/png": "[encoded data removed]",
      "text/plain": [
       "<Figure size 1080x360 with 1 Axes>"
      ]
     },
     "metadata": {},
     "output_type": "display_data"
    }
   ],
   "source": [
    "f = plt.figure()\n",
    "f.set_figwidth(15)\n",
    "f.set_figheight(5)\n",
    "sns.kdeplot(train_data['VRDeck'])\n",
    "sns.kdeplot(data=train_data,x=train_data['VRDeck'],hue=train_data['Transported'],multiple=\"stack\")"
   ]
  },
  {
   "cell_type": "code",
   "execution_count": 27,
   "metadata": {},
   "outputs": [
    {
     "data": {
      "text/plain": [
       "<AxesSubplot:xlabel='Age', ylabel='Density'>"
      ]
     },
     "execution_count": 27,
     "metadata": {},
     "output_type": "execute_result"
    },
    {
     "data": {
      "image/png": "[encoded data removed]",
      "text/plain": [
       "<Figure size 720x360 with 1 Axes>"
      ]
     },
     "metadata": {},
     "output_type": "display_data"
    }
   ],
   "source": [
    "f = plt.figure()\n",
    "f.set_figwidth(10)\n",
    "f.set_figheight(5)\n",
    "#sns.kdeplot(train_data['Age'])\n",
    "sns.kdeplot(data=train_data,x=train_data['Age'],hue=train_data['Transported'],multiple=\"stack\")"
   ]
  },
  {
   "cell_type": "code",
   "execution_count": 28,
   "metadata": {},
   "outputs": [
    {
     "data": {
      "text/plain": [
       "(array([6.74e+03, 4.37e+02, 1.62e+02, 9.30e+01, 3.80e+01, 3.50e+01,\n",
       "        3.60e+01, 1.70e+01, 1.90e+01, 1.60e+01, 8.00e+00, 8.00e+00,\n",
       "        8.00e+00, 9.00e+00, 2.00e+00, 3.00e+00, 6.00e+00, 1.00e+00,\n",
       "        5.00e+00, 3.00e+00, 3.00e+00, 1.00e+00, 0.00e+00, 0.00e+00,\n",
       "        0.00e+00, 0.00e+00, 0.00e+00, 1.00e+00, 1.00e+00, 0.00e+00,\n",
       "        0.00e+00, 0.00e+00, 0.00e+00, 1.00e+00, 0.00e+00, 0.00e+00,\n",
       "        0.00e+00, 0.00e+00, 0.00e+00, 1.00e+00]),\n",
       " array([    0.   ,   603.325,  1206.65 ,  1809.975,  2413.3  ,  3016.625,\n",
       "         3619.95 ,  4223.275,  4826.6  ,  5429.925,  6033.25 ,  6636.575,\n",
       "         7239.9  ,  7843.225,  8446.55 ,  9049.875,  9653.2  , 10256.525,\n",
       "        10859.85 , 11463.175, 12066.5  , 12669.825, 13273.15 , 13876.475,\n",
       "        14479.8  , 15083.125, 15686.45 , 16289.775, 16893.1  , 17496.425,\n",
       "        18099.75 , 18703.075, 19306.4  , 19909.725, 20513.05 , 21116.375,\n",
       "        21719.7  , 22323.025, 22926.35 , 23529.675, 24133.   ]),\n",
       " <BarContainer object of 40 artists>)"
      ]
     },
     "execution_count": 28,
     "metadata": {},
     "output_type": "execute_result"
    },
    {
     "data": {
      "image/png": "[encoded data removed]",
      "text/plain": [
       "<Figure size 1080x720 with 12 Axes>"
      ]
     },
     "metadata": {},
     "output_type": "display_data"
    }
   ],
   "source": [
    "fig, axs = plt.subplots(4, 3, sharey=True, tight_layout=True)\n",
    "\n",
    "# We can set the number of bins with the *bins* keyword argument.\n",
    "axs[0,0].hist(train_data['Age'], bins=40)\n",
    "axs[0,1].hist(train_data['RoomService'], bins=40)\n",
    "axs[1,0].hist(train_data['FoodCourt'], bins=40)\n",
    "axs[1,1].hist(train_data['ShoppingMall'], bins=40)\n",
    "axs[2,0].hist(train_data['Spa'], bins=40)\n",
    "axs[2,1].hist(train_data['VRDeck'], bins=40)\n"
   ]
  },
  {
   "cell_type": "code",
   "execution_count": 29,
   "metadata": {},
   "outputs": [],
   "source": [
    "hist(train_data['Transported'], bins=40)"
   ]
  },
  {
   "cell_type": "code",
   "execution_count": 30,
   "metadata": {},
   "outputs": [],
   "source": [
    "#No hay un desbalanceo desmedido en los datos train de la variable objetivo"
   ]
  },
  {
   "cell_type": "markdown",
   "metadata": {},
   "source": [
    "#### DATOS TRAIN"
   ]
  },
  {
   "cell_type": "code",
   "execution_count": 31,
   "metadata": {},
   "outputs": [
    {
     "data": {
      "text/plain": [
       "<AxesSubplot:>"
      ]
     },
     "execution_count": 31,
     "metadata": {},
     "output_type": "execute_result"
    },
    {
     "data": {
      "image/png": "[encoded data removed]",
      "text/plain": [
       "<Figure size 864x432 with 3 Axes>"
      ]
     },
     "metadata": {},
     "output_type": "display_data"
    }
   ],
   "source": [
    "msno.bar(train_data,figsize=(12,6),color='steelblue')"
   ]
  },
  {
   "cell_type": "code",
   "execution_count": 32,
   "metadata": {},
   "outputs": [
    {
     "name": "stdout",
     "output_type": "stream",
     "text": [
      "['HomePlanet', 'CryoSleep', 'Cabin', 'Destination', 'VIP', 'Name']\n",
      "['Age', 'RoomService', 'FoodCourt', 'ShoppingMall', 'Spa', 'VRDeck', 'Transported']\n"
     ]
    }
   ],
   "source": [
    "categorical_columns=[]\n",
    "numerical_columns=[]\n",
    "for i in train_data.columns:\n",
    "    if train_data[i].dtype=='object':\n",
    "        categorical_columns.append(i)\n",
    "    elif train_data[i].dtype in ['int64','float64']:\n",
    "        numerical_columns.append(i)\n",
    "\n",
    "print(categorical_columns)\n",
    "print(numerical_columns)"
   ]
  },
  {
   "cell_type": "markdown",
   "metadata": {},
   "source": [
    "for columna in categorical_columns[:(len(categorical_columns))]:\n",
    "  fig, ax1 = plt.subplots()\n",
    "  chart=sns.countplot(y = columna,\n",
    "                data = train_data,\n",
    "                palette = 'Set3')\n",
    "  fig.set_size_inches(10, 5)\n",
    "  fig.tight_layout()"
   ]
  },
  {
   "cell_type": "code",
   "execution_count": 33,
   "metadata": {},
   "outputs": [
    {
     "name": "stdout",
     "output_type": "stream",
     "text": [
      "            HomePlanet CryoSleep     Cabin  Destination       Age    VIP  \\\n",
      "PassengerId                                                                \n",
      "3430            Europa     False   C/123/P  TRAPPIST-1e  0.721519  False   \n",
      "669               Mars      True   F/126/S          NaN  0.227848  False   \n",
      "8430            Europa      True   B/343/S  TRAPPIST-1e  0.417722    NaN   \n",
      "6463             Earth     False  F/1420/P  TRAPPIST-1e  0.544304  False   \n",
      "85               Earth     False     G/9/P  TRAPPIST-1e  0.240506  False   \n",
      "...                ...       ...       ...          ...       ...    ...   \n",
      "6528              Mars     False  F/1319/S  TRAPPIST-1e  0.151899    NaN   \n",
      "2693             Earth     False   G/459/S  TRAPPIST-1e  0.556962  False   \n",
      "8076              Mars      True  F/1772/P  TRAPPIST-1e  0.696203  False   \n",
      "3829             Earth     False   E/253/P  TRAPPIST-1e  0.189873  False   \n",
      "7624            Europa      True   B/270/P  55 Cancri e  0.569620  False   \n",
      "\n",
      "             RoomService  FoodCourt  ShoppingMall       Spa    VRDeck  \\\n",
      "PassengerId                                                             \n",
      "3430            0.000000   0.129440      0.000553  0.008702  0.160527   \n",
      "669             0.000000   0.000000      0.000000  0.000000  0.000000   \n",
      "8430            0.000000   0.000000      0.000000  0.000000  0.000000   \n",
      "6463            0.009911   0.040519      0.000000  0.000000  0.008453   \n",
      "85              0.000000   0.000000      0.028520  0.000045  0.001409   \n",
      "...                  ...        ...           ...       ...       ...   \n",
      "6528            0.000000   0.000000      0.000000  0.000000  0.000000   \n",
      "2693            0.000000   0.000000      0.031670  0.002767  0.000124   \n",
      "8076            0.000000   0.000000      0.000000  0.000000  0.000000   \n",
      "3829            0.000000   0.028176      0.005236  0.000000  0.000829   \n",
      "7624            0.000000   0.000000      0.000000  0.000000  0.000000   \n",
      "\n",
      "                          Name  Transported  \n",
      "PassengerId                                  \n",
      "3430            Azhah Tronsive          0.0  \n",
      "669                 Roswal Sha          1.0  \n",
      "8430         Shaiam Tinganking          1.0  \n",
      "6463            Landa Grifford          0.0  \n",
      "85              Gracy Dunnisey          0.0  \n",
      "...                        ...          ...  \n",
      "6528               Risps Hacle          1.0  \n",
      "2693             Gabrie Reenez          0.0  \n",
      "8076              Panzel Ruity          1.0  \n",
      "3829           Belly Weavesend          0.0  \n",
      "7624         Graston Donotaked          1.0  \n",
      "\n",
      "[7823 rows x 13 columns]\n"
     ]
    },
    {
     "name": "stderr",
     "output_type": "stream",
     "text": [
      "C:\\Users\\Varios\\anaconda3\\lib\\site-packages\\sklearn\\impute\\_iterative.py:699: ConvergenceWarning: [IterativeImputer] Early stopping criterion not reached.\n",
      "  warnings.warn(\n"
     ]
    },
    {
     "name": "stdout",
     "output_type": "stream",
     "text": [
      "7823\n",
      "<class 'pandas.core.frame.DataFrame'>\n",
      "Int64Index: 7823 entries, 3430 to 7624\n",
      "Data columns (total 13 columns):\n",
      " #   Column        Non-Null Count  Dtype  \n",
      "---  ------        --------------  -----  \n",
      " 0   HomePlanet    7644 non-null   object \n",
      " 1   CryoSleep     7627 non-null   object \n",
      " 2   Cabin         7639 non-null   object \n",
      " 3   Destination   7663 non-null   object \n",
      " 4   Age           7823 non-null   float64\n",
      " 5   VIP           7639 non-null   object \n",
      " 6   RoomService   7823 non-null   float64\n",
      " 7   FoodCourt     7823 non-null   float64\n",
      " 8   ShoppingMall  7823 non-null   float64\n",
      " 9   Spa           7823 non-null   float64\n",
      " 10  VRDeck        7823 non-null   float64\n",
      " 11  Name          7639 non-null   object \n",
      " 12  Transported   7823 non-null   float64\n",
      "dtypes: float64(7), object(6)\n",
      "memory usage: 1.1+ MB\n"
     ]
    },
    {
     "data": {
      "image/png": "[encoded data removed]",
      "text/plain": [
       "<Figure size 1008x432 with 3 Axes>"
      ]
     },
     "metadata": {},
     "output_type": "display_data"
    }
   ],
   "source": [
    "from sklearn.experimental import enable_iterative_imputer\n",
    "from sklearn.neighbors import KNeighborsRegressor\n",
    "from sklearn.impute import IterativeImputer\n",
    "\n",
    "##Normalizamos numéricas\n",
    "from numpy import asarray\n",
    "from sklearn.preprocessing import MinMaxScaler\n",
    "# define min max scaler\n",
    "scaler = MinMaxScaler()\n",
    "# transform data\n",
    "train_data[numerical_columns] = scaler.fit_transform(train_data[numerical_columns])\n",
    "#################################\n",
    "\n",
    "####imputamos Nans de numéricas\n",
    "train_2 = train_data.copy()\n",
    "print(train_2)\n",
    "kn_imputer = IterativeImputer(random_state=0, estimator=KNeighborsRegressor())\n",
    "train_2[numerical_columns] = kn_imputer.fit_transform(train_2[numerical_columns])\n",
    "print(len(train_2))\n",
    "###########################\n",
    "msno.bar(train_2,figsize=(14, 6), sort=\"ascending\",fontsize=12, color='lightblue')\n",
    "########################\n",
    "train_2.info()"
   ]
  },
  {
   "cell_type": "code",
   "execution_count": 34,
   "metadata": {},
   "outputs": [
    {
     "data": {
      "text/html": [
       "<div>\n",
       "<style scoped>\n",
       "    .dataframe tbody tr th:only-of-type {\n",
       "        vertical-align: middle;\n",
       "    }\n",
       "\n",
       "    .dataframe tbody tr th {\n",
       "        vertical-align: top;\n",
       "    }\n",
       "\n",
       "    .dataframe thead th {\n",
       "        text-align: right;\n",
       "    }\n",
       "</style>\n",
       "<table border=\"1\" class=\"dataframe\">\n",
       "  <thead>\n",
       "    <tr style=\"text-align: right;\">\n",
       "      <th></th>\n",
       "      <th>Age</th>\n",
       "      <th>RoomService</th>\n",
       "      <th>FoodCourt</th>\n",
       "      <th>ShoppingMall</th>\n",
       "      <th>Spa</th>\n",
       "      <th>VRDeck</th>\n",
       "      <th>Transported</th>\n",
       "    </tr>\n",
       "  </thead>\n",
       "  <tbody>\n",
       "    <tr>\n",
       "      <th>count</th>\n",
       "      <td>7823.000000</td>\n",
       "      <td>7823.000000</td>\n",
       "      <td>7823.000000</td>\n",
       "      <td>7823.000000</td>\n",
       "      <td>7823.000000</td>\n",
       "      <td>7823.000000</td>\n",
       "      <td>7823.000000</td>\n",
       "    </tr>\n",
       "    <tr>\n",
       "      <th>mean</th>\n",
       "      <td>0.365519</td>\n",
       "      <td>0.015769</td>\n",
       "      <td>0.015192</td>\n",
       "      <td>0.007292</td>\n",
       "      <td>0.013540</td>\n",
       "      <td>0.012136</td>\n",
       "      <td>0.506711</td>\n",
       "    </tr>\n",
       "    <tr>\n",
       "      <th>std</th>\n",
       "      <td>0.181502</td>\n",
       "      <td>0.047132</td>\n",
       "      <td>0.053975</td>\n",
       "      <td>0.025210</td>\n",
       "      <td>0.050139</td>\n",
       "      <td>0.044883</td>\n",
       "      <td>0.499987</td>\n",
       "    </tr>\n",
       "    <tr>\n",
       "      <th>min</th>\n",
       "      <td>0.000000</td>\n",
       "      <td>0.000000</td>\n",
       "      <td>0.000000</td>\n",
       "      <td>0.000000</td>\n",
       "      <td>0.000000</td>\n",
       "      <td>0.000000</td>\n",
       "      <td>0.000000</td>\n",
       "    </tr>\n",
       "    <tr>\n",
       "      <th>25%</th>\n",
       "      <td>0.253165</td>\n",
       "      <td>0.000000</td>\n",
       "      <td>0.000000</td>\n",
       "      <td>0.000000</td>\n",
       "      <td>0.000000</td>\n",
       "      <td>0.000000</td>\n",
       "      <td>0.000000</td>\n",
       "    </tr>\n",
       "    <tr>\n",
       "      <th>50%</th>\n",
       "      <td>0.341772</td>\n",
       "      <td>0.000000</td>\n",
       "      <td>0.000000</td>\n",
       "      <td>0.000000</td>\n",
       "      <td>0.000000</td>\n",
       "      <td>0.000000</td>\n",
       "      <td>1.000000</td>\n",
       "    </tr>\n",
       "    <tr>\n",
       "      <th>75%</th>\n",
       "      <td>0.481013</td>\n",
       "      <td>0.003420</td>\n",
       "      <td>0.002532</td>\n",
       "      <td>0.001320</td>\n",
       "      <td>0.002722</td>\n",
       "      <td>0.002072</td>\n",
       "      <td>1.000000</td>\n",
       "    </tr>\n",
       "    <tr>\n",
       "      <th>max</th>\n",
       "      <td>1.000000</td>\n",
       "      <td>1.000000</td>\n",
       "      <td>1.000000</td>\n",
       "      <td>1.000000</td>\n",
       "      <td>1.000000</td>\n",
       "      <td>1.000000</td>\n",
       "      <td>1.000000</td>\n",
       "    </tr>\n",
       "  </tbody>\n",
       "</table>\n",
       "</div>"
      ],
      "text/plain": [
       "               Age  RoomService    FoodCourt  ShoppingMall          Spa  \\\n",
       "count  7823.000000  7823.000000  7823.000000   7823.000000  7823.000000   \n",
       "mean      0.365519     0.015769     0.015192      0.007292     0.013540   \n",
       "std       0.181502     0.047132     0.053975      0.025210     0.050139   \n",
       "min       0.000000     0.000000     0.000000      0.000000     0.000000   \n",
       "25%       0.253165     0.000000     0.000000      0.000000     0.000000   \n",
       "50%       0.341772     0.000000     0.000000      0.000000     0.000000   \n",
       "75%       0.481013     0.003420     0.002532      0.001320     0.002722   \n",
       "max       1.000000     1.000000     1.000000      1.000000     1.000000   \n",
       "\n",
       "            VRDeck  Transported  \n",
       "count  7823.000000  7823.000000  \n",
       "mean      0.012136     0.506711  \n",
       "std       0.044883     0.499987  \n",
       "min       0.000000     0.000000  \n",
       "25%       0.000000     0.000000  \n",
       "50%       0.000000     1.000000  \n",
       "75%       0.002072     1.000000  \n",
       "max       1.000000     1.000000  "
      ]
     },
     "execution_count": 34,
     "metadata": {},
     "output_type": "execute_result"
    }
   ],
   "source": [
    "train_2.describe()"
   ]
  },
  {
   "cell_type": "code",
   "execution_count": 35,
   "metadata": {},
   "outputs": [
    {
     "name": "stdout",
     "output_type": "stream",
     "text": [
      "<class 'pandas.core.frame.DataFrame'>\n",
      "Int64Index: 7823 entries, 3430 to 7624\n",
      "Data columns (total 13 columns):\n",
      " #   Column        Non-Null Count  Dtype  \n",
      "---  ------        --------------  -----  \n",
      " 0   HomePlanet    7823 non-null   object \n",
      " 1   CryoSleep     7823 non-null   bool   \n",
      " 2   Cabin         7639 non-null   object \n",
      " 3   Destination   7823 non-null   object \n",
      " 4   Age           7823 non-null   float64\n",
      " 5   VIP           7823 non-null   bool   \n",
      " 6   RoomService   7823 non-null   float64\n",
      " 7   FoodCourt     7823 non-null   float64\n",
      " 8   ShoppingMall  7823 non-null   float64\n",
      " 9   Spa           7823 non-null   float64\n",
      " 10  VRDeck        7823 non-null   float64\n",
      " 11  Name          7639 non-null   object \n",
      " 12  Transported   7823 non-null   float64\n",
      "dtypes: bool(2), float64(7), object(4)\n",
      "memory usage: 1006.7+ KB\n"
     ]
    },
    {
     "data": {
      "text/plain": [
       "Earth     4293\n",
       "Europa    1935\n",
       "Mars      1595\n",
       "Name: HomePlanet, dtype: int64"
      ]
     },
     "execution_count": 35,
     "metadata": {},
     "output_type": "execute_result"
    }
   ],
   "source": [
    "###Se imputan las variables categoricas para VIP y CryoSleep\n",
    "# import modules\n",
    "from numpy import isnan\n",
    "from sklearn.impute import SimpleImputer\n",
    " \n",
    "# defining the imputer\n",
    "imputer = SimpleImputer(strategy='most_frequent')\n",
    "\n",
    "label_columns=['VIP','CryoSleep','HomePlanet','Destination']\n",
    " \n",
    "# transform the dataset\n",
    "train_2[label_columns] = imputer.fit_transform(train_2[label_columns])\n",
    "   \n",
    "# count the number of NaN values in each column\n",
    "train_2.info()\n",
    "train_2['HomePlanet'].value_counts()"
   ]
  },
  {
   "cell_type": "code",
   "execution_count": 36,
   "metadata": {},
   "outputs": [
    {
     "name": "stdout",
     "output_type": "stream",
     "text": [
      "Cabin\n",
      "Name\n",
      "Index(['HomePlanet', 'CryoSleep', 'Destination', 'Age', 'VIP', 'RoomService',\n",
      "       'FoodCourt', 'ShoppingMall', 'Spa', 'VRDeck', 'Transported'],\n",
      "      dtype='object')\n"
     ]
    },
    {
     "data": {
      "text/html": [
       "<div>\n",
       "<style scoped>\n",
       "    .dataframe tbody tr th:only-of-type {\n",
       "        vertical-align: middle;\n",
       "    }\n",
       "\n",
       "    .dataframe tbody tr th {\n",
       "        vertical-align: top;\n",
       "    }\n",
       "\n",
       "    .dataframe thead th {\n",
       "        text-align: right;\n",
       "    }\n",
       "</style>\n",
       "<table border=\"1\" class=\"dataframe\">\n",
       "  <thead>\n",
       "    <tr style=\"text-align: right;\">\n",
       "      <th></th>\n",
       "      <th>HomePlanet</th>\n",
       "      <th>CryoSleep</th>\n",
       "      <th>Destination</th>\n",
       "      <th>Age</th>\n",
       "      <th>VIP</th>\n",
       "      <th>RoomService</th>\n",
       "      <th>FoodCourt</th>\n",
       "      <th>ShoppingMall</th>\n",
       "      <th>Spa</th>\n",
       "      <th>VRDeck</th>\n",
       "      <th>Transported</th>\n",
       "    </tr>\n",
       "    <tr>\n",
       "      <th>PassengerId</th>\n",
       "      <th></th>\n",
       "      <th></th>\n",
       "      <th></th>\n",
       "      <th></th>\n",
       "      <th></th>\n",
       "      <th></th>\n",
       "      <th></th>\n",
       "      <th></th>\n",
       "      <th></th>\n",
       "      <th></th>\n",
       "      <th></th>\n",
       "    </tr>\n",
       "  </thead>\n",
       "  <tbody>\n",
       "    <tr>\n",
       "      <th>3430</th>\n",
       "      <td>1</td>\n",
       "      <td>0</td>\n",
       "      <td>2</td>\n",
       "      <td>0.721519</td>\n",
       "      <td>0</td>\n",
       "      <td>0.000000</td>\n",
       "      <td>0.129440</td>\n",
       "      <td>0.000553</td>\n",
       "      <td>0.008702</td>\n",
       "      <td>0.160527</td>\n",
       "      <td>0.0</td>\n",
       "    </tr>\n",
       "    <tr>\n",
       "      <th>669</th>\n",
       "      <td>2</td>\n",
       "      <td>1</td>\n",
       "      <td>2</td>\n",
       "      <td>0.227848</td>\n",
       "      <td>0</td>\n",
       "      <td>0.000000</td>\n",
       "      <td>0.000000</td>\n",
       "      <td>0.000000</td>\n",
       "      <td>0.000000</td>\n",
       "      <td>0.000000</td>\n",
       "      <td>1.0</td>\n",
       "    </tr>\n",
       "    <tr>\n",
       "      <th>8430</th>\n",
       "      <td>1</td>\n",
       "      <td>1</td>\n",
       "      <td>2</td>\n",
       "      <td>0.417722</td>\n",
       "      <td>0</td>\n",
       "      <td>0.000000</td>\n",
       "      <td>0.000000</td>\n",
       "      <td>0.000000</td>\n",
       "      <td>0.000000</td>\n",
       "      <td>0.000000</td>\n",
       "      <td>1.0</td>\n",
       "    </tr>\n",
       "    <tr>\n",
       "      <th>6463</th>\n",
       "      <td>0</td>\n",
       "      <td>0</td>\n",
       "      <td>2</td>\n",
       "      <td>0.544304</td>\n",
       "      <td>0</td>\n",
       "      <td>0.009911</td>\n",
       "      <td>0.040519</td>\n",
       "      <td>0.000000</td>\n",
       "      <td>0.000000</td>\n",
       "      <td>0.008453</td>\n",
       "      <td>0.0</td>\n",
       "    </tr>\n",
       "    <tr>\n",
       "      <th>85</th>\n",
       "      <td>0</td>\n",
       "      <td>0</td>\n",
       "      <td>2</td>\n",
       "      <td>0.240506</td>\n",
       "      <td>0</td>\n",
       "      <td>0.000000</td>\n",
       "      <td>0.000000</td>\n",
       "      <td>0.028520</td>\n",
       "      <td>0.000045</td>\n",
       "      <td>0.001409</td>\n",
       "      <td>0.0</td>\n",
       "    </tr>\n",
       "    <tr>\n",
       "      <th>...</th>\n",
       "      <td>...</td>\n",
       "      <td>...</td>\n",
       "      <td>...</td>\n",
       "      <td>...</td>\n",
       "      <td>...</td>\n",
       "      <td>...</td>\n",
       "      <td>...</td>\n",
       "      <td>...</td>\n",
       "      <td>...</td>\n",
       "      <td>...</td>\n",
       "      <td>...</td>\n",
       "    </tr>\n",
       "    <tr>\n",
       "      <th>6528</th>\n",
       "      <td>2</td>\n",
       "      <td>0</td>\n",
       "      <td>2</td>\n",
       "      <td>0.151899</td>\n",
       "      <td>0</td>\n",
       "      <td>0.000000</td>\n",
       "      <td>0.000000</td>\n",
       "      <td>0.000000</td>\n",
       "      <td>0.000000</td>\n",
       "      <td>0.000000</td>\n",
       "      <td>1.0</td>\n",
       "    </tr>\n",
       "    <tr>\n",
       "      <th>2693</th>\n",
       "      <td>0</td>\n",
       "      <td>0</td>\n",
       "      <td>2</td>\n",
       "      <td>0.556962</td>\n",
       "      <td>0</td>\n",
       "      <td>0.000000</td>\n",
       "      <td>0.000000</td>\n",
       "      <td>0.031670</td>\n",
       "      <td>0.002767</td>\n",
       "      <td>0.000124</td>\n",
       "      <td>0.0</td>\n",
       "    </tr>\n",
       "    <tr>\n",
       "      <th>8076</th>\n",
       "      <td>2</td>\n",
       "      <td>1</td>\n",
       "      <td>2</td>\n",
       "      <td>0.696203</td>\n",
       "      <td>0</td>\n",
       "      <td>0.000000</td>\n",
       "      <td>0.000000</td>\n",
       "      <td>0.000000</td>\n",
       "      <td>0.000000</td>\n",
       "      <td>0.000000</td>\n",
       "      <td>1.0</td>\n",
       "    </tr>\n",
       "    <tr>\n",
       "      <th>3829</th>\n",
       "      <td>0</td>\n",
       "      <td>0</td>\n",
       "      <td>2</td>\n",
       "      <td>0.189873</td>\n",
       "      <td>0</td>\n",
       "      <td>0.000000</td>\n",
       "      <td>0.028176</td>\n",
       "      <td>0.005236</td>\n",
       "      <td>0.000000</td>\n",
       "      <td>0.000829</td>\n",
       "      <td>0.0</td>\n",
       "    </tr>\n",
       "    <tr>\n",
       "      <th>7624</th>\n",
       "      <td>1</td>\n",
       "      <td>1</td>\n",
       "      <td>0</td>\n",
       "      <td>0.569620</td>\n",
       "      <td>0</td>\n",
       "      <td>0.000000</td>\n",
       "      <td>0.000000</td>\n",
       "      <td>0.000000</td>\n",
       "      <td>0.000000</td>\n",
       "      <td>0.000000</td>\n",
       "      <td>1.0</td>\n",
       "    </tr>\n",
       "  </tbody>\n",
       "</table>\n",
       "<p>7823 rows × 11 columns</p>\n",
       "</div>"
      ],
      "text/plain": [
       "             HomePlanet  CryoSleep  Destination       Age  VIP  RoomService  \\\n",
       "PassengerId                                                                   \n",
       "3430                  1          0            2  0.721519    0     0.000000   \n",
       "669                   2          1            2  0.227848    0     0.000000   \n",
       "8430                  1          1            2  0.417722    0     0.000000   \n",
       "6463                  0          0            2  0.544304    0     0.009911   \n",
       "85                    0          0            2  0.240506    0     0.000000   \n",
       "...                 ...        ...          ...       ...  ...          ...   \n",
       "6528                  2          0            2  0.151899    0     0.000000   \n",
       "2693                  0          0            2  0.556962    0     0.000000   \n",
       "8076                  2          1            2  0.696203    0     0.000000   \n",
       "3829                  0          0            2  0.189873    0     0.000000   \n",
       "7624                  1          1            0  0.569620    0     0.000000   \n",
       "\n",
       "             FoodCourt  ShoppingMall       Spa    VRDeck  Transported  \n",
       "PassengerId                                                            \n",
       "3430          0.129440      0.000553  0.008702  0.160527          0.0  \n",
       "669           0.000000      0.000000  0.000000  0.000000          1.0  \n",
       "8430          0.000000      0.000000  0.000000  0.000000          1.0  \n",
       "6463          0.040519      0.000000  0.000000  0.008453          0.0  \n",
       "85            0.000000      0.028520  0.000045  0.001409          0.0  \n",
       "...                ...           ...       ...       ...          ...  \n",
       "6528          0.000000      0.000000  0.000000  0.000000          1.0  \n",
       "2693          0.000000      0.031670  0.002767  0.000124          0.0  \n",
       "8076          0.000000      0.000000  0.000000  0.000000          1.0  \n",
       "3829          0.028176      0.005236  0.000000  0.000829          0.0  \n",
       "7624          0.000000      0.000000  0.000000  0.000000          1.0  \n",
       "\n",
       "[7823 rows x 11 columns]"
      ]
     },
     "execution_count": 36,
     "metadata": {},
     "output_type": "execute_result"
    }
   ],
   "source": [
    "# elijo y transformo algunas variables (en su análisis fundamente sus decisiones)\n",
    "for var in train_2:\n",
    "    if train_2[var].dtype == 'object':\n",
    "        unique_cases = train_2[var].unique()\n",
    "        if len(unique_cases) > 5:\n",
    "            print(var)\n",
    "            train_2.drop(var, inplace=True, axis=1)\n",
    "\n",
    "print(train_2.columns)\n",
    "label_cols = [\"HomePlanet\", \"CryoSleep\", \"Destination\" ,\"VIP\"]\n",
    "\n",
    "for col in label_cols:\n",
    "    train_2[col] = train_2[col].astype(str)\n",
    "    train_2[col] = LabelEncoder().fit_transform(train_2[col])\n",
    "\n",
    "train_2_names = train_2.columns\n",
    "train_2\n",
    "#X = StandardScaler().fit_transform(X)\n",
    "#X = pd.DataFrame(X, columns=x_names)\n",
    "#X"
   ]
  },
  {
   "cell_type": "code",
   "execution_count": 37,
   "metadata": {},
   "outputs": [],
   "source": [
    "# one hot encoding\n",
    "from numpy import asarray\n",
    "from sklearn.preprocessing import OneHotEncoder\n",
    "# define one hot encoding\n",
    "encoder = OneHotEncoder(sparse=False)\n",
    "# transform data\n",
    "onehotencoder= encoder.fit_transform(train_2[label_cols])"
   ]
  },
  {
   "cell_type": "code",
   "execution_count": 38,
   "metadata": {},
   "outputs": [
    {
     "name": "stderr",
     "output_type": "stream",
     "text": [
      "C:\\Users\\Varios\\anaconda3\\lib\\site-packages\\sklearn\\utils\\deprecation.py:87: FutureWarning: Function get_feature_names is deprecated; get_feature_names is deprecated in 1.0 and will be removed in 1.2. Please use get_feature_names_out instead.\n",
      "  warnings.warn(msg, category=FutureWarning)\n"
     ]
    },
    {
     "data": {
      "text/html": [
       "<div>\n",
       "<style scoped>\n",
       "    .dataframe tbody tr th:only-of-type {\n",
       "        vertical-align: middle;\n",
       "    }\n",
       "\n",
       "    .dataframe tbody tr th {\n",
       "        vertical-align: top;\n",
       "    }\n",
       "\n",
       "    .dataframe thead th {\n",
       "        text-align: right;\n",
       "    }\n",
       "</style>\n",
       "<table border=\"1\" class=\"dataframe\">\n",
       "  <thead>\n",
       "    <tr style=\"text-align: right;\">\n",
       "      <th></th>\n",
       "      <th>Age</th>\n",
       "      <th>RoomService</th>\n",
       "      <th>FoodCourt</th>\n",
       "      <th>ShoppingMall</th>\n",
       "      <th>Spa</th>\n",
       "      <th>VRDeck</th>\n",
       "      <th>Transported</th>\n",
       "      <th>HomePlanet_0</th>\n",
       "      <th>HomePlanet_1</th>\n",
       "      <th>HomePlanet_2</th>\n",
       "      <th>CryoSleep_0</th>\n",
       "      <th>CryoSleep_1</th>\n",
       "      <th>Destination_0</th>\n",
       "      <th>Destination_1</th>\n",
       "      <th>Destination_2</th>\n",
       "      <th>VIP_0</th>\n",
       "      <th>VIP_1</th>\n",
       "    </tr>\n",
       "  </thead>\n",
       "  <tbody>\n",
       "    <tr>\n",
       "      <th>0</th>\n",
       "      <td>0.721519</td>\n",
       "      <td>0.000000</td>\n",
       "      <td>0.129440</td>\n",
       "      <td>0.000553</td>\n",
       "      <td>0.008702</td>\n",
       "      <td>0.160527</td>\n",
       "      <td>0.0</td>\n",
       "      <td>0.0</td>\n",
       "      <td>1.0</td>\n",
       "      <td>0.0</td>\n",
       "      <td>1.0</td>\n",
       "      <td>0.0</td>\n",
       "      <td>0.0</td>\n",
       "      <td>0.0</td>\n",
       "      <td>1.0</td>\n",
       "      <td>1.0</td>\n",
       "      <td>0.0</td>\n",
       "    </tr>\n",
       "    <tr>\n",
       "      <th>1</th>\n",
       "      <td>0.227848</td>\n",
       "      <td>0.000000</td>\n",
       "      <td>0.000000</td>\n",
       "      <td>0.000000</td>\n",
       "      <td>0.000000</td>\n",
       "      <td>0.000000</td>\n",
       "      <td>1.0</td>\n",
       "      <td>0.0</td>\n",
       "      <td>0.0</td>\n",
       "      <td>1.0</td>\n",
       "      <td>0.0</td>\n",
       "      <td>1.0</td>\n",
       "      <td>0.0</td>\n",
       "      <td>0.0</td>\n",
       "      <td>1.0</td>\n",
       "      <td>1.0</td>\n",
       "      <td>0.0</td>\n",
       "    </tr>\n",
       "    <tr>\n",
       "      <th>2</th>\n",
       "      <td>0.417722</td>\n",
       "      <td>0.000000</td>\n",
       "      <td>0.000000</td>\n",
       "      <td>0.000000</td>\n",
       "      <td>0.000000</td>\n",
       "      <td>0.000000</td>\n",
       "      <td>1.0</td>\n",
       "      <td>0.0</td>\n",
       "      <td>1.0</td>\n",
       "      <td>0.0</td>\n",
       "      <td>0.0</td>\n",
       "      <td>1.0</td>\n",
       "      <td>0.0</td>\n",
       "      <td>0.0</td>\n",
       "      <td>1.0</td>\n",
       "      <td>1.0</td>\n",
       "      <td>0.0</td>\n",
       "    </tr>\n",
       "    <tr>\n",
       "      <th>3</th>\n",
       "      <td>0.544304</td>\n",
       "      <td>0.009911</td>\n",
       "      <td>0.040519</td>\n",
       "      <td>0.000000</td>\n",
       "      <td>0.000000</td>\n",
       "      <td>0.008453</td>\n",
       "      <td>0.0</td>\n",
       "      <td>1.0</td>\n",
       "      <td>0.0</td>\n",
       "      <td>0.0</td>\n",
       "      <td>1.0</td>\n",
       "      <td>0.0</td>\n",
       "      <td>0.0</td>\n",
       "      <td>0.0</td>\n",
       "      <td>1.0</td>\n",
       "      <td>1.0</td>\n",
       "      <td>0.0</td>\n",
       "    </tr>\n",
       "    <tr>\n",
       "      <th>4</th>\n",
       "      <td>0.240506</td>\n",
       "      <td>0.000000</td>\n",
       "      <td>0.000000</td>\n",
       "      <td>0.028520</td>\n",
       "      <td>0.000045</td>\n",
       "      <td>0.001409</td>\n",
       "      <td>0.0</td>\n",
       "      <td>1.0</td>\n",
       "      <td>0.0</td>\n",
       "      <td>0.0</td>\n",
       "      <td>1.0</td>\n",
       "      <td>0.0</td>\n",
       "      <td>0.0</td>\n",
       "      <td>0.0</td>\n",
       "      <td>1.0</td>\n",
       "      <td>1.0</td>\n",
       "      <td>0.0</td>\n",
       "    </tr>\n",
       "    <tr>\n",
       "      <th>...</th>\n",
       "      <td>...</td>\n",
       "      <td>...</td>\n",
       "      <td>...</td>\n",
       "      <td>...</td>\n",
       "      <td>...</td>\n",
       "      <td>...</td>\n",
       "      <td>...</td>\n",
       "      <td>...</td>\n",
       "      <td>...</td>\n",
       "      <td>...</td>\n",
       "      <td>...</td>\n",
       "      <td>...</td>\n",
       "      <td>...</td>\n",
       "      <td>...</td>\n",
       "      <td>...</td>\n",
       "      <td>...</td>\n",
       "      <td>...</td>\n",
       "    </tr>\n",
       "    <tr>\n",
       "      <th>7818</th>\n",
       "      <td>0.151899</td>\n",
       "      <td>0.000000</td>\n",
       "      <td>0.000000</td>\n",
       "      <td>0.000000</td>\n",
       "      <td>0.000000</td>\n",
       "      <td>0.000000</td>\n",
       "      <td>1.0</td>\n",
       "      <td>0.0</td>\n",
       "      <td>0.0</td>\n",
       "      <td>1.0</td>\n",
       "      <td>1.0</td>\n",
       "      <td>0.0</td>\n",
       "      <td>0.0</td>\n",
       "      <td>0.0</td>\n",
       "      <td>1.0</td>\n",
       "      <td>1.0</td>\n",
       "      <td>0.0</td>\n",
       "    </tr>\n",
       "    <tr>\n",
       "      <th>7819</th>\n",
       "      <td>0.556962</td>\n",
       "      <td>0.000000</td>\n",
       "      <td>0.000000</td>\n",
       "      <td>0.031670</td>\n",
       "      <td>0.002767</td>\n",
       "      <td>0.000124</td>\n",
       "      <td>0.0</td>\n",
       "      <td>1.0</td>\n",
       "      <td>0.0</td>\n",
       "      <td>0.0</td>\n",
       "      <td>1.0</td>\n",
       "      <td>0.0</td>\n",
       "      <td>0.0</td>\n",
       "      <td>0.0</td>\n",
       "      <td>1.0</td>\n",
       "      <td>1.0</td>\n",
       "      <td>0.0</td>\n",
       "    </tr>\n",
       "    <tr>\n",
       "      <th>7820</th>\n",
       "      <td>0.696203</td>\n",
       "      <td>0.000000</td>\n",
       "      <td>0.000000</td>\n",
       "      <td>0.000000</td>\n",
       "      <td>0.000000</td>\n",
       "      <td>0.000000</td>\n",
       "      <td>1.0</td>\n",
       "      <td>0.0</td>\n",
       "      <td>0.0</td>\n",
       "      <td>1.0</td>\n",
       "      <td>0.0</td>\n",
       "      <td>1.0</td>\n",
       "      <td>0.0</td>\n",
       "      <td>0.0</td>\n",
       "      <td>1.0</td>\n",
       "      <td>1.0</td>\n",
       "      <td>0.0</td>\n",
       "    </tr>\n",
       "    <tr>\n",
       "      <th>7821</th>\n",
       "      <td>0.189873</td>\n",
       "      <td>0.000000</td>\n",
       "      <td>0.028176</td>\n",
       "      <td>0.005236</td>\n",
       "      <td>0.000000</td>\n",
       "      <td>0.000829</td>\n",
       "      <td>0.0</td>\n",
       "      <td>1.0</td>\n",
       "      <td>0.0</td>\n",
       "      <td>0.0</td>\n",
       "      <td>1.0</td>\n",
       "      <td>0.0</td>\n",
       "      <td>0.0</td>\n",
       "      <td>0.0</td>\n",
       "      <td>1.0</td>\n",
       "      <td>1.0</td>\n",
       "      <td>0.0</td>\n",
       "    </tr>\n",
       "    <tr>\n",
       "      <th>7822</th>\n",
       "      <td>0.569620</td>\n",
       "      <td>0.000000</td>\n",
       "      <td>0.000000</td>\n",
       "      <td>0.000000</td>\n",
       "      <td>0.000000</td>\n",
       "      <td>0.000000</td>\n",
       "      <td>1.0</td>\n",
       "      <td>0.0</td>\n",
       "      <td>1.0</td>\n",
       "      <td>0.0</td>\n",
       "      <td>0.0</td>\n",
       "      <td>1.0</td>\n",
       "      <td>1.0</td>\n",
       "      <td>0.0</td>\n",
       "      <td>0.0</td>\n",
       "      <td>1.0</td>\n",
       "      <td>0.0</td>\n",
       "    </tr>\n",
       "  </tbody>\n",
       "</table>\n",
       "<p>7823 rows × 17 columns</p>\n",
       "</div>"
      ],
      "text/plain": [
       "           Age  RoomService  FoodCourt  ShoppingMall       Spa    VRDeck  \\\n",
       "0     0.721519     0.000000   0.129440      0.000553  0.008702  0.160527   \n",
       "1     0.227848     0.000000   0.000000      0.000000  0.000000  0.000000   \n",
       "2     0.417722     0.000000   0.000000      0.000000  0.000000  0.000000   \n",
       "3     0.544304     0.009911   0.040519      0.000000  0.000000  0.008453   \n",
       "4     0.240506     0.000000   0.000000      0.028520  0.000045  0.001409   \n",
       "...        ...          ...        ...           ...       ...       ...   \n",
       "7818  0.151899     0.000000   0.000000      0.000000  0.000000  0.000000   \n",
       "7819  0.556962     0.000000   0.000000      0.031670  0.002767  0.000124   \n",
       "7820  0.696203     0.000000   0.000000      0.000000  0.000000  0.000000   \n",
       "7821  0.189873     0.000000   0.028176      0.005236  0.000000  0.000829   \n",
       "7822  0.569620     0.000000   0.000000      0.000000  0.000000  0.000000   \n",
       "\n",
       "      Transported  HomePlanet_0  HomePlanet_1  HomePlanet_2  CryoSleep_0  \\\n",
       "0             0.0           0.0           1.0           0.0          1.0   \n",
       "1             1.0           0.0           0.0           1.0          0.0   \n",
       "2             1.0           0.0           1.0           0.0          0.0   \n",
       "3             0.0           1.0           0.0           0.0          1.0   \n",
       "4             0.0           1.0           0.0           0.0          1.0   \n",
       "...           ...           ...           ...           ...          ...   \n",
       "7818          1.0           0.0           0.0           1.0          1.0   \n",
       "7819          0.0           1.0           0.0           0.0          1.0   \n",
       "7820          1.0           0.0           0.0           1.0          0.0   \n",
       "7821          0.0           1.0           0.0           0.0          1.0   \n",
       "7822          1.0           0.0           1.0           0.0          0.0   \n",
       "\n",
       "      CryoSleep_1  Destination_0  Destination_1  Destination_2  VIP_0  VIP_1  \n",
       "0             0.0            0.0            0.0            1.0    1.0    0.0  \n",
       "1             1.0            0.0            0.0            1.0    1.0    0.0  \n",
       "2             1.0            0.0            0.0            1.0    1.0    0.0  \n",
       "3             0.0            0.0            0.0            1.0    1.0    0.0  \n",
       "4             0.0            0.0            0.0            1.0    1.0    0.0  \n",
       "...           ...            ...            ...            ...    ...    ...  \n",
       "7818          0.0            0.0            0.0            1.0    1.0    0.0  \n",
       "7819          0.0            0.0            0.0            1.0    1.0    0.0  \n",
       "7820          1.0            0.0            0.0            1.0    1.0    0.0  \n",
       "7821          0.0            0.0            0.0            1.0    1.0    0.0  \n",
       "7822          1.0            1.0            0.0            0.0    1.0    0.0  \n",
       "\n",
       "[7823 rows x 17 columns]"
      ]
     },
     "execution_count": 38,
     "metadata": {},
     "output_type": "execute_result"
    }
   ],
   "source": [
    "# create object for the feature names using the categorical variables\n",
    "encoder_feature_names = encoder.get_feature_names(label_cols)\n",
    "###\n",
    "# create a dataframe to hold the one hot encoded variables\n",
    "onehot_dataframe = pd.DataFrame(onehotencoder, columns = encoder_feature_names)\n",
    "train_2 = pd.concat([train_2[numerical_columns].reset_index(drop=True), onehot_dataframe.reset_index(drop=True)], axis = 1)\n",
    "train_2"
   ]
  },
  {
   "cell_type": "code",
   "execution_count": 39,
   "metadata": {},
   "outputs": [
    {
     "name": "stdout",
     "output_type": "stream",
     "text": [
      "<class 'pandas.core.frame.DataFrame'>\n",
      "RangeIndex: 7823 entries, 0 to 7822\n",
      "Data columns (total 17 columns):\n",
      " #   Column         Non-Null Count  Dtype  \n",
      "---  ------         --------------  -----  \n",
      " 0   Age            7823 non-null   float64\n",
      " 1   RoomService    7823 non-null   float64\n",
      " 2   FoodCourt      7823 non-null   float64\n",
      " 3   ShoppingMall   7823 non-null   float64\n",
      " 4   Spa            7823 non-null   float64\n",
      " 5   VRDeck         7823 non-null   float64\n",
      " 6   Transported    7823 non-null   float64\n",
      " 7   HomePlanet_0   7823 non-null   float64\n",
      " 8   HomePlanet_1   7823 non-null   float64\n",
      " 9   HomePlanet_2   7823 non-null   float64\n",
      " 10  CryoSleep_0    7823 non-null   float64\n",
      " 11  CryoSleep_1    7823 non-null   float64\n",
      " 12  Destination_0  7823 non-null   float64\n",
      " 13  Destination_1  7823 non-null   float64\n",
      " 14  Destination_2  7823 non-null   float64\n",
      " 15  VIP_0          7823 non-null   float64\n",
      " 16  VIP_1          7823 non-null   float64\n",
      "dtypes: float64(17)\n",
      "memory usage: 1.0 MB\n"
     ]
    }
   ],
   "source": [
    "train_2.info()"
   ]
  },
  {
   "cell_type": "code",
   "execution_count": 40,
   "metadata": {},
   "outputs": [
    {
     "data": {
      "text/plain": [
       "Index(['Age', 'RoomService', 'FoodCourt', 'ShoppingMall', 'Spa', 'VRDeck',\n",
       "       'Transported', 'HomePlanet_0', 'HomePlanet_1', 'HomePlanet_2',\n",
       "       'CryoSleep_0', 'CryoSleep_1', 'Destination_0', 'Destination_1',\n",
       "       'Destination_2', 'VIP_0', 'VIP_1'],\n",
       "      dtype='object')"
      ]
     },
     "execution_count": 40,
     "metadata": {},
     "output_type": "execute_result"
    }
   ],
   "source": [
    "train_2.columns"
   ]
  },
  {
   "cell_type": "code",
   "execution_count": 41,
   "metadata": {},
   "outputs": [
    {
     "data": {
      "text/html": [
       "<div>\n",
       "<style scoped>\n",
       "    .dataframe tbody tr th:only-of-type {\n",
       "        vertical-align: middle;\n",
       "    }\n",
       "\n",
       "    .dataframe tbody tr th {\n",
       "        vertical-align: top;\n",
       "    }\n",
       "\n",
       "    .dataframe thead th {\n",
       "        text-align: right;\n",
       "    }\n",
       "</style>\n",
       "<table border=\"1\" class=\"dataframe\">\n",
       "  <thead>\n",
       "    <tr style=\"text-align: right;\">\n",
       "      <th></th>\n",
       "      <th>Age</th>\n",
       "      <th>RoomService</th>\n",
       "      <th>FoodCourt</th>\n",
       "      <th>ShoppingMall</th>\n",
       "      <th>Spa</th>\n",
       "      <th>VRDeck</th>\n",
       "      <th>Transported</th>\n",
       "    </tr>\n",
       "  </thead>\n",
       "  <tbody>\n",
       "    <tr>\n",
       "      <th>count</th>\n",
       "      <td>7661.000000</td>\n",
       "      <td>7669.000000</td>\n",
       "      <td>7668.000000</td>\n",
       "      <td>7635.000000</td>\n",
       "      <td>7665.000000</td>\n",
       "      <td>7654.000000</td>\n",
       "      <td>7823.000000</td>\n",
       "    </tr>\n",
       "    <tr>\n",
       "      <th>mean</th>\n",
       "      <td>0.365562</td>\n",
       "      <td>0.015780</td>\n",
       "      <td>0.015283</td>\n",
       "      <td>0.007347</td>\n",
       "      <td>0.013612</td>\n",
       "      <td>0.012244</td>\n",
       "      <td>0.506711</td>\n",
       "    </tr>\n",
       "    <tr>\n",
       "      <th>std</th>\n",
       "      <td>0.183058</td>\n",
       "      <td>0.047406</td>\n",
       "      <td>0.054382</td>\n",
       "      <td>0.025452</td>\n",
       "      <td>0.050581</td>\n",
       "      <td>0.045311</td>\n",
       "      <td>0.499987</td>\n",
       "    </tr>\n",
       "    <tr>\n",
       "      <th>min</th>\n",
       "      <td>0.000000</td>\n",
       "      <td>0.000000</td>\n",
       "      <td>0.000000</td>\n",
       "      <td>0.000000</td>\n",
       "      <td>0.000000</td>\n",
       "      <td>0.000000</td>\n",
       "      <td>0.000000</td>\n",
       "    </tr>\n",
       "    <tr>\n",
       "      <th>25%</th>\n",
       "      <td>0.240506</td>\n",
       "      <td>0.000000</td>\n",
       "      <td>0.000000</td>\n",
       "      <td>0.000000</td>\n",
       "      <td>0.000000</td>\n",
       "      <td>0.000000</td>\n",
       "      <td>0.000000</td>\n",
       "    </tr>\n",
       "    <tr>\n",
       "      <th>50%</th>\n",
       "      <td>0.341772</td>\n",
       "      <td>0.000000</td>\n",
       "      <td>0.000000</td>\n",
       "      <td>0.000000</td>\n",
       "      <td>0.000000</td>\n",
       "      <td>0.000000</td>\n",
       "      <td>1.000000</td>\n",
       "    </tr>\n",
       "    <tr>\n",
       "      <th>75%</th>\n",
       "      <td>0.481013</td>\n",
       "      <td>0.003071</td>\n",
       "      <td>0.002314</td>\n",
       "      <td>0.001192</td>\n",
       "      <td>0.002588</td>\n",
       "      <td>0.001906</td>\n",
       "      <td>1.000000</td>\n",
       "    </tr>\n",
       "    <tr>\n",
       "      <th>max</th>\n",
       "      <td>1.000000</td>\n",
       "      <td>1.000000</td>\n",
       "      <td>1.000000</td>\n",
       "      <td>1.000000</td>\n",
       "      <td>1.000000</td>\n",
       "      <td>1.000000</td>\n",
       "      <td>1.000000</td>\n",
       "    </tr>\n",
       "  </tbody>\n",
       "</table>\n",
       "</div>"
      ],
      "text/plain": [
       "               Age  RoomService    FoodCourt  ShoppingMall          Spa  \\\n",
       "count  7661.000000  7669.000000  7668.000000   7635.000000  7665.000000   \n",
       "mean      0.365562     0.015780     0.015283      0.007347     0.013612   \n",
       "std       0.183058     0.047406     0.054382      0.025452     0.050581   \n",
       "min       0.000000     0.000000     0.000000      0.000000     0.000000   \n",
       "25%       0.240506     0.000000     0.000000      0.000000     0.000000   \n",
       "50%       0.341772     0.000000     0.000000      0.000000     0.000000   \n",
       "75%       0.481013     0.003071     0.002314      0.001192     0.002588   \n",
       "max       1.000000     1.000000     1.000000      1.000000     1.000000   \n",
       "\n",
       "            VRDeck  Transported  \n",
       "count  7654.000000  7823.000000  \n",
       "mean      0.012244     0.506711  \n",
       "std       0.045311     0.499987  \n",
       "min       0.000000     0.000000  \n",
       "25%       0.000000     0.000000  \n",
       "50%       0.000000     1.000000  \n",
       "75%       0.001906     1.000000  \n",
       "max       1.000000     1.000000  "
      ]
     },
     "execution_count": 41,
     "metadata": {},
     "output_type": "execute_result"
    }
   ],
   "source": [
    "train_data.describe()"
   ]
  },
  {
   "cell_type": "code",
   "execution_count": 42,
   "metadata": {},
   "outputs": [
    {
     "data": {
      "text/plain": [
       "0    3585\n",
       "1    2142\n",
       "2    1689\n",
       "3     381\n",
       "4      26\n",
       "Name: cant_var_outl, dtype: int64"
      ]
     },
     "execution_count": 42,
     "metadata": {},
     "output_type": "execute_result"
    },
    {
     "data": {
      "image/png": "[encoded data removed]",
      "text/plain": [
       "<Figure size 1080x720 with 1 Axes>"
      ]
     },
     "metadata": {},
     "output_type": "display_data"
    }
   ],
   "source": [
    "##outliers--Tratamiento\n",
    "q1 = train_2['Age'].quantile(0.25)\n",
    "q3 = train_2['Age'].quantile(0.75)\n",
    "iqr = q3 - q1 \n",
    "################\n",
    "# calculamos límite superior e inferior\n",
    "ls = q3 + 1.5 * iqr\n",
    "li = q1 - 1.5 * iqr\n",
    "# Generamos nueva columna\n",
    "train_2['out_age']=np.where((train_2['Age'] >ls)|(train_2['Age'] < li),1,0)\n",
    "  \n",
    "#outliers\n",
    "q1 = train_2['RoomService'].quantile(0.25)\n",
    "q3 = train_2['RoomService'].quantile(0.75)\n",
    "iqr = q3 - q1 \n",
    "################\n",
    "# calculamos límite superior e inferior\n",
    "ls = q3 + 1.5 * iqr\n",
    "li = q1 - 1.5 * iqr\n",
    "# Generamos nueva columna\n",
    "train_2['out_RoomService']=np.where((train_2['RoomService'] >ls)|(train_2['RoomService'] < li),1,0)\n",
    "train_2  \n",
    "\n",
    "q1 = train_2['FoodCourt'].quantile(0.25)\n",
    "q3 = train_2['FoodCourt'].quantile(0.75)\n",
    "iqr = q3 - q1 \n",
    "################\n",
    "# calculamos límite superior e inferior\n",
    "ls = q3 + 1.5 * iqr\n",
    "li = q1 - 1.5 * iqr\n",
    "# Generamos nueva columna\n",
    "train_2['out_FoodCourt']=np.where((train_2['FoodCourt'] >ls)|(train_2['FoodCourt'] < li),1,0)\n",
    "train_2  \n",
    "\n",
    "q1 = train_2['ShoppingMall'].quantile(0.25)\n",
    "q3 = train_2['ShoppingMall'].quantile(0.75)\n",
    "iqr = q3 - q1 \n",
    "################\n",
    "# calculamos límite superior e inferior\n",
    "ls = q3 + 1.5 * iqr\n",
    "li = q1 - 1.5 * iqr\n",
    "# Generamos nueva columna\n",
    "train_2['out_ShoppingMall']=np.where((train_2['ShoppingMall'] >ls)|(train_2['ShoppingMall'] < li),1,0)\n",
    "train_2 \n",
    "\n",
    "q1 = train_2['Spa'].quantile(0.25)\n",
    "q3 = train_2['Spa'].quantile(0.75)\n",
    "iqr = q3 - q1 \n",
    "################\n",
    "# calculamos límite superior e inferior\n",
    "ls = q3 + 1.5 * iqr\n",
    "li = q1 - 1.5 * iqr\n",
    "# Generamos nueva columna\n",
    "train_2['out_Spa']=np.where((train_2['Spa'] >ls)|(train_2['Spa'] < li),1,0)\n",
    "\n",
    "\n",
    "q1 = train_2['VRDeck'].quantile(0.25)\n",
    "q3 = train_2['VRDeck'].quantile(0.75)\n",
    "iqr = q3 - q1 \n",
    "################\n",
    "# calculamos límite superior e inferior\n",
    "ls = q3 + 1.5 * iqr\n",
    "li = q1 - 1.5 * iqr\n",
    "# Generamos nueva columna\n",
    "train_2['out_VRDeck']=np.where((train_2['VRDeck'] >ls)|(train_2['VRDeck'] < li),1,0)\n",
    "train_2 \n",
    "\n",
    "####\n",
    "train_2['cant_var_outl']= train_2['out_age']+train_2['out_RoomService']+train_2['out_FoodCourt']+train_2['out_ShoppingMall']+train_2['out_VRDeck']\n",
    "##Cantidad de outliers por observación\n",
    "train_2['cant_var_outl'].value_counts()[:10].plot(kind='bar')\n",
    "train_2['cant_var_outl'].value_counts()\n",
    "###"
   ]
  },
  {
   "cell_type": "code",
   "execution_count": 43,
   "metadata": {},
   "outputs": [
    {
     "data": {
      "text/plain": [
       "7797"
      ]
     },
     "execution_count": 43,
     "metadata": {},
     "output_type": "execute_result"
    }
   ],
   "source": [
    "# Se quitan aquellos registros donde se observa que para 4 variables bajo análisis tienen outliers\n",
    "train_2_ =train_2[train_2['cant_var_outl']<4]\n",
    "                                  \n",
    "len(train_2_)"
   ]
  },
  {
   "cell_type": "code",
   "execution_count": 44,
   "metadata": {},
   "outputs": [
    {
     "data": {
      "text/plain": [
       "Index(['Age', 'RoomService', 'FoodCourt', 'ShoppingMall', 'Spa', 'VRDeck',\n",
       "       'Transported', 'HomePlanet_0', 'HomePlanet_1', 'HomePlanet_2',\n",
       "       'CryoSleep_0', 'CryoSleep_1', 'Destination_0', 'Destination_1',\n",
       "       'Destination_2', 'VIP_0', 'VIP_1', 'out_age', 'out_RoomService',\n",
       "       'out_FoodCourt', 'out_ShoppingMall', 'out_Spa', 'out_VRDeck',\n",
       "       'cant_var_outl'],\n",
       "      dtype='object')"
      ]
     },
     "execution_count": 44,
     "metadata": {},
     "output_type": "execute_result"
    }
   ],
   "source": [
    "train_2.columns"
   ]
  },
  {
   "cell_type": "code",
   "execution_count": 45,
   "metadata": {},
   "outputs": [
    {
     "data": {
      "text/plain": [
       "Index(['Age', 'RoomService', 'FoodCourt', 'ShoppingMall', 'Spa', 'VRDeck',\n",
       "       'Transported', 'HomePlanet_0', 'HomePlanet_1', 'HomePlanet_2',\n",
       "       'CryoSleep_0', 'CryoSleep_1', 'Destination_0', 'Destination_1',\n",
       "       'Destination_2', 'VIP_0', 'VIP_1'],\n",
       "      dtype='object')"
      ]
     },
     "execution_count": 45,
     "metadata": {},
     "output_type": "execute_result"
    }
   ],
   "source": [
    "train_2_=train_2_.drop(['out_age', 'out_RoomService', 'out_FoodCourt',\n",
    "       'out_ShoppingMall', 'out_Spa', 'out_VRDeck', 'cant_var_outl'],axis=1)\n",
    "train_2_.columns"
   ]
  },
  {
   "cell_type": "code",
   "execution_count": 46,
   "metadata": {},
   "outputs": [
    {
     "name": "stdout",
     "output_type": "stream",
     "text": [
      "           Age  RoomService  FoodCourt  ShoppingMall       Spa    VRDeck  \\\n",
      "6985  0.556962     0.210093   0.000872      0.000000  0.002767  0.037459   \n",
      "6433  0.164557     0.000070   0.007111      0.035885  0.003481  0.000414   \n",
      "3511  0.164557     0.000000   0.000000      0.000000  0.000000  0.000000   \n",
      "5151  0.291139     0.000000   0.040385      0.001703  0.000000  0.015539   \n",
      "7219  0.607595     0.000000   0.000000      0.000000  0.000000  0.000000   \n",
      "...        ...          ...        ...           ...       ...       ...   \n",
      "2765  0.101266     0.000000   0.000000      0.000000  0.000000  0.000000   \n",
      "7618  0.430380     0.000000   0.020729      0.000000  0.000000  0.451166   \n",
      "4836  0.544304     0.000140   0.178748      0.000000  0.000312  0.000000   \n",
      "5731  0.291139     0.000000   0.036528      0.013239  0.000000  0.000000   \n",
      "6644  0.392405     0.000000   0.031094      0.000000  0.123170  0.000041   \n",
      "\n",
      "      Transported  HomePlanet_0  HomePlanet_1  HomePlanet_2  CryoSleep_0  \\\n",
      "6985          0.0           0.0           1.0           0.0          1.0   \n",
      "6433          1.0           1.0           0.0           0.0          1.0   \n",
      "3511          1.0           1.0           0.0           0.0          1.0   \n",
      "5151          0.0           1.0           0.0           0.0          1.0   \n",
      "7219          1.0           0.0           1.0           0.0          0.0   \n",
      "...           ...           ...           ...           ...          ...   \n",
      "2765          1.0           0.0           0.0           1.0          1.0   \n",
      "7618          0.0           0.0           1.0           0.0          1.0   \n",
      "4836          1.0           0.0           1.0           0.0          1.0   \n",
      "5731          1.0           1.0           0.0           0.0          1.0   \n",
      "6644          0.0           0.0           1.0           0.0          1.0   \n",
      "\n",
      "      CryoSleep_1  Destination_0  Destination_1  Destination_2  VIP_0  VIP_1  \n",
      "6985          0.0            1.0            0.0            0.0    0.0    1.0  \n",
      "6433          0.0            1.0            0.0            0.0    1.0    0.0  \n",
      "3511          0.0            0.0            1.0            0.0    1.0    0.0  \n",
      "5151          0.0            0.0            0.0            1.0    1.0    0.0  \n",
      "7219          1.0            0.0            0.0            1.0    1.0    0.0  \n",
      "...           ...            ...            ...            ...    ...    ...  \n",
      "2765          0.0            0.0            0.0            1.0    1.0    0.0  \n",
      "7618          0.0            1.0            0.0            0.0    0.0    1.0  \n",
      "4836          0.0            0.0            0.0            1.0    1.0    0.0  \n",
      "5731          0.0            0.0            0.0            1.0    1.0    0.0  \n",
      "6644          0.0            0.0            0.0            1.0    1.0    0.0  \n",
      "\n",
      "[7017 rows x 17 columns]\n",
      "           Age  RoomService  FoodCourt  ShoppingMall       Spa    VRDeck  \\\n",
      "24    0.000000     0.000000   0.000000      0.000000  0.000000  0.000000   \n",
      "37    0.402532     0.000000   0.000000      0.000000  0.000000  0.000000   \n",
      "51    0.316456     0.000698   0.000000      0.038651  0.000223  0.000000   \n",
      "54    0.278481     0.008655   0.000000      0.075047  0.000000  0.042017   \n",
      "66    0.569620     0.000000   0.251031      0.019794  0.000625  0.025277   \n",
      "...        ...          ...        ...           ...       ...       ...   \n",
      "7793  0.468354     0.089342   0.000000      0.000043  0.004954  0.016906   \n",
      "7796  0.784810     0.006561   0.008956      0.099651  0.004195  0.000000   \n",
      "7805  0.392405     0.000000   0.000000      0.000000  0.000000  0.000000   \n",
      "7809  0.430380     0.000000   0.000000      0.000000  0.000000  0.000000   \n",
      "7816  0.164557     0.045299   0.000067      0.000000  0.005534  0.005925   \n",
      "\n",
      "      Transported  HomePlanet_0  HomePlanet_1  HomePlanet_2  CryoSleep_0  \\\n",
      "24            1.0           0.0           0.0           1.0          1.0   \n",
      "37            0.0           1.0           0.0           0.0          0.0   \n",
      "51            1.0           1.0           0.0           0.0          1.0   \n",
      "54            0.0           0.0           0.0           1.0          1.0   \n",
      "66            1.0           0.0           1.0           0.0          1.0   \n",
      "...           ...           ...           ...           ...          ...   \n",
      "7793          0.0           0.0           0.0           1.0          1.0   \n",
      "7796          1.0           1.0           0.0           0.0          1.0   \n",
      "7805          1.0           0.0           1.0           0.0          0.0   \n",
      "7809          1.0           1.0           0.0           0.0          0.0   \n",
      "7816          0.0           1.0           0.0           0.0          1.0   \n",
      "\n",
      "      CryoSleep_1  Destination_0  Destination_1  Destination_2  VIP_0  VIP_1  \n",
      "24            0.0            0.0            0.0            1.0    1.0    0.0  \n",
      "37            1.0            0.0            0.0            1.0    1.0    0.0  \n",
      "51            0.0            0.0            0.0            1.0    1.0    0.0  \n",
      "54            0.0            1.0            0.0            0.0    1.0    0.0  \n",
      "66            0.0            0.0            0.0            1.0    1.0    0.0  \n",
      "...           ...            ...            ...            ...    ...    ...  \n",
      "7793          0.0            0.0            0.0            1.0    1.0    0.0  \n",
      "7796          0.0            0.0            0.0            1.0    1.0    0.0  \n",
      "7805          1.0            0.0            0.0            1.0    1.0    0.0  \n",
      "7809          1.0            0.0            0.0            1.0    1.0    0.0  \n",
      "7816          0.0            0.0            0.0            1.0    1.0    0.0  \n",
      "\n",
      "[780 rows x 17 columns]\n"
     ]
    }
   ],
   "source": [
    "part_90 = train_2_.sample(frac = 0.9)\n",
    "rest_part_10 = train_2_.drop(part_90.index)\n",
    "\n",
    "print(part_90)\n",
    "print(rest_part_10)\n",
    "\n",
    "train_2_ =part_90\n",
    "valid_data=rest_part_10"
   ]
  },
  {
   "cell_type": "code",
   "execution_count": 47,
   "metadata": {},
   "outputs": [
    {
     "data": {
      "text/plain": [
       "Index(['Age', 'RoomService', 'FoodCourt', 'ShoppingMall', 'Spa', 'VRDeck',\n",
       "       'HomePlanet_0', 'HomePlanet_1', 'HomePlanet_2', 'CryoSleep_0',\n",
       "       'CryoSleep_1', 'Destination_0', 'Destination_1', 'Destination_2',\n",
       "       'VIP_0', 'VIP_1'],\n",
       "      dtype='object')"
      ]
     },
     "execution_count": 47,
     "metadata": {},
     "output_type": "execute_result"
    }
   ],
   "source": [
    "y = train_2_.Transported \n",
    "X = train_2_.drop(['Transported'],axis=1)\n",
    "X.columns\n",
    "#y"
   ]
  },
  {
   "cell_type": "code",
   "execution_count": 48,
   "metadata": {},
   "outputs": [
    {
     "name": "stdout",
     "output_type": "stream",
     "text": [
      "['Age', 'RoomService', 'FoodCourt', 'ShoppingMall', 'Spa', 'VRDeck', 'Transported']\n"
     ]
    }
   ],
   "source": [
    "print(numerical_columns)"
   ]
  },
  {
   "cell_type": "code",
   "execution_count": 49,
   "metadata": {},
   "outputs": [
    {
     "data": {
      "text/html": [
       "<div>\n",
       "<style scoped>\n",
       "    .dataframe tbody tr th:only-of-type {\n",
       "        vertical-align: middle;\n",
       "    }\n",
       "\n",
       "    .dataframe tbody tr th {\n",
       "        vertical-align: top;\n",
       "    }\n",
       "\n",
       "    .dataframe thead th {\n",
       "        text-align: right;\n",
       "    }\n",
       "</style>\n",
       "<table border=\"1\" class=\"dataframe\">\n",
       "  <thead>\n",
       "    <tr style=\"text-align: right;\">\n",
       "      <th></th>\n",
       "      <th>Age</th>\n",
       "      <th>RoomService</th>\n",
       "      <th>FoodCourt</th>\n",
       "      <th>ShoppingMall</th>\n",
       "      <th>Spa</th>\n",
       "      <th>VRDeck</th>\n",
       "      <th>Transported</th>\n",
       "      <th>HomePlanet_0</th>\n",
       "      <th>HomePlanet_1</th>\n",
       "      <th>HomePlanet_2</th>\n",
       "      <th>CryoSleep_0</th>\n",
       "      <th>CryoSleep_1</th>\n",
       "      <th>Destination_0</th>\n",
       "      <th>Destination_1</th>\n",
       "      <th>Destination_2</th>\n",
       "      <th>VIP_0</th>\n",
       "      <th>VIP_1</th>\n",
       "    </tr>\n",
       "  </thead>\n",
       "  <tbody>\n",
       "    <tr>\n",
       "      <th>count</th>\n",
       "      <td>7017.000000</td>\n",
       "      <td>7017.000000</td>\n",
       "      <td>7017.000000</td>\n",
       "      <td>7017.000000</td>\n",
       "      <td>7017.000000</td>\n",
       "      <td>7017.000000</td>\n",
       "      <td>7017.000000</td>\n",
       "      <td>7017.00000</td>\n",
       "      <td>7017.000000</td>\n",
       "      <td>7017.000000</td>\n",
       "      <td>7017.000000</td>\n",
       "      <td>7017.000000</td>\n",
       "      <td>7017.000000</td>\n",
       "      <td>7017.000000</td>\n",
       "      <td>7017.000000</td>\n",
       "      <td>7017.000000</td>\n",
       "      <td>7017.000000</td>\n",
       "    </tr>\n",
       "    <tr>\n",
       "      <th>mean</th>\n",
       "      <td>0.364511</td>\n",
       "      <td>0.015385</td>\n",
       "      <td>0.014333</td>\n",
       "      <td>0.007123</td>\n",
       "      <td>0.013032</td>\n",
       "      <td>0.012072</td>\n",
       "      <td>0.507909</td>\n",
       "      <td>0.55223</td>\n",
       "      <td>0.245262</td>\n",
       "      <td>0.202508</td>\n",
       "      <td>0.644862</td>\n",
       "      <td>0.355138</td>\n",
       "      <td>0.205643</td>\n",
       "      <td>0.093345</td>\n",
       "      <td>0.701012</td>\n",
       "      <td>0.977341</td>\n",
       "      <td>0.022659</td>\n",
       "    </tr>\n",
       "    <tr>\n",
       "      <th>std</th>\n",
       "      <td>0.181498</td>\n",
       "      <td>0.045706</td>\n",
       "      <td>0.050127</td>\n",
       "      <td>0.025056</td>\n",
       "      <td>0.047954</td>\n",
       "      <td>0.044319</td>\n",
       "      <td>0.499973</td>\n",
       "      <td>0.49730</td>\n",
       "      <td>0.430273</td>\n",
       "      <td>0.401898</td>\n",
       "      <td>0.478589</td>\n",
       "      <td>0.478589</td>\n",
       "      <td>0.404200</td>\n",
       "      <td>0.290936</td>\n",
       "      <td>0.457847</td>\n",
       "      <td>0.148825</td>\n",
       "      <td>0.148825</td>\n",
       "    </tr>\n",
       "    <tr>\n",
       "      <th>min</th>\n",
       "      <td>0.000000</td>\n",
       "      <td>0.000000</td>\n",
       "      <td>0.000000</td>\n",
       "      <td>0.000000</td>\n",
       "      <td>0.000000</td>\n",
       "      <td>0.000000</td>\n",
       "      <td>0.000000</td>\n",
       "      <td>0.00000</td>\n",
       "      <td>0.000000</td>\n",
       "      <td>0.000000</td>\n",
       "      <td>0.000000</td>\n",
       "      <td>0.000000</td>\n",
       "      <td>0.000000</td>\n",
       "      <td>0.000000</td>\n",
       "      <td>0.000000</td>\n",
       "      <td>0.000000</td>\n",
       "      <td>0.000000</td>\n",
       "    </tr>\n",
       "    <tr>\n",
       "      <th>25%</th>\n",
       "      <td>0.253165</td>\n",
       "      <td>0.000000</td>\n",
       "      <td>0.000000</td>\n",
       "      <td>0.000000</td>\n",
       "      <td>0.000000</td>\n",
       "      <td>0.000000</td>\n",
       "      <td>0.000000</td>\n",
       "      <td>0.00000</td>\n",
       "      <td>0.000000</td>\n",
       "      <td>0.000000</td>\n",
       "      <td>0.000000</td>\n",
       "      <td>0.000000</td>\n",
       "      <td>0.000000</td>\n",
       "      <td>0.000000</td>\n",
       "      <td>0.000000</td>\n",
       "      <td>1.000000</td>\n",
       "      <td>0.000000</td>\n",
       "    </tr>\n",
       "    <tr>\n",
       "      <th>50%</th>\n",
       "      <td>0.341772</td>\n",
       "      <td>0.000000</td>\n",
       "      <td>0.000000</td>\n",
       "      <td>0.000000</td>\n",
       "      <td>0.000000</td>\n",
       "      <td>0.000000</td>\n",
       "      <td>1.000000</td>\n",
       "      <td>1.00000</td>\n",
       "      <td>0.000000</td>\n",
       "      <td>0.000000</td>\n",
       "      <td>1.000000</td>\n",
       "      <td>0.000000</td>\n",
       "      <td>0.000000</td>\n",
       "      <td>0.000000</td>\n",
       "      <td>1.000000</td>\n",
       "      <td>1.000000</td>\n",
       "      <td>0.000000</td>\n",
       "    </tr>\n",
       "    <tr>\n",
       "      <th>75%</th>\n",
       "      <td>0.468354</td>\n",
       "      <td>0.003141</td>\n",
       "      <td>0.002080</td>\n",
       "      <td>0.001107</td>\n",
       "      <td>0.002588</td>\n",
       "      <td>0.001740</td>\n",
       "      <td>1.000000</td>\n",
       "      <td>1.00000</td>\n",
       "      <td>0.000000</td>\n",
       "      <td>0.000000</td>\n",
       "      <td>1.000000</td>\n",
       "      <td>1.000000</td>\n",
       "      <td>0.000000</td>\n",
       "      <td>0.000000</td>\n",
       "      <td>1.000000</td>\n",
       "      <td>1.000000</td>\n",
       "      <td>0.000000</td>\n",
       "    </tr>\n",
       "    <tr>\n",
       "      <th>max</th>\n",
       "      <td>1.000000</td>\n",
       "      <td>1.000000</td>\n",
       "      <td>0.899943</td>\n",
       "      <td>1.000000</td>\n",
       "      <td>1.000000</td>\n",
       "      <td>0.842664</td>\n",
       "      <td>1.000000</td>\n",
       "      <td>1.00000</td>\n",
       "      <td>1.000000</td>\n",
       "      <td>1.000000</td>\n",
       "      <td>1.000000</td>\n",
       "      <td>1.000000</td>\n",
       "      <td>1.000000</td>\n",
       "      <td>1.000000</td>\n",
       "      <td>1.000000</td>\n",
       "      <td>1.000000</td>\n",
       "      <td>1.000000</td>\n",
       "    </tr>\n",
       "  </tbody>\n",
       "</table>\n",
       "</div>"
      ],
      "text/plain": [
       "               Age  RoomService    FoodCourt  ShoppingMall          Spa  \\\n",
       "count  7017.000000  7017.000000  7017.000000   7017.000000  7017.000000   \n",
       "mean      0.364511     0.015385     0.014333      0.007123     0.013032   \n",
       "std       0.181498     0.045706     0.050127      0.025056     0.047954   \n",
       "min       0.000000     0.000000     0.000000      0.000000     0.000000   \n",
       "25%       0.253165     0.000000     0.000000      0.000000     0.000000   \n",
       "50%       0.341772     0.000000     0.000000      0.000000     0.000000   \n",
       "75%       0.468354     0.003141     0.002080      0.001107     0.002588   \n",
       "max       1.000000     1.000000     0.899943      1.000000     1.000000   \n",
       "\n",
       "            VRDeck  Transported  HomePlanet_0  HomePlanet_1  HomePlanet_2  \\\n",
       "count  7017.000000  7017.000000    7017.00000   7017.000000   7017.000000   \n",
       "mean      0.012072     0.507909       0.55223      0.245262      0.202508   \n",
       "std       0.044319     0.499973       0.49730      0.430273      0.401898   \n",
       "min       0.000000     0.000000       0.00000      0.000000      0.000000   \n",
       "25%       0.000000     0.000000       0.00000      0.000000      0.000000   \n",
       "50%       0.000000     1.000000       1.00000      0.000000      0.000000   \n",
       "75%       0.001740     1.000000       1.00000      0.000000      0.000000   \n",
       "max       0.842664     1.000000       1.00000      1.000000      1.000000   \n",
       "\n",
       "       CryoSleep_0  CryoSleep_1  Destination_0  Destination_1  Destination_2  \\\n",
       "count  7017.000000  7017.000000    7017.000000    7017.000000    7017.000000   \n",
       "mean      0.644862     0.355138       0.205643       0.093345       0.701012   \n",
       "std       0.478589     0.478589       0.404200       0.290936       0.457847   \n",
       "min       0.000000     0.000000       0.000000       0.000000       0.000000   \n",
       "25%       0.000000     0.000000       0.000000       0.000000       0.000000   \n",
       "50%       1.000000     0.000000       0.000000       0.000000       1.000000   \n",
       "75%       1.000000     1.000000       0.000000       0.000000       1.000000   \n",
       "max       1.000000     1.000000       1.000000       1.000000       1.000000   \n",
       "\n",
       "             VIP_0        VIP_1  \n",
       "count  7017.000000  7017.000000  \n",
       "mean      0.977341     0.022659  \n",
       "std       0.148825     0.148825  \n",
       "min       0.000000     0.000000  \n",
       "25%       1.000000     0.000000  \n",
       "50%       1.000000     0.000000  \n",
       "75%       1.000000     0.000000  \n",
       "max       1.000000     1.000000  "
      ]
     },
     "execution_count": 49,
     "metadata": {},
     "output_type": "execute_result"
    }
   ],
   "source": [
    "train_2_.describe()"
   ]
  },
  {
   "cell_type": "code",
   "execution_count": 50,
   "metadata": {},
   "outputs": [],
   "source": [
    "x_train, x_test, y_train, y_test = train_test_split(X, y, train_size=0.8, random_state =8)"
   ]
  },
  {
   "cell_type": "code",
   "execution_count": 51,
   "metadata": {},
   "outputs": [
    {
     "data": {
      "text/plain": [
       "Index(['Age', 'RoomService', 'FoodCourt', 'ShoppingMall', 'Spa', 'VRDeck',\n",
       "       'HomePlanet_0', 'HomePlanet_1', 'HomePlanet_2', 'CryoSleep_0',\n",
       "       'CryoSleep_1', 'Destination_0', 'Destination_1', 'Destination_2',\n",
       "       'VIP_0', 'VIP_1'],\n",
       "      dtype='object')"
      ]
     },
     "execution_count": 51,
     "metadata": {},
     "output_type": "execute_result"
    }
   ],
   "source": [
    "x_train.columns"
   ]
  },
  {
   "cell_type": "code",
   "execution_count": 52,
   "metadata": {},
   "outputs": [
    {
     "data": {
      "text/plain": [
       "Index(['Age', 'RoomService', 'FoodCourt', 'ShoppingMall', 'Spa', 'VRDeck',\n",
       "       'HomePlanet_0', 'HomePlanet_1', 'HomePlanet_2', 'CryoSleep_0',\n",
       "       'CryoSleep_1', 'Destination_0', 'Destination_1', 'Destination_2',\n",
       "       'VIP_0', 'VIP_1'],\n",
       "      dtype='object')"
      ]
     },
     "execution_count": 52,
     "metadata": {},
     "output_type": "execute_result"
    }
   ],
   "source": [
    "x_test.columns"
   ]
  },
  {
   "cell_type": "code",
   "execution_count": 53,
   "metadata": {},
   "outputs": [
    {
     "data": {
      "text/plain": [
       "2740    1.0\n",
       "1333    0.0\n",
       "3119    0.0\n",
       "6659    1.0\n",
       "7081    1.0\n",
       "       ... \n",
       "5672    0.0\n",
       "3599    0.0\n",
       "2653    1.0\n",
       "2759    0.0\n",
       "3741    0.0\n",
       "Name: Transported, Length: 5613, dtype: float64"
      ]
     },
     "execution_count": 53,
     "metadata": {},
     "output_type": "execute_result"
    }
   ],
   "source": [
    "y_train"
   ]
  },
  {
   "cell_type": "code",
   "execution_count": 54,
   "metadata": {},
   "outputs": [
    {
     "data": {
      "text/plain": [
       "4048    0.0\n",
       "3456    1.0\n",
       "4920    1.0\n",
       "989     1.0\n",
       "70      0.0\n",
       "       ... \n",
       "7330    0.0\n",
       "6407    1.0\n",
       "1763    1.0\n",
       "3523    0.0\n",
       "2143    1.0\n",
       "Name: Transported, Length: 1404, dtype: float64"
      ]
     },
     "execution_count": 54,
     "metadata": {},
     "output_type": "execute_result"
    }
   ],
   "source": [
    "y_test"
   ]
  },
  {
   "cell_type": "code",
   "execution_count": 55,
   "metadata": {},
   "outputs": [
    {
     "name": "stdout",
     "output_type": "stream",
     "text": [
      "Principal components\n",
      "[[-0.03125724  0.99805024 -0.03039588 -0.02403737 -0.02261074 -0.01096365\n",
      "  -0.02057359 -0.01903378]\n",
      " [ 0.97799567  0.03893936  0.19691944  0.01259722  0.03845913  0.00184847\n",
      "   0.0307202   0.02541631]\n",
      " [-0.20006881  0.02499582  0.97867298  0.00960731  0.0217417  -0.00111871\n",
      "   0.00812496  0.03024237]\n",
      " [-0.04340123  0.02394789 -0.03783159 -0.28759146  0.69848967 -0.04341742\n",
      "   0.54283145  0.35911541]\n",
      " [-0.02339713  0.02890709 -0.01956415  0.92651452  0.32807555 -0.01729391\n",
      "   0.13786235 -0.11343   ]\n",
      " [-0.00188351  0.00103223  0.01281938  0.00848366 -0.47538819  0.01835066\n",
      "   0.82316297 -0.30956603]\n",
      " [-0.00793179  0.01362837 -0.02270054  0.24067697 -0.41768583 -0.01193562\n",
      "   0.08463532  0.87151798]\n",
      " [-0.00473002  0.01259923 -0.0020924   0.0059858   0.03949912  0.99860491\n",
      "   0.01160003  0.02953244]]\n"
     ]
    }
   ],
   "source": [
    "###Preparacion para PCA\n",
    "# Separating out the features\n",
    "features=train_2_[['Age','CryoSleep_1', 'VIP_1', 'RoomService',\n",
    "       'FoodCourt', 'ShoppingMall', 'Spa', 'VRDeck']]\n",
    "xx = features\n",
    "# Separating out the target\n",
    "yy = train_2_['Transported']\n",
    "\n",
    "####Aplicacion PCA\n",
    "#####################################\n",
    "from sklearn.decomposition import PCA\n",
    "pca = PCA(min(10, xx.shape[1]))\n",
    "principalComponents=pca.fit(xx)\n",
    "print(\"Principal components\")\n",
    "print(pca.components_)"
   ]
  },
  {
   "cell_type": "code",
   "execution_count": 56,
   "metadata": {},
   "outputs": [
    {
     "name": "stdout",
     "output_type": "stream",
     "text": [
      "Explained variance ratio\n",
      "[0.782871   0.11339729 0.07338694 0.00992657 0.00639355 0.00634729\n",
      " 0.00565174 0.00202562]\n"
     ]
    }
   ],
   "source": [
    "print(\"Explained variance ratio\")\n",
    "print(pca.explained_variance_ratio_)"
   ]
  },
  {
   "cell_type": "code",
   "execution_count": 57,
   "metadata": {},
   "outputs": [
    {
     "data": {
      "text/html": [
       "<div>\n",
       "<style scoped>\n",
       "    .dataframe tbody tr th:only-of-type {\n",
       "        vertical-align: middle;\n",
       "    }\n",
       "\n",
       "    .dataframe tbody tr th {\n",
       "        vertical-align: top;\n",
       "    }\n",
       "\n",
       "    .dataframe thead th {\n",
       "        text-align: right;\n",
       "    }\n",
       "</style>\n",
       "<table border=\"1\" class=\"dataframe\">\n",
       "  <thead>\n",
       "    <tr style=\"text-align: right;\">\n",
       "      <th></th>\n",
       "      <th>Age</th>\n",
       "      <th>CryoSleep_1</th>\n",
       "      <th>VIP_1</th>\n",
       "      <th>RoomService</th>\n",
       "      <th>FoodCourt</th>\n",
       "      <th>ShoppingMall</th>\n",
       "      <th>Spa</th>\n",
       "      <th>VRDeck</th>\n",
       "    </tr>\n",
       "  </thead>\n",
       "  <tbody>\n",
       "    <tr>\n",
       "      <th>PC1</th>\n",
       "      <td>-0.031257</td>\n",
       "      <td>0.998050</td>\n",
       "      <td>-0.030396</td>\n",
       "      <td>-0.024037</td>\n",
       "      <td>-0.022611</td>\n",
       "      <td>-0.010964</td>\n",
       "      <td>-0.020574</td>\n",
       "      <td>-0.019034</td>\n",
       "    </tr>\n",
       "    <tr>\n",
       "      <th>PC2</th>\n",
       "      <td>0.977996</td>\n",
       "      <td>0.038939</td>\n",
       "      <td>0.196919</td>\n",
       "      <td>0.012597</td>\n",
       "      <td>0.038459</td>\n",
       "      <td>0.001848</td>\n",
       "      <td>0.030720</td>\n",
       "      <td>0.025416</td>\n",
       "    </tr>\n",
       "    <tr>\n",
       "      <th>PC3</th>\n",
       "      <td>-0.200069</td>\n",
       "      <td>0.024996</td>\n",
       "      <td>0.978673</td>\n",
       "      <td>0.009607</td>\n",
       "      <td>0.021742</td>\n",
       "      <td>-0.001119</td>\n",
       "      <td>0.008125</td>\n",
       "      <td>0.030242</td>\n",
       "    </tr>\n",
       "    <tr>\n",
       "      <th>PC4</th>\n",
       "      <td>-0.043401</td>\n",
       "      <td>0.023948</td>\n",
       "      <td>-0.037832</td>\n",
       "      <td>-0.287591</td>\n",
       "      <td>0.698490</td>\n",
       "      <td>-0.043417</td>\n",
       "      <td>0.542831</td>\n",
       "      <td>0.359115</td>\n",
       "    </tr>\n",
       "    <tr>\n",
       "      <th>PC5</th>\n",
       "      <td>-0.023397</td>\n",
       "      <td>0.028907</td>\n",
       "      <td>-0.019564</td>\n",
       "      <td>0.926515</td>\n",
       "      <td>0.328076</td>\n",
       "      <td>-0.017294</td>\n",
       "      <td>0.137862</td>\n",
       "      <td>-0.113430</td>\n",
       "    </tr>\n",
       "    <tr>\n",
       "      <th>PC6</th>\n",
       "      <td>-0.001884</td>\n",
       "      <td>0.001032</td>\n",
       "      <td>0.012819</td>\n",
       "      <td>0.008484</td>\n",
       "      <td>-0.475388</td>\n",
       "      <td>0.018351</td>\n",
       "      <td>0.823163</td>\n",
       "      <td>-0.309566</td>\n",
       "    </tr>\n",
       "    <tr>\n",
       "      <th>PC7</th>\n",
       "      <td>-0.007932</td>\n",
       "      <td>0.013628</td>\n",
       "      <td>-0.022701</td>\n",
       "      <td>0.240677</td>\n",
       "      <td>-0.417686</td>\n",
       "      <td>-0.011936</td>\n",
       "      <td>0.084635</td>\n",
       "      <td>0.871518</td>\n",
       "    </tr>\n",
       "    <tr>\n",
       "      <th>PC8</th>\n",
       "      <td>-0.004730</td>\n",
       "      <td>0.012599</td>\n",
       "      <td>-0.002092</td>\n",
       "      <td>0.005986</td>\n",
       "      <td>0.039499</td>\n",
       "      <td>0.998605</td>\n",
       "      <td>0.011600</td>\n",
       "      <td>0.029532</td>\n",
       "    </tr>\n",
       "  </tbody>\n",
       "</table>\n",
       "</div>"
      ],
      "text/plain": [
       "          Age  CryoSleep_1     VIP_1  RoomService  FoodCourt  ShoppingMall  \\\n",
       "PC1 -0.031257     0.998050 -0.030396    -0.024037  -0.022611     -0.010964   \n",
       "PC2  0.977996     0.038939  0.196919     0.012597   0.038459      0.001848   \n",
       "PC3 -0.200069     0.024996  0.978673     0.009607   0.021742     -0.001119   \n",
       "PC4 -0.043401     0.023948 -0.037832    -0.287591   0.698490     -0.043417   \n",
       "PC5 -0.023397     0.028907 -0.019564     0.926515   0.328076     -0.017294   \n",
       "PC6 -0.001884     0.001032  0.012819     0.008484  -0.475388      0.018351   \n",
       "PC7 -0.007932     0.013628 -0.022701     0.240677  -0.417686     -0.011936   \n",
       "PC8 -0.004730     0.012599 -0.002092     0.005986   0.039499      0.998605   \n",
       "\n",
       "          Spa    VRDeck  \n",
       "PC1 -0.020574 -0.019034  \n",
       "PC2  0.030720  0.025416  \n",
       "PC3  0.008125  0.030242  \n",
       "PC4  0.542831  0.359115  \n",
       "PC5  0.137862 -0.113430  \n",
       "PC6  0.823163 -0.309566  \n",
       "PC7  0.084635  0.871518  \n",
       "PC8  0.011600  0.029532  "
      ]
     },
     "execution_count": 57,
     "metadata": {},
     "output_type": "execute_result"
    }
   ],
   "source": [
    "pd.DataFrame(\n",
    "    data    = pca.components_,\n",
    "    columns = features.columns,\n",
    "    index   = ['PC1', 'PC2', 'PC3', 'PC4','PC5','PC6','PC7','PC8']\n",
    ")"
   ]
  },
  {
   "cell_type": "code",
   "execution_count": 58,
   "metadata": {},
   "outputs": [
    {
     "name": "stdout",
     "output_type": "stream",
     "text": [
      "<class 'pandas.core.frame.DataFrame'>\n",
      "Int64Index: 7017 entries, 6985 to 6644\n",
      "Data columns (total 17 columns):\n",
      " #   Column         Non-Null Count  Dtype  \n",
      "---  ------         --------------  -----  \n",
      " 0   Age            7017 non-null   float64\n",
      " 1   RoomService    7017 non-null   float64\n",
      " 2   FoodCourt      7017 non-null   float64\n",
      " 3   ShoppingMall   7017 non-null   float64\n",
      " 4   Spa            7017 non-null   float64\n",
      " 5   VRDeck         7017 non-null   float64\n",
      " 6   Transported    7017 non-null   float64\n",
      " 7   HomePlanet_0   7017 non-null   float64\n",
      " 8   HomePlanet_1   7017 non-null   float64\n",
      " 9   HomePlanet_2   7017 non-null   float64\n",
      " 10  CryoSleep_0    7017 non-null   float64\n",
      " 11  CryoSleep_1    7017 non-null   float64\n",
      " 12  Destination_0  7017 non-null   float64\n",
      " 13  Destination_1  7017 non-null   float64\n",
      " 14  Destination_2  7017 non-null   float64\n",
      " 15  VIP_0          7017 non-null   float64\n",
      " 16  VIP_1          7017 non-null   float64\n",
      "dtypes: float64(17)\n",
      "memory usage: 986.8 KB\n"
     ]
    }
   ],
   "source": [
    "train_2_.info()"
   ]
  },
  {
   "cell_type": "code",
   "execution_count": 59,
   "metadata": {},
   "outputs": [
    {
     "name": "stdout",
     "output_type": "stream",
     "text": [
      "           Age  RoomService  FoodCourt  ShoppingMall       Spa    VRDeck  \\\n",
      "4048  0.481013     0.000000   0.005769      0.000000  0.263611  0.001409   \n",
      "3456  0.164557     0.000558   0.046456      0.061510  0.011157  0.000331   \n",
      "4920  0.683544     0.000000   0.000000      0.000000  0.000000  0.000000   \n",
      "989   0.518987     0.000000   0.000000      0.000000  0.000000  0.000000   \n",
      "70    0.607595     0.000000   0.000403      0.000000  0.355543  0.000622   \n",
      "...        ...          ...        ...           ...       ...       ...   \n",
      "7330  0.278481     0.017101   0.000000      0.000000  0.029498  0.000041   \n",
      "6407  0.367089     0.000000   0.112166      0.000000  0.005266  0.040277   \n",
      "1763  0.620253     0.000000   0.260356      0.000085  0.000000  0.004061   \n",
      "3523  0.405063     0.036784   0.062490      0.000000  0.018609  0.120375   \n",
      "2143  0.202532     0.021149   0.002348      0.006428  0.025214  0.000083   \n",
      "\n",
      "      HomePlanet_0  HomePlanet_1  HomePlanet_2  CryoSleep_0  CryoSleep_1  \\\n",
      "4048           0.0           1.0           0.0          1.0          0.0   \n",
      "3456           1.0           0.0           0.0          1.0          0.0   \n",
      "4920           0.0           0.0           1.0          0.0          1.0   \n",
      "989            0.0           1.0           0.0          1.0          0.0   \n",
      "70             0.0           1.0           0.0          1.0          0.0   \n",
      "...            ...           ...           ...          ...          ...   \n",
      "7330           1.0           0.0           0.0          1.0          0.0   \n",
      "6407           0.0           1.0           0.0          1.0          0.0   \n",
      "1763           0.0           1.0           0.0          1.0          0.0   \n",
      "3523           0.0           1.0           0.0          1.0          0.0   \n",
      "2143           1.0           0.0           0.0          1.0          0.0   \n",
      "\n",
      "      Destination_0  Destination_1  Destination_2  VIP_0  VIP_1  \n",
      "4048            1.0            0.0            0.0    1.0    0.0  \n",
      "3456            1.0            0.0            0.0    1.0    0.0  \n",
      "4920            0.0            0.0            1.0    1.0    0.0  \n",
      "989             0.0            0.0            1.0    1.0    0.0  \n",
      "70              0.0            0.0            1.0    1.0    0.0  \n",
      "...             ...            ...            ...    ...    ...  \n",
      "7330            0.0            0.0            1.0    1.0    0.0  \n",
      "6407            1.0            0.0            0.0    1.0    0.0  \n",
      "1763            1.0            0.0            0.0    1.0    0.0  \n",
      "3523            0.0            0.0            1.0    0.0    1.0  \n",
      "2143            0.0            0.0            1.0    1.0    0.0  \n",
      "\n",
      "[1404 rows x 16 columns]\n"
     ]
    }
   ],
   "source": [
    "print(x_test)"
   ]
  },
  {
   "cell_type": "code",
   "execution_count": 60,
   "metadata": {},
   "outputs": [],
   "source": [
    "from pathlib import Path  \n",
    "#filepath = Path(r'C:\\Users\\Usuario\\Desktop\\Roco\\Aprendizaje supervisado Diplo\\train_df_x.csv')\n",
    "#filepath = Path(r'C:\\Users\\Pablo Madriaga\\OneDrive - Helacor S.A\\ArchivosPersonal\\Diplomatura Ciencia De Datos\\4. Aprendizaje Supervisado\\TP\\train_df_x.csv') \n",
    "filepath = Path(r'C:\\Users\\Varios\\Desktop\\Diplodatos\\AprendizajeSupervisado-master\\AprendizajeSupervisado-master\\train_df_x.csv')\n",
    "\n",
    "filepath.parent.mkdir(parents=True, exist_ok=True)  \n",
    "x_train.to_csv(filepath)"
   ]
  },
  {
   "cell_type": "code",
   "execution_count": 61,
   "metadata": {},
   "outputs": [],
   "source": [
    "from pathlib import Path  \n",
    "#filepath = Path(r'C:\\Users\\Usuario\\Desktop\\Roco\\Aprendizaje supervisado Diplo\\train_df_y.csv')\n",
    "#filepath = Path(r'C:\\Users\\Pablo Madriaga\\OneDrive - Helacor S.A\\ArchivosPersonal\\Diplomatura Ciencia De Datos\\4. Aprendizaje Supervisado\\TP\\train_df_y.csv') \n",
    "filepath = Path(r'C:\\Users\\Varios\\Desktop\\Diplodatos\\AprendizajeSupervisado-master\\AprendizajeSupervisado-master\\train_df_y.csv')\n",
    "\n",
    "filepath.parent.mkdir(parents=True, exist_ok=True)  \n",
    "y_train.to_csv(filepath)"
   ]
  },
  {
   "cell_type": "code",
   "execution_count": 62,
   "metadata": {},
   "outputs": [],
   "source": [
    "from pathlib import Path  \n",
    "#filepath = Path(r'C:\\Users\\Usuario\\Desktop\\Roco\\Aprendizaje supervisado Diplo\\test_df_y.csv')\n",
    "#filepath = Path(r'C:\\Users\\Pablo Madriaga\\OneDrive - Helacor S.A\\ArchivosPersonal\\Diplomatura Ciencia De Datos\\4. Aprendizaje Supervisado\\TP\\test_df_y.csv') \n",
    "filepath = Path(r'C:\\Users\\Varios\\Desktop\\Diplodatos\\AprendizajeSupervisado-master\\AprendizajeSupervisado-master\\test_df_y.csv')\n",
    "\n",
    "filepath.parent.mkdir(parents=True, exist_ok=True)  \n",
    "\n",
    "y_test.to_csv(filepath)"
   ]
  },
  {
   "cell_type": "code",
   "execution_count": 63,
   "metadata": {},
   "outputs": [],
   "source": [
    "from pathlib import Path  \n",
    "#filepath = Path(r'C:\\Users\\Pablo Madriaga\\OneDrive - Helacor S.A\\ArchivosPersonal\\Diplomatura Ciencia De Datos\\4. Aprendizaje Supervisado\\TP\\test_df_x.csv') \n",
    "filepath = Path(r'C:\\Users\\Varios\\Desktop\\Diplodatos\\AprendizajeSupervisado-master\\AprendizajeSupervisado-master\\test_df_x.csv')\n",
    "\n",
    "#filepath.parent.mkdir(parents=True, exist_ok=True)  \n",
    "x_test.to_csv(filepath)"
   ]
  },
  {
   "cell_type": "code",
   "execution_count": 64,
   "metadata": {},
   "outputs": [],
   "source": [
    "#x_test=pd.read_csv(r'C:\\Users\\Pablo Madriaga\\OneDrive - Helacor S.A\\ArchivosPersonal\\Diplomatura Ciencia De Datos\\4. Aprendizaje Supervisado\\TP\\test_df_x.csv',index_col=0)\n",
    "x_test=pd.read_csv(r'C:\\Users\\Varios\\Desktop\\Diplodatos\\AprendizajeSupervisado-master\\AprendizajeSupervisado-master\\test_df_x.csv',index_col=0)"
   ]
  },
  {
   "cell_type": "code",
   "execution_count": 65,
   "metadata": {},
   "outputs": [],
   "source": [
    "#y_test=pd.read_csv(r'C:\\Users\\Pablo Madriaga\\OneDrive - Helacor S.A\\ArchivosPersonal\\Diplomatura Ciencia De Datos\\4. Aprendizaje Supervisado\\TP\\test_df_y.csv',index_col=0)\n",
    "y_test=pd.read_csv(r'C:\\Users\\Varios\\Desktop\\Diplodatos\\AprendizajeSupervisado-master\\AprendizajeSupervisado-master\\test_df_y.csv',index_col=0)\n"
   ]
  },
  {
   "cell_type": "code",
   "execution_count": 67,
   "metadata": {},
   "outputs": [],
   "source": [
    "#x_train=pd.read_csv(r'C:\\Users\\Pablo Madriaga\\OneDrive - Helacor S.A\\ArchivosPersonal\\Diplomatura Ciencia De Datos\\4. Aprendizaje Supervisado\\TP\\train_df_x.csv',index_col=0)\n",
    "x_train=pd.read_csv(r'C:\\Users\\Varios\\Desktop\\Diplodatos\\AprendizajeSupervisado-master\\AprendizajeSupervisado-master\\train_df_x.csv',index_col=0)\n"
   ]
  },
  {
   "cell_type": "code",
   "execution_count": 68,
   "metadata": {},
   "outputs": [],
   "source": [
    "#y_train=pd.read_csv(r'C:\\Users\\Pablo Madriaga\\OneDrive - Helacor S.A\\ArchivosPersonal\\Diplomatura Ciencia De Datos\\4. Aprendizaje Supervisado\\TP\\train_df_y.csv',index_col=0)\n",
    "y_train=pd.read_csv(r'C:\\Users\\Varios\\Desktop\\Diplodatos\\AprendizajeSupervisado-master\\AprendizajeSupervisado-master\\train_df_y.csv',index_col=0)\n"
   ]
  },
  {
   "cell_type": "markdown",
   "metadata": {},
   "source": [
    "#### Planteo modelos\n",
    "Tienen que elegir los 2 mejores modelos así que prueben con varios."
   ]
  },
  {
   "cell_type": "code",
   "execution_count": 69,
   "metadata": {},
   "outputs": [
    {
     "name": "stdout",
     "output_type": "stream",
     "text": [
      "Árbol de decisión\n",
      "Accuracy train Árbol de decisión: 93.68%\n",
      "Accuracy test {name}: 72.72%\n"
     ]
    }
   ],
   "source": [
    "clfs = [DecisionTreeClassifier()]\n",
    "names = ['Árbol de decisión']\n",
    "\n",
    "trained_models = []\n",
    "accuracy_models = []\n",
    "for clf,name in zip(clfs,names):\n",
    "    print(name)\n",
    "    clf.fit(x_train, y_train)\n",
    "    train_predictions = clf.predict(x_train)\n",
    "    accuracy = accuracy_score(y_train, train_predictions)\n",
    "    print(f\"Accuracy train {name}: %.2f%%\" % (accuracy * 100.0))\n",
    "    train_predictions = clf.predict(x_test)\n",
    "    accuracy = accuracy_score(y_test, train_predictions)\n",
    "    print(\"Accuracy test {name}: %.2f%%\" % (accuracy * 100.0))\n",
    "    # plot_confusion_matrix(clf,x_test,y_test)\n",
    "    trained_models.append(clf)\n",
    "    accuracy_models.append(accuracy*100)"
   ]
  },
  {
   "cell_type": "code",
   "execution_count": 70,
   "metadata": {},
   "outputs": [
    {
     "data": {
      "text/plain": [
       "Index(['Age', 'RoomService', 'FoodCourt', 'ShoppingMall', 'Spa', 'VRDeck',\n",
       "       'HomePlanet_0', 'HomePlanet_1', 'HomePlanet_2', 'CryoSleep_0',\n",
       "       'CryoSleep_1', 'Destination_0', 'Destination_1', 'Destination_2',\n",
       "       'VIP_0', 'VIP_1'],\n",
       "      dtype='object')"
      ]
     },
     "execution_count": 70,
     "metadata": {},
     "output_type": "execute_result"
    }
   ],
   "source": [
    "y_val = valid_data['Transported'] \n",
    "x_val = valid_data.drop(['Transported'],axis=1)\n",
    "###\n",
    "#print(x_val)\n",
    "#print(y_val)\n",
    "len(x_val)\n",
    "x_val.columns"
   ]
  },
  {
   "cell_type": "code",
   "execution_count": 71,
   "metadata": {},
   "outputs": [
    {
     "name": "stdout",
     "output_type": "stream",
     "text": [
      "<class 'pandas.core.frame.DataFrame'>\n",
      "Int64Index: 780 entries, 24 to 7816\n",
      "Data columns (total 16 columns):\n",
      " #   Column         Non-Null Count  Dtype  \n",
      "---  ------         --------------  -----  \n",
      " 0   Age            780 non-null    float64\n",
      " 1   RoomService    780 non-null    float64\n",
      " 2   FoodCourt      780 non-null    float64\n",
      " 3   ShoppingMall   780 non-null    float64\n",
      " 4   Spa            780 non-null    float64\n",
      " 5   VRDeck         780 non-null    float64\n",
      " 6   HomePlanet_0   780 non-null    float64\n",
      " 7   HomePlanet_1   780 non-null    float64\n",
      " 8   HomePlanet_2   780 non-null    float64\n",
      " 9   CryoSleep_0    780 non-null    float64\n",
      " 10  CryoSleep_1    780 non-null    float64\n",
      " 11  Destination_0  780 non-null    float64\n",
      " 12  Destination_1  780 non-null    float64\n",
      " 13  Destination_2  780 non-null    float64\n",
      " 14  VIP_0          780 non-null    float64\n",
      " 15  VIP_1          780 non-null    float64\n",
      "dtypes: float64(16)\n",
      "memory usage: 103.6 KB\n"
     ]
    }
   ],
   "source": [
    "x_val.info()"
   ]
  },
  {
   "cell_type": "code",
   "execution_count": 72,
   "metadata": {},
   "outputs": [
    {
     "data": {
      "text/plain": [
       "73.46153846153847"
      ]
     },
     "execution_count": 72,
     "metadata": {},
     "output_type": "execute_result"
    }
   ],
   "source": [
    "val_predictions = clf.predict(x_val)\n",
    "val_predictions\n",
    "accuracy = accuracy_score(y_val, val_predictions)\n",
    "accuracy*100"
   ]
  },
  {
   "cell_type": "code",
   "execution_count": 73,
   "metadata": {},
   "outputs": [
    {
     "name": "stdout",
     "output_type": "stream",
     "text": [
      "              precision    recall  f1-score   support\n",
      "\n",
      "         0.0       0.74      0.71      0.73       388\n",
      "         1.0       0.73      0.76      0.74       392\n",
      "\n",
      "    accuracy                           0.73       780\n",
      "   macro avg       0.73      0.73      0.73       780\n",
      "weighted avg       0.73      0.73      0.73       780\n",
      "\n"
     ]
    }
   ],
   "source": [
    "print(classification_report(y_val, val_predictions))"
   ]
  },
  {
   "cell_type": "markdown",
   "metadata": {},
   "source": [
    "### Algún tipo de ajuste de hiperparámetros de los modelos elegidos"
   ]
  },
  {
   "cell_type": "markdown",
   "metadata": {},
   "source": [
    "grid = GridSearchCV(DecisionTreeClassifier(),\n",
    " {'criterion':('gini','entropy'),\n",
    " 'splitter':(\"best\",\"random\"),\n",
    " 'max_depth':(10,20,100)})\n",
    "grid.fit(x_train,y_train)\n",
    "grid.best_params_"
   ]
  },
  {
   "cell_type": "markdown",
   "metadata": {},
   "source": [
    "clf = DecisionTreeClassifier(**grid.best_params_).fit(x_train, y_train)\n",
    "\n",
    "train_predictions = clf.predict(x_train)\n",
    "accuracy = accuracy_score(y_train, train_predictions)\n",
    "print(\"Accuracy train Arbol de decisión: %.2f%%\" % (accuracy * 100.0))\n",
    "\n",
    "test_predictions = clf.predict(x_test)\n",
    "accuracy = accuracy_score(y_test, test_predictions)\n",
    "print(\"Accuracy test Arbol de decisión: %.2f%%\" % (accuracy * 100.0))\n",
    "ConfusionMatrixDisplay.from_predictions(y_test, test_predictions)\n",
    "plt.show()\n",
    "\n",
    "print(classification_report(y_test,clf.predict(x_test)))"
   ]
  },
  {
   "cell_type": "markdown",
   "metadata": {},
   "source": [
    "FOLDS=5\n",
    "cv = StratifiedKFold(n_splits=FOLDS, shuffle=True, random_state=10)\n",
    "\n",
    "x_train2 = np.array(x_train)\n",
    "y_train2 = np.array(y_train)\n",
    "\n",
    "\n",
    "for clfi, name in zip([DecisionTreeClassifier(**grid.best_params_)],names):\n",
    "    print(clfi)\n",
    "    avg_accuracy = 0\n",
    "    for fold, (train_idx, val_idx) in enumerate(cv.split(x_train2, y_train2)):\n",
    "        xi, yi = x_train2[train_idx], y_train2[train_idx]\n",
    "        x_valid, y_valid = x_train2[val_idx], y_train2[val_idx]\n",
    "        clfi = clfi.fit(xi, yi)\n",
    "\n",
    "        test_predictions = clfi.predict(x_valid)\n",
    "        accuracy = accuracy_score(y_valid, test_predictions)\n",
    "        avg_accuracy +=accuracy\n",
    "        print(f\"Precisión test fold {fold}: {accuracy * 100.0 :.2f}\" % ())\n",
    "\n",
    "    avg_accuracy /= FOLDS\n",
    "    print(f'Avg. accuracy = {avg_accuracy * 100}')"
   ]
  },
  {
   "cell_type": "code",
   "execution_count": 74,
   "metadata": {},
   "outputs": [
    {
     "name": "stderr",
     "output_type": "stream",
     "text": [
      "WARNING: You are using pip version 22.1.2; however, version 22.2.1 is available.\n",
      "You should consider upgrading via the 'C:\\Users\\Varios\\anaconda3\\python.exe -m pip install --upgrade pip' command.\n"
     ]
    },
    {
     "name": "stdout",
     "output_type": "stream",
     "text": [
      "Requirement already satisfied: xgboost in c:\\users\\varios\\anaconda3\\lib\\site-packages (1.6.1)\n",
      "Requirement already satisfied: numpy in c:\\users\\varios\\anaconda3\\lib\\site-packages (from xgboost) (1.21.5)\n",
      "Requirement already satisfied: scipy in c:\\users\\varios\\anaconda3\\lib\\site-packages (from xgboost) (1.7.3)\n"
     ]
    }
   ],
   "source": [
    "###Análisis de métodos alternativos\n",
    "\n",
    "!pip install xgboost\n",
    "import xgboost\n",
    "from sklearn.model_selection import cross_val_score, cross_validate, KFold, StratifiedKFold, LeaveOneOut, LeavePOut\n",
    "from sklearn.metrics import recall_score, accuracy_score, precision_score, f1_score, roc_auc_score, mean_squared_error, r2_score, confusion_matrix, classification_report, ConfusionMatrixDisplay\n",
    "from sklearn.tree import DecisionTreeClassifier\n",
    "from sklearn.ensemble import RandomForestClassifier\n",
    "from sklearn.linear_model import LogisticRegression\n",
    "from sklearn.neural_network import MLPClassifier\n",
    "from xgboost import XGBClassifier\n",
    "from sklearn.naive_bayes import GaussianNB\n",
    "from sklearn.svm import LinearSVC"
   ]
  },
  {
   "cell_type": "code",
   "execution_count": 75,
   "metadata": {},
   "outputs": [
    {
     "name": "stdout",
     "output_type": "stream",
     "text": [
      "Arbol de decisión\n",
      "Accuracy train Arbol de decisión: 93.68%\n",
      "Accuracy test Arbol de decisión: 72.29%\n",
      "Accuracy val Arbol de decisión: 73.21%\n",
      "Random Forest\n"
     ]
    },
    {
     "name": "stderr",
     "output_type": "stream",
     "text": [
      "C:\\Users\\Varios\\AppData\\Local\\Temp\\ipykernel_15452\\3914128649.py:28: DataConversionWarning: A column-vector y was passed when a 1d array was expected. Please change the shape of y to (n_samples,), for example using ravel().\n",
      "  clf.fit(x_train, y_train)\n"
     ]
    },
    {
     "name": "stdout",
     "output_type": "stream",
     "text": [
      "Accuracy train Random Forest: 93.68%\n",
      "Accuracy test Random Forest: 78.92%\n",
      "Accuracy val Random Forest: 77.95%\n",
      "Regresión Logística\n",
      "Accuracy train Regresión Logística: 77.00%\n",
      "Accuracy test Regresión Logística: 74.22%\n",
      "Accuracy val Regresión Logística: 74.62%\n",
      "Perceptrón multicapa\n"
     ]
    },
    {
     "name": "stderr",
     "output_type": "stream",
     "text": [
      "C:\\Users\\Varios\\anaconda3\\lib\\site-packages\\sklearn\\utils\\validation.py:993: DataConversionWarning: A column-vector y was passed when a 1d array was expected. Please change the shape of y to (n_samples, ), for example using ravel().\n",
      "  y = column_or_1d(y, warn=True)\n",
      "C:\\Users\\Varios\\anaconda3\\lib\\site-packages\\sklearn\\linear_model\\_logistic.py:814: ConvergenceWarning: lbfgs failed to converge (status=1):\n",
      "STOP: TOTAL NO. of ITERATIONS REACHED LIMIT.\n",
      "\n",
      "Increase the number of iterations (max_iter) or scale the data as shown in:\n",
      "    https://scikit-learn.org/stable/modules/preprocessing.html\n",
      "Please also refer to the documentation for alternative solver options:\n",
      "    https://scikit-learn.org/stable/modules/linear_model.html#logistic-regression\n",
      "  n_iter_i = _check_optimize_result(\n",
      "C:\\Users\\Varios\\anaconda3\\lib\\site-packages\\sklearn\\neural_network\\_multilayer_perceptron.py:1109: DataConversionWarning: A column-vector y was passed when a 1d array was expected. Please change the shape of y to (n_samples, ), for example using ravel().\n",
      "  y = column_or_1d(y, warn=True)\n"
     ]
    },
    {
     "name": "stdout",
     "output_type": "stream",
     "text": [
      "Accuracy train Perceptrón multicapa: 80.31%\n",
      "Accuracy test Perceptrón multicapa: 78.49%\n",
      "Accuracy val Perceptrón multicapa: 77.69%\n",
      "XGBoost\n",
      "Accuracy train XGBoost: 90.54%\n",
      "Accuracy test XGBoost: 78.42%\n",
      "Accuracy val XGBoost: 77.44%\n",
      "Naive Bayes\n",
      "Accuracy train Naive Bayes: 73.88%\n",
      "Accuracy test Naive Bayes: 73.50%\n",
      "Accuracy val Naive Bayes: 71.15%\n",
      "SVM\n",
      "Accuracy train SVM: 78.82%\n",
      "Accuracy test SVM: 76.57%\n",
      "Accuracy val SVM: 75.51%\n"
     ]
    },
    {
     "name": "stderr",
     "output_type": "stream",
     "text": [
      "C:\\Users\\Varios\\anaconda3\\lib\\site-packages\\sklearn\\utils\\validation.py:993: DataConversionWarning: A column-vector y was passed when a 1d array was expected. Please change the shape of y to (n_samples, ), for example using ravel().\n",
      "  y = column_or_1d(y, warn=True)\n",
      "C:\\Users\\Varios\\anaconda3\\lib\\site-packages\\sklearn\\utils\\validation.py:993: DataConversionWarning: A column-vector y was passed when a 1d array was expected. Please change the shape of y to (n_samples, ), for example using ravel().\n",
      "  y = column_or_1d(y, warn=True)\n"
     ]
    }
   ],
   "source": [
    "clfs =  [DecisionTreeClassifier(),\n",
    "         \n",
    "        RandomForestClassifier(),\n",
    "         \n",
    "        LogisticRegression(),\n",
    "         \n",
    "        MLPClassifier(),\n",
    "         \n",
    "  \n",
    "         XGBClassifier(),\n",
    "         \n",
    "        GaussianNB(),\n",
    "         \n",
    "        LinearSVC()]\n",
    "\n",
    "names = ['Arbol de decisión',\n",
    "        'Random Forest',\n",
    "        'Regresión Logística',\n",
    "        'Perceptrón multicapa',\n",
    "        'XGBoost',\n",
    "        'Naive Bayes',\n",
    "        'SVM']\n",
    "\n",
    "trained_models = []\n",
    "accuracy_models = []\n",
    "for clf, name in zip(clfs, names):\n",
    "    print(name)\n",
    "    clf.fit(x_train, y_train)\n",
    "    \n",
    "    ######################################################\n",
    "    train_predictions = clf.predict(x_train)\n",
    "    accuracy = accuracy_score(y_train, train_predictions)\n",
    "    print(f\"Accuracy train {name}: %.2f%%\" % (accuracy * 100.0))\n",
    "    \n",
    "    ###############################################################\n",
    "    test_predictions = clf.predict(x_test)\n",
    "    accuracy = accuracy_score(y_test, test_predictions)\n",
    "    print(f\"Accuracy test {name}: %.2f%%\" % (accuracy * 100.0))\n",
    "    trained_models.append(clf)    \n",
    "    accuracy_models.append(accuracy)\n",
    "    #clf.score(x_test, y_test)\n",
    "    #############################################################    \n",
    "    val_predictions = clf.predict(x_val)\n",
    "    val_accuracy = accuracy_score(y_val, val_predictions)\n",
    "    print(f\"Accuracy val {name}: %.2f%%\" % (val_accuracy * 100.0))\n",
    "    trained_models.append(clf)    \n",
    "    accuracy_models.append(val_accuracy)   \n",
    "    #clf.score(x_val, y_val)\n",
    "##################################   "
   ]
  },
  {
   "cell_type": "markdown",
   "metadata": {},
   "source": [
    "###SE PRUEBAN DIFERENTES PARAMETROS PARA XBG BOOST, MULTIPERCEPTON Y RANDOM FOREST"
   ]
  },
  {
   "cell_type": "code",
   "execution_count": 76,
   "metadata": {},
   "outputs": [
    {
     "name": "stdout",
     "output_type": "stream",
     "text": [
      "Fitting 3 folds for each of 4320 candidates, totalling 12960 fits\n",
      "0.8556921432389096\n",
      "0.7884615384615384\n",
      "0.7923076923076923\n"
     ]
    }
   ],
   "source": [
    "############################################\n",
    "###XGB con cross_validate y GridSearchCV\n",
    "###############################################\n",
    "#x_train[['HomePlanet_1', 'HomePlanet_2', 'HomePlanet_0',\n",
    " #      'Destination_1',\n",
    "  #     'Destination_2', 'Destination_0']].astype(\"category\")\n",
    "\n",
    "#########\n",
    "import pandas as pd \n",
    "import numpy as np\n",
    "from matplotlib import pyplot as plt\n",
    "import seaborn as sns\n",
    "%matplotlib inline\n",
    "##################\n",
    "from sklearn.model_selection import cross_validate,GridSearchCV\n",
    "from sklearn.metrics import confusion_matrix , accuracy_score\n",
    "from xgboost import XGBClassifier\n",
    "reg=XGBClassifier()\n",
    "###############\n",
    "params={\"n_estimators\":[40,50,60,70,100,120],'reg_lambda':[3,2,1],'gamma':[0.4,0.3,0.2,0.1]\n",
    "       ,'eta':[0.5,0.4,0.3,0.2,0.1]\n",
    "        ,\"max_depth\":[3,8],'objective':['rank:pairwise','binary:logistic','reg:logistic'],'eval_metric':['rmse','auc']}\n",
    "################################\n",
    "clf=GridSearchCV(reg,params,cv=3,n_jobs=-1,verbose=1)\n",
    "clf.fit(x_train,y_train)\n",
    "##############################\n",
    "y_pred=clf.predict(x_train)\n",
    "t_pred=clf.predict(x_test)\n",
    "v_pred= clf.predict(x_val)\n",
    "print(accuracy_score(y_pred,y_train))\n",
    "print(accuracy_score(t_pred,y_test))\n",
    "print(accuracy_score(v_pred,y_val))\n",
    "#####################################"
   ]
  },
  {
   "cell_type": "code",
   "execution_count": 77,
   "metadata": {},
   "outputs": [
    {
     "name": "stdout",
     "output_type": "stream",
     "text": [
      "              precision    recall  f1-score   support\n",
      "\n",
      "         0.0       0.87      0.83      0.85      2777\n",
      "         1.0       0.84      0.88      0.86      2836\n",
      "\n",
      "    accuracy                           0.86      5613\n",
      "   macro avg       0.86      0.86      0.86      5613\n",
      "weighted avg       0.86      0.86      0.86      5613\n",
      "\n",
      "              precision    recall  f1-score   support\n",
      "\n",
      "         0.0       0.79      0.77      0.78       676\n",
      "         1.0       0.79      0.81      0.80       728\n",
      "\n",
      "    accuracy                           0.79      1404\n",
      "   macro avg       0.79      0.79      0.79      1404\n",
      "weighted avg       0.79      0.79      0.79      1404\n",
      "\n",
      "              precision    recall  f1-score   support\n",
      "\n",
      "         0.0       0.79      0.79      0.79       388\n",
      "         1.0       0.79      0.80      0.79       392\n",
      "\n",
      "    accuracy                           0.79       780\n",
      "   macro avg       0.79      0.79      0.79       780\n",
      "weighted avg       0.79      0.79      0.79       780\n",
      "\n",
      "XGBClassifier(base_score=0.5, booster='gbtree', callbacks=None,\n",
      "              colsample_bylevel=1, colsample_bynode=1, colsample_bytree=1,\n",
      "              early_stopping_rounds=None, enable_categorical=False, eta=0.1,\n",
      "              eval_metric='rmse', gamma=0.4, gpu_id=-1, grow_policy='depthwise',\n",
      "              importance_type=None, interaction_constraints='',\n",
      "              learning_rate=0.100000001, max_bin=256, max_cat_to_onehot=4,\n",
      "              max_delta_step=0, max_depth=8, max_leaves=0, min_child_weight=1,\n",
      "              missing=nan, monotone_constraints='()', n_estimators=70, n_jobs=0,\n",
      "              num_parallel_tree=1, objective='rank:pairwise', predictor='auto',\n",
      "              random_state=0, ...)\n",
      "0.8015321574915376\n",
      "{'eta': 0.1, 'eval_metric': 'rmse', 'gamma': 0.4, 'max_depth': 8, 'n_estimators': 70, 'objective': 'rank:pairwise', 'reg_lambda': 2}\n"
     ]
    },
    {
     "data": {
      "image/png": "[encoded data removed]",
      "text/plain": [
       "<Figure size 432x288 with 4 Axes>"
      ]
     },
     "metadata": {
      "needs_background": "light"
     },
     "output_type": "display_data"
    }
   ],
   "source": [
    "\n",
    "##https://www.kaggle.com/code/raafaq/xgbclassifier\n",
    "###https://xgboost-clone.readthedocs.io/en/latest/parameter.html#learning-task-parameters\n",
    "\n",
    "sns.heatmap(confusion_matrix(y_train, y_pred), annot=True, fmt='g')\n",
    "print(classification_report(y_train, y_pred))\n",
    "\n",
    "sns.heatmap(confusion_matrix(y_test, t_pred), annot=True, fmt='g')\n",
    "print(classification_report(y_test, t_pred))\n",
    "\n",
    "sns.heatmap(confusion_matrix(y_val, v_pred), annot=True, fmt='g')\n",
    "print(classification_report(y_val, v_pred))\n",
    "\n",
    "print(clf.best_estimator_)\n",
    "print(clf.best_score_)\n",
    "print(clf.best_params_)\n",
    "\n",
    "###############\n",
    "# - cross validataion\n",
    "#scores = cross_val_score(clf, x_train, y_train, cv=5)\n",
    "#print(\"Mean cross-validation score: %.2f\" % scores.mean())\n",
    "################\n",
    "#kfold = KFold(n_splits=10, shuffle=True)\n",
    "#kf_cv_scores = cross_val_score(clf, x_train, y_train, cv=kfold )\n",
    "#print(\"K-fold CV average score: %.2f\" % kf_cv_scores.mean())"
   ]
  },
  {
   "cell_type": "code",
   "execution_count": 79,
   "metadata": {},
   "outputs": [
    {
     "name": "stderr",
     "output_type": "stream",
     "text": [
      "C:\\Users\\Varios\\anaconda3\\lib\\site-packages\\sklearn\\neural_network\\_multilayer_perceptron.py:1109: DataConversionWarning: A column-vector y was passed when a 1d array was expected. Please change the shape of y to (n_samples, ), for example using ravel().\n",
      "  y = column_or_1d(y, warn=True)\n"
     ]
    },
    {
     "name": "stdout",
     "output_type": "stream",
     "text": [
      "{'activation': 'relu', 'alpha': 0.005, 'hidden_layer_sizes': (150, 100), 'learning_rate': 'adaptive', 'max_iter': 100, 'solver': 'adam'}\n",
      "MLPClassifier(alpha=0.005, hidden_layer_sizes=(150, 100),\n",
      "              learning_rate='adaptive', max_iter=100)\n",
      "0.8034882373576\n"
     ]
    }
   ],
   "source": [
    "###############################\n",
    "### con multipercepton\n",
    "###############################\n",
    "\n",
    "from sklearn.neural_network import MLPClassifier\n",
    "from sklearn.metrics import plot_confusion_matrix\n",
    "from sklearn.metrics import classification_report\n",
    "import pandas as pd \n",
    "import numpy as np\n",
    "from matplotlib import pyplot as plt\n",
    "import seaborn as sns\n",
    "from sklearn.model_selection import cross_validate,GridSearchCV\n",
    "from sklearn.metrics import confusion_matrix , accuracy_score\n",
    "from xgboost import XGBClassifier\n",
    "#####################\n",
    "mlp_cf=MLPClassifier()\n",
    "###################\n",
    "param_grid = {\n",
    "    'hidden_layer_sizes': [(150,100), (120,80), (100,500)],\n",
    "    'max_iter': [50, 100, 150],\n",
    "    'activation': ['tanh', 'relu'],\n",
    "    'solver': ['sgd', 'adam'],\n",
    "    'alpha': [0.005, 0.05,0.001],\n",
    "    'learning_rate': ['constant','adaptive']}\n",
    "################\n",
    "mlp = GridSearchCV(mlp_cf, param_grid, n_jobs= -1, cv=5)\n",
    "mlp.fit(x_train, y_train)\n",
    "#################\n",
    "print(mlp.best_params_) \n",
    "print(mlp.best_estimator_)\n",
    "print(mlp.best_score_)"
   ]
  },
  {
   "cell_type": "code",
   "execution_count": 80,
   "metadata": {},
   "outputs": [
    {
     "name": "stdout",
     "output_type": "stream",
     "text": [
      "0.8033137359700695\n",
      "0.7870370370370371\n",
      "0.7833333333333333\n",
      "              precision    recall  f1-score   support\n",
      "\n",
      "         0.0       0.85      0.74      0.79      2777\n",
      "         1.0       0.77      0.87      0.82      2836\n",
      "\n",
      "    accuracy                           0.80      5613\n",
      "   macro avg       0.81      0.80      0.80      5613\n",
      "weighted avg       0.81      0.80      0.80      5613\n",
      "\n"
     ]
    },
    {
     "data": {
      "image/png": "[encoded data removed]",
      "text/plain": [
       "<Figure size 432x288 with 2 Axes>"
      ]
     },
     "metadata": {
      "needs_background": "light"
     },
     "output_type": "display_data"
    }
   ],
   "source": [
    "##############################\n",
    "y_pred=mlp.predict(x_train)\n",
    "t_pred=mlp.predict(x_test)\n",
    "v_pred= mlp.predict(x_val)\n",
    "print(accuracy_score(y_pred,y_train))\n",
    "print(accuracy_score(t_pred,y_test))\n",
    "print(accuracy_score(v_pred,y_val))\n",
    "#####################################\n",
    "##train\n",
    "sns.heatmap(confusion_matrix(y_train, y_pred), annot=True, fmt='g')\n",
    "print(classification_report(y_train, y_pred))\n",
    "###############################"
   ]
  },
  {
   "cell_type": "code",
   "execution_count": 81,
   "metadata": {},
   "outputs": [
    {
     "name": "stdout",
     "output_type": "stream",
     "text": [
      "Fitting 3 folds for each of 576 candidates, totalling 1728 fits\n"
     ]
    },
    {
     "name": "stderr",
     "output_type": "stream",
     "text": [
      "C:\\Users\\Varios\\anaconda3\\lib\\site-packages\\sklearn\\model_selection\\_search.py:926: DataConversionWarning: A column-vector y was passed when a 1d array was expected. Please change the shape of y to (n_samples,), for example using ravel().\n",
      "  self.best_estimator_.fit(X, y, **fit_params)\n"
     ]
    },
    {
     "name": "stdout",
     "output_type": "stream",
     "text": [
      "RandomForestRegressor(max_depth=90, max_features=3, min_samples_leaf=3,\n",
      "                      min_samples_split=10, n_estimators=1000)\n",
      "0.4356042974875231\n",
      "{'bootstrap': True, 'max_depth': 90, 'max_features': 3, 'min_samples_leaf': 3, 'min_samples_split': 10, 'n_estimators': 1000}\n"
     ]
    }
   ],
   "source": [
    "#####Random Forest######################\n",
    "#######################################\n",
    "from sklearn.model_selection import GridSearchCV\n",
    "from sklearn.ensemble import RandomForestRegressor\n",
    "\n",
    "param_grid = {\n",
    "    'bootstrap': [True, False],\n",
    "    'max_depth': [80, 90, 100, 110],\n",
    "    'max_features': [2, 3],\n",
    "    'min_samples_leaf': [3, 4, 5],\n",
    "    'min_samples_split': [8, 10, 12],\n",
    "    'n_estimators': [100, 200, 300, 1000]\n",
    "}\n",
    "\n",
    "#-max_features represents the number of features to consider when looking for the best split.\n",
    "#-min_samples_leaf is The minimum number of samples required to be at a leaf node. \n",
    "#This parameter is similar to min_samples_splits, however, \n",
    "#this describe the minimum number of samples of samples at the leafs, the base of the tree.\n",
    "#-min_samples_split represents the minimum number of samples required to split an internal node. \n",
    "#This can vary between considering at least one sample at each node to considering all \n",
    "#of the samples at each node. When we increase this parameter, each tree in the forest becomes \n",
    "#more constrained as it has to consider more samples at each node. Here we will vary the parameter from 10% to 100% of the samples\n",
    "#-max_depth represents the depth of each tree in the forest. The deeper the tree, the more splits it \n",
    "#has and it captures more information about the data. We fit each decision tree with depths ranging from 1 to 32 and plot the training and test errors.\n",
    "#-n_estimators represents the number of trees in the forest. Usually the higher the number of trees the better to learn the data. However, adding a lot of trees can slow down the training process considerably, therefore we do a parameter search to find the sweet spot.\n",
    "\n",
    "# Create a based model\n",
    "rf = RandomForestRegressor()\n",
    "\n",
    "# Instantiate the grid search model\n",
    "grid_search = GridSearchCV(estimator = rf, param_grid = param_grid, cv = 3, n_jobs = -1, verbose = 2)\n",
    "\n",
    "# Fit the grid search to the data\n",
    "grid_search.fit(x_train, y_train)\n",
    "\n",
    "print(grid_search.best_estimator_)\n",
    "print(grid_search.best_score_)\n",
    "print(grid_search.best_params_)\n",
    "\n",
    "##############################"
   ]
  },
  {
   "cell_type": "code",
   "execution_count": 83,
   "metadata": {},
   "outputs": [
    {
     "name": "stdout",
     "output_type": "stream",
     "text": [
      "Accuracy train: 85.62%\n",
      "Accuracy test: 79.20%\n",
      "Accuracy val: 77.44%\n"
     ]
    }
   ],
   "source": [
    "train_predictions=grid_search.predict(x_train)\n",
    "train_predictions=pd.DataFrame(train_predictions, index=x_train.index)\n",
    "train_predictions=train_predictions.rename(columns={0:'Transported'})\n",
    "train_predictions=train_predictions.Transported.round()\n",
    "\n",
    "accuracy = accuracy_score(y_train, train_predictions)\n",
    "print(f\"Accuracy train: %.2f%%\" % (accuracy * 100.0))\n",
    "\n",
    "##########################################\n",
    "test_predictions = grid_search.predict(x_test)\n",
    "test_predictions=pd.DataFrame(test_predictions, index=x_test.index)\n",
    "test_predictions=test_predictions.rename(columns={0:'Transported'})\n",
    "test_predictions=test_predictions.Transported.round()\n",
    "accuracy = accuracy_score(y_test, test_predictions)\n",
    "print(\"Accuracy test: %.2f%%\" % (accuracy * 100.0))\n",
    "##############################################\n",
    "\n",
    "val_predictions = grid_search.predict(x_val)\n",
    "val_predictions=pd.DataFrame(val_predictions, index=x_val.index)\n",
    "val_predictions=val_predictions.rename(columns={0:'Transported'})\n",
    "val_predictions=val_predictions.Transported.round()\n",
    "accuracy = accuracy_score(y_val, val_predictions)\n",
    "print(\"Accuracy val: %.2f%%\" % (accuracy * 100.0))"
   ]
  },
  {
   "cell_type": "code",
   "execution_count": 84,
   "metadata": {},
   "outputs": [],
   "source": [
    "#####################################"
   ]
  },
  {
   "cell_type": "code",
   "execution_count": 86,
   "metadata": {},
   "outputs": [
    {
     "name": "stdout",
     "output_type": "stream",
     "text": [
      "              precision    recall  f1-score   support\n",
      "\n",
      "         0.0       0.85      0.74      0.79      2777\n",
      "         1.0       0.77      0.87      0.82      2836\n",
      "\n",
      "    accuracy                           0.80      5613\n",
      "   macro avg       0.81      0.80      0.80      5613\n",
      "weighted avg       0.81      0.80      0.80      5613\n",
      "\n",
      "Accuracy train: 85.62%\n",
      "Accuracy test: 79.20%\n",
      "Accuracy test: 77.44%\n"
     ]
    },
    {
     "data": {
      "image/png": "[encoded data removed]",
      "text/plain": [
       "<Figure size 432x288 with 2 Axes>"
      ]
     },
     "metadata": {
      "needs_background": "light"
     },
     "output_type": "display_data"
    }
   ],
   "source": [
    "##train\n",
    "sns.heatmap(confusion_matrix(y_train, train_predictions), annot=True, fmt='g')\n",
    "print(classification_report(y_train, y_pred))\n",
    "\n",
    "accuracy = accuracy_score(y_train, train_predictions)\n",
    "print(f\"Accuracy train: %.2f%%\" % (accuracy * 100.0))\n",
    "\n",
    "accuracy2 = accuracy_score(y_test, test_predictions)\n",
    "print(\"Accuracy test: %.2f%%\" % (accuracy2 * 100.0))\n",
    "\n",
    "accuracy3 = accuracy_score(y_val, val_predictions)\n",
    "print(\"Accuracy test: %.2f%%\" % (accuracy3 * 100.0))"
   ]
  },
  {
   "cell_type": "markdown",
   "metadata": {},
   "source": [
    "false_positive_rate, true_positive_rate, thresholds = roc_curve(y_train, y_pred)\n",
    "   roc_auc_train = auc(false_positive_rate, true_positive_rate)\n",
    "   train_results.append(roc_auc_train)\n",
    "  \n",
    "false_positive_rate, true_positive_rate, thresholds = roc_curve(y_test, t_pred)\n",
    "   roc_auc_train = auc(false_positive_rate, true_positive_rate)\n",
    "   test_results.append(roc_auc_pred)\n",
    "    \n",
    "from matplotlib.legend_handler import HandlerLine2D\n",
    "line1, = plt.plot(n_estimators, train_results, ‘b’, label=”Train AUC”)\n",
    "line2, = plt.plot(n_estimators, test_results, ‘r’, label=”Test AUC”)\n",
    "plt.legend(handler_map={line1: HandlerLine2D(numpoints=2)})\n",
    "plt.ylabel(‘AUC score’)\n",
    "plt.xlabel(‘n_estimators’)\n",
    "plt.show()"
   ]
  },
  {
   "cell_type": "markdown",
   "metadata": {},
   "source": [
    "## Generar la salida para entregar"
   ]
  },
  {
   "cell_type": "markdown",
   "metadata": {},
   "source": [
    "test_df = pd.read_csv('test.csv')"
   ]
  },
  {
   "cell_type": "markdown",
   "metadata": {},
   "source": [
    "test_df"
   ]
  },
  {
   "cell_type": "markdown",
   "metadata": {},
   "source": [
    "Para poder evaluar nuestra predicción los datos de prueba deben tener exactamente el mismo tratamiento que los datos de entrenamiento"
   ]
  },
  {
   "cell_type": "markdown",
   "metadata": {},
   "source": [
    "test_df[imputer_cols] = imputer.fit_transform(test_df[imputer_cols])\n",
    "\n",
    "PassengerId = test_df['PassengerId']\n",
    "test_df.drop(['PassengerId','Cabin', 'Name'], inplace=True, axis=1)\n",
    "\n",
    "for col in label_cols:\n",
    "    test_df[col] = test_df[col].astype(str)\n",
    "    test_df[col] = LabelEncoder().fit_transform(test_df[col])\n",
    "\n",
    "cols = test_df.columns\n",
    "test_df = StandardScaler().fit_transform(test_df)\n",
    "test_df = pd.DataFrame(test_df, columns=cols)"
   ]
  },
  {
   "cell_type": "markdown",
   "metadata": {},
   "source": [
    "Generamos la salida"
   ]
  },
  {
   "cell_type": "markdown",
   "metadata": {},
   "source": [
    "submission = pd.DataFrame(list(zip(test_id, test_pred)), columns=[\"PassengerId\", \"Transported\"])\n",
    "submission.to_csv(\"sample_submission.csv\", header=True, index=False)"
   ]
  },
  {
   "cell_type": "code",
   "execution_count": 88,
   "metadata": {},
   "outputs": [],
   "source": []
  },
  {
   "cell_type": "code",
   "execution_count": 203,
   "metadata": {},
   "outputs": [
    {
     "data": {
      "text/html": [
       "<div>\n",
       "<style scoped>\n",
       "    .dataframe tbody tr th:only-of-type {\n",
       "        vertical-align: middle;\n",
       "    }\n",
       "\n",
       "    .dataframe tbody tr th {\n",
       "        vertical-align: top;\n",
       "    }\n",
       "\n",
       "    .dataframe thead th {\n",
       "        text-align: right;\n",
       "    }\n",
       "</style>\n",
       "<table border=\"1\" class=\"dataframe\">\n",
       "  <thead>\n",
       "    <tr style=\"text-align: right;\">\n",
       "      <th></th>\n",
       "      <th>Unnamed: 0</th>\n",
       "      <th>Age</th>\n",
       "      <th>RoomService</th>\n",
       "      <th>FoodCourt</th>\n",
       "      <th>ShoppingMall</th>\n",
       "      <th>Spa</th>\n",
       "      <th>VRDeck</th>\n",
       "      <th>HomePlanet_0</th>\n",
       "      <th>HomePlanet_1</th>\n",
       "      <th>HomePlanet_2</th>\n",
       "      <th>CryoSleep_0</th>\n",
       "      <th>CryoSleep_1</th>\n",
       "      <th>Destination_0</th>\n",
       "      <th>Destination_1</th>\n",
       "      <th>Destination_2</th>\n",
       "      <th>VIP_0</th>\n",
       "      <th>VIP_1</th>\n",
       "      <th>PassengerId</th>\n",
       "    </tr>\n",
       "  </thead>\n",
       "  <tbody>\n",
       "    <tr>\n",
       "      <th>0</th>\n",
       "      <td>0</td>\n",
       "      <td>0.459459</td>\n",
       "      <td>0.000000</td>\n",
       "      <td>0.000000</td>\n",
       "      <td>0.000000</td>\n",
       "      <td>0.000000</td>\n",
       "      <td>0.000000</td>\n",
       "      <td>0.0</td>\n",
       "      <td>1.0</td>\n",
       "      <td>0.0</td>\n",
       "      <td>0.0</td>\n",
       "      <td>1.0</td>\n",
       "      <td>1.0</td>\n",
       "      <td>0.0</td>\n",
       "      <td>0.0</td>\n",
       "      <td>1.0</td>\n",
       "      <td>0.0</td>\n",
       "      <td>415</td>\n",
       "    </tr>\n",
       "    <tr>\n",
       "      <th>1</th>\n",
       "      <td>1</td>\n",
       "      <td>0.175676</td>\n",
       "      <td>0.000000</td>\n",
       "      <td>0.000000</td>\n",
       "      <td>0.000000</td>\n",
       "      <td>0.000000</td>\n",
       "      <td>0.000000</td>\n",
       "      <td>1.0</td>\n",
       "      <td>0.0</td>\n",
       "      <td>0.0</td>\n",
       "      <td>0.0</td>\n",
       "      <td>1.0</td>\n",
       "      <td>0.0</td>\n",
       "      <td>1.0</td>\n",
       "      <td>0.0</td>\n",
       "      <td>1.0</td>\n",
       "      <td>0.0</td>\n",
       "      <td>8663</td>\n",
       "    </tr>\n",
       "    <tr>\n",
       "      <th>2</th>\n",
       "      <td>2</td>\n",
       "      <td>0.594595</td>\n",
       "      <td>0.003736</td>\n",
       "      <td>0.000057</td>\n",
       "      <td>0.000000</td>\n",
       "      <td>0.057715</td>\n",
       "      <td>0.000000</td>\n",
       "      <td>1.0</td>\n",
       "      <td>0.0</td>\n",
       "      <td>0.0</td>\n",
       "      <td>1.0</td>\n",
       "      <td>0.0</td>\n",
       "      <td>0.0</td>\n",
       "      <td>0.0</td>\n",
       "      <td>1.0</td>\n",
       "      <td>1.0</td>\n",
       "      <td>0.0</td>\n",
       "      <td>4524</td>\n",
       "    </tr>\n",
       "    <tr>\n",
       "      <th>3</th>\n",
       "      <td>3</td>\n",
       "      <td>0.851351</td>\n",
       "      <td>0.000000</td>\n",
       "      <td>0.000000</td>\n",
       "      <td>0.008832</td>\n",
       "      <td>0.000000</td>\n",
       "      <td>0.134173</td>\n",
       "      <td>1.0</td>\n",
       "      <td>0.0</td>\n",
       "      <td>0.0</td>\n",
       "      <td>1.0</td>\n",
       "      <td>0.0</td>\n",
       "      <td>0.0</td>\n",
       "      <td>1.0</td>\n",
       "      <td>0.0</td>\n",
       "      <td>1.0</td>\n",
       "      <td>0.0</td>\n",
       "      <td>8246</td>\n",
       "    </tr>\n",
       "    <tr>\n",
       "      <th>4</th>\n",
       "      <td>4</td>\n",
       "      <td>0.135135</td>\n",
       "      <td>0.000000</td>\n",
       "      <td>0.000000</td>\n",
       "      <td>0.000000</td>\n",
       "      <td>0.000000</td>\n",
       "      <td>0.000000</td>\n",
       "      <td>0.0</td>\n",
       "      <td>1.0</td>\n",
       "      <td>0.0</td>\n",
       "      <td>1.0</td>\n",
       "      <td>0.0</td>\n",
       "      <td>1.0</td>\n",
       "      <td>0.0</td>\n",
       "      <td>0.0</td>\n",
       "      <td>1.0</td>\n",
       "      <td>0.0</td>\n",
       "      <td>2935</td>\n",
       "    </tr>\n",
       "    <tr>\n",
       "      <th>...</th>\n",
       "      <td>...</td>\n",
       "      <td>...</td>\n",
       "      <td>...</td>\n",
       "      <td>...</td>\n",
       "      <td>...</td>\n",
       "      <td>...</td>\n",
       "      <td>...</td>\n",
       "      <td>...</td>\n",
       "      <td>...</td>\n",
       "      <td>...</td>\n",
       "      <td>...</td>\n",
       "      <td>...</td>\n",
       "      <td>...</td>\n",
       "      <td>...</td>\n",
       "      <td>...</td>\n",
       "      <td>...</td>\n",
       "      <td>...</td>\n",
       "      <td>...</td>\n",
       "    </tr>\n",
       "    <tr>\n",
       "      <th>864</th>\n",
       "      <td>865</td>\n",
       "      <td>0.729730</td>\n",
       "      <td>0.114810</td>\n",
       "      <td>0.000000</td>\n",
       "      <td>0.025502</td>\n",
       "      <td>0.025317</td>\n",
       "      <td>0.000000</td>\n",
       "      <td>0.0</td>\n",
       "      <td>0.0</td>\n",
       "      <td>1.0</td>\n",
       "      <td>1.0</td>\n",
       "      <td>0.0</td>\n",
       "      <td>0.0</td>\n",
       "      <td>0.0</td>\n",
       "      <td>1.0</td>\n",
       "      <td>1.0</td>\n",
       "      <td>0.0</td>\n",
       "      <td>5996</td>\n",
       "    </tr>\n",
       "    <tr>\n",
       "      <th>865</th>\n",
       "      <td>866</td>\n",
       "      <td>0.783784</td>\n",
       "      <td>0.000000</td>\n",
       "      <td>0.000000</td>\n",
       "      <td>0.000000</td>\n",
       "      <td>0.000000</td>\n",
       "      <td>0.000000</td>\n",
       "      <td>1.0</td>\n",
       "      <td>0.0</td>\n",
       "      <td>0.0</td>\n",
       "      <td>0.0</td>\n",
       "      <td>1.0</td>\n",
       "      <td>0.0</td>\n",
       "      <td>0.0</td>\n",
       "      <td>1.0</td>\n",
       "      <td>1.0</td>\n",
       "      <td>0.0</td>\n",
       "      <td>5478</td>\n",
       "    </tr>\n",
       "    <tr>\n",
       "      <th>866</th>\n",
       "      <td>867</td>\n",
       "      <td>0.243243</td>\n",
       "      <td>0.000000</td>\n",
       "      <td>0.000000</td>\n",
       "      <td>0.000000</td>\n",
       "      <td>0.000000</td>\n",
       "      <td>0.000000</td>\n",
       "      <td>1.0</td>\n",
       "      <td>0.0</td>\n",
       "      <td>0.0</td>\n",
       "      <td>0.0</td>\n",
       "      <td>1.0</td>\n",
       "      <td>0.0</td>\n",
       "      <td>1.0</td>\n",
       "      <td>0.0</td>\n",
       "      <td>1.0</td>\n",
       "      <td>0.0</td>\n",
       "      <td>6760</td>\n",
       "    </tr>\n",
       "    <tr>\n",
       "      <th>867</th>\n",
       "      <td>868</td>\n",
       "      <td>0.243243</td>\n",
       "      <td>0.129925</td>\n",
       "      <td>0.000000</td>\n",
       "      <td>0.001435</td>\n",
       "      <td>0.000000</td>\n",
       "      <td>0.000000</td>\n",
       "      <td>1.0</td>\n",
       "      <td>0.0</td>\n",
       "      <td>0.0</td>\n",
       "      <td>1.0</td>\n",
       "      <td>0.0</td>\n",
       "      <td>0.0</td>\n",
       "      <td>0.0</td>\n",
       "      <td>1.0</td>\n",
       "      <td>1.0</td>\n",
       "      <td>0.0</td>\n",
       "      <td>1437</td>\n",
       "    </tr>\n",
       "    <tr>\n",
       "      <th>868</th>\n",
       "      <td>869</td>\n",
       "      <td>0.270270</td>\n",
       "      <td>0.000000</td>\n",
       "      <td>0.000000</td>\n",
       "      <td>0.000000</td>\n",
       "      <td>0.046961</td>\n",
       "      <td>0.000000</td>\n",
       "      <td>1.0</td>\n",
       "      <td>0.0</td>\n",
       "      <td>0.0</td>\n",
       "      <td>1.0</td>\n",
       "      <td>0.0</td>\n",
       "      <td>0.0</td>\n",
       "      <td>0.0</td>\n",
       "      <td>1.0</td>\n",
       "      <td>1.0</td>\n",
       "      <td>0.0</td>\n",
       "      <td>5171</td>\n",
       "    </tr>\n",
       "  </tbody>\n",
       "</table>\n",
       "<p>869 rows × 18 columns</p>\n",
       "</div>"
      ],
      "text/plain": [
       "     Unnamed: 0       Age  RoomService  FoodCourt  ShoppingMall       Spa  \\\n",
       "0             0  0.459459     0.000000   0.000000      0.000000  0.000000   \n",
       "1             1  0.175676     0.000000   0.000000      0.000000  0.000000   \n",
       "2             2  0.594595     0.003736   0.000057      0.000000  0.057715   \n",
       "3             3  0.851351     0.000000   0.000000      0.008832  0.000000   \n",
       "4             4  0.135135     0.000000   0.000000      0.000000  0.000000   \n",
       "..          ...       ...          ...        ...           ...       ...   \n",
       "864         865  0.729730     0.114810   0.000000      0.025502  0.025317   \n",
       "865         866  0.783784     0.000000   0.000000      0.000000  0.000000   \n",
       "866         867  0.243243     0.000000   0.000000      0.000000  0.000000   \n",
       "867         868  0.243243     0.129925   0.000000      0.001435  0.000000   \n",
       "868         869  0.270270     0.000000   0.000000      0.000000  0.046961   \n",
       "\n",
       "       VRDeck  HomePlanet_0  HomePlanet_1  HomePlanet_2  CryoSleep_0  \\\n",
       "0    0.000000           0.0           1.0           0.0          0.0   \n",
       "1    0.000000           1.0           0.0           0.0          0.0   \n",
       "2    0.000000           1.0           0.0           0.0          1.0   \n",
       "3    0.134173           1.0           0.0           0.0          1.0   \n",
       "4    0.000000           0.0           1.0           0.0          1.0   \n",
       "..        ...           ...           ...           ...          ...   \n",
       "864  0.000000           0.0           0.0           1.0          1.0   \n",
       "865  0.000000           1.0           0.0           0.0          0.0   \n",
       "866  0.000000           1.0           0.0           0.0          0.0   \n",
       "867  0.000000           1.0           0.0           0.0          1.0   \n",
       "868  0.000000           1.0           0.0           0.0          1.0   \n",
       "\n",
       "     CryoSleep_1  Destination_0  Destination_1  Destination_2  VIP_0  VIP_1  \\\n",
       "0            1.0            1.0            0.0            0.0    1.0    0.0   \n",
       "1            1.0            0.0            1.0            0.0    1.0    0.0   \n",
       "2            0.0            0.0            0.0            1.0    1.0    0.0   \n",
       "3            0.0            0.0            1.0            0.0    1.0    0.0   \n",
       "4            0.0            1.0            0.0            0.0    1.0    0.0   \n",
       "..           ...            ...            ...            ...    ...    ...   \n",
       "864          0.0            0.0            0.0            1.0    1.0    0.0   \n",
       "865          1.0            0.0            0.0            1.0    1.0    0.0   \n",
       "866          1.0            0.0            1.0            0.0    1.0    0.0   \n",
       "867          0.0            0.0            0.0            1.0    1.0    0.0   \n",
       "868          0.0            0.0            0.0            1.0    1.0    0.0   \n",
       "\n",
       "     PassengerId  \n",
       "0            415  \n",
       "1           8663  \n",
       "2           4524  \n",
       "3           8246  \n",
       "4           2935  \n",
       "..           ...  \n",
       "864         5996  \n",
       "865         5478  \n",
       "866         6760  \n",
       "867         1437  \n",
       "868         5171  \n",
       "\n",
       "[869 rows x 18 columns]"
      ]
     },
     "execution_count": 203,
     "metadata": {},
     "output_type": "execute_result"
    }
   ],
   "source": [
    "###UNA VEZ ELEGIDO EL MODELO FINAL\n",
    "### SE LEVANTA EL ARCHIVO \"TEST CURADO\" Y SE ARMA LA TABLA\n",
    "\n",
    "##archivo que se predice a partir de xgbBoost\n",
    "test_df=pd.read_csv(r'C:\\Users\\Varios\\Desktop\\Diplodatos\\AprendizajeSupervisado-master\\AprendizajeSupervisado-master\\test_curado.csv')\n",
    "#test_df=pd.read_csv(r'C:\\Users\\Pablo Madriaga\\OneDrive - Helacor S.A\\ArchivosPersonal\\Diplomatura Ciencia De Datos\\4. Aprendizaje Supervisado\\TP\\test_curado.csv',index_col=0)\n",
    "test_df\n",
    "####"
   ]
  },
  {
   "cell_type": "code",
   "execution_count": 204,
   "metadata": {},
   "outputs": [
    {
     "data": {
      "text/plain": [
       "(869, 16)"
      ]
     },
     "execution_count": 204,
     "metadata": {},
     "output_type": "execute_result"
    }
   ],
   "source": [
    "test_df_id=test_df['PassengerId']\n",
    "test_df_id\n",
    "test_df.columns\n",
    "test_df=test_df[['Age', 'RoomService', 'FoodCourt',\n",
    "       'ShoppingMall', 'Spa', 'VRDeck', 'HomePlanet_0', 'HomePlanet_1',\n",
    "       'HomePlanet_2', 'CryoSleep_0', 'CryoSleep_1', 'Destination_0',\n",
    "       'Destination_1', 'Destination_2', 'VIP_0', 'VIP_1']]\n",
    "test_df\n",
    "test_df.shape"
   ]
  },
  {
   "cell_type": "code",
   "execution_count": 205,
   "metadata": {},
   "outputs": [
    {
     "data": {
      "text/plain": [
       "array([1, 1, 0, 0, 1, 0, 0, 1, 0, 1, 1, 1, 1, 1, 0, 1, 0, 0, 0, 0, 1, 1,\n",
       "       0, 1, 0, 0, 0, 0, 0, 1, 0, 0, 0, 1, 0, 0, 1, 0, 1, 1, 1, 0, 0, 0,\n",
       "       1, 0, 1, 1, 0, 1, 1, 0, 0, 0, 0, 0, 0, 0, 1, 0, 1, 0, 0, 1, 0, 1,\n",
       "       0, 0, 0, 1, 1, 0, 0, 0, 1, 0, 0, 0, 1, 0, 1, 1, 1, 1, 1, 0, 1, 1,\n",
       "       1, 1, 1, 0, 0, 1, 0, 1, 0, 1, 0, 0, 0, 0, 0, 1, 0, 0, 1, 0, 1, 1,\n",
       "       0, 1, 1, 1, 0, 1, 1, 1, 1, 1, 0, 0, 0, 0, 1, 1, 0, 1, 0, 0, 0, 0,\n",
       "       0, 1, 0, 1, 0, 0, 1, 0, 1, 0, 1, 0, 1, 1, 1, 0, 1, 1, 1, 1, 1, 1,\n",
       "       1, 1, 0, 1, 1, 0, 1, 1, 1, 1, 1, 0, 0, 0, 0, 0, 0, 1, 1, 0, 0, 1,\n",
       "       1, 0, 1, 0, 1, 0, 0, 0, 1, 1, 0, 0, 0, 1, 0, 0, 0, 0, 0, 1, 0, 1,\n",
       "       1, 0, 0, 0, 1, 1, 1, 0, 0, 1, 0, 1, 1, 1, 1, 1, 0, 0, 1, 1, 0, 1,\n",
       "       0, 0, 1, 1, 1, 1, 1, 0, 0, 0, 0, 0, 0, 0, 0, 0, 1, 1, 0, 0, 1, 0,\n",
       "       1, 0, 0, 0, 1, 0, 0, 0, 0, 0, 0, 1, 0, 1, 1, 1, 1, 0, 0, 1, 0, 0,\n",
       "       0, 0, 0, 0, 0, 1, 1, 0, 1, 1, 0, 0, 0, 1, 1, 0, 1, 0, 1, 0, 0, 0,\n",
       "       0, 1, 1, 0, 1, 1, 1, 1, 0, 1, 0, 1, 0, 0, 1, 0, 1, 1, 0, 0, 0, 1,\n",
       "       1, 1, 1, 0, 1, 0, 0, 0, 1, 1, 0, 1, 0, 1, 0, 0, 1, 1, 0, 1, 1, 1,\n",
       "       1, 1, 1, 0, 1, 1, 1, 1, 1, 0, 0, 1, 0, 1, 1, 1, 0, 1, 0, 1, 1, 1,\n",
       "       1, 0, 0, 0, 1, 1, 0, 0, 0, 0, 1, 0, 0, 1, 1, 0, 0, 0, 1, 0, 1, 1,\n",
       "       1, 0, 1, 1, 1, 0, 1, 0, 1, 1, 0, 0, 1, 1, 1, 0, 1, 1, 0, 0, 0, 0,\n",
       "       0, 1, 1, 1, 0, 0, 0, 0, 1, 0, 1, 0, 0, 1, 1, 1, 0, 1, 1, 0, 0, 1,\n",
       "       0, 1, 0, 1, 1, 0, 0, 1, 1, 0, 0, 0, 0, 1, 1, 1, 0, 1, 0, 0, 1, 0,\n",
       "       0, 1, 0, 0, 1, 0, 0, 0, 0, 0, 0, 1, 1, 1, 1, 0, 0, 0, 1, 1, 1, 0,\n",
       "       1, 0, 0, 0, 1, 1, 0, 1, 0, 0, 1, 0, 1, 1, 0, 1, 1, 1, 1, 0, 1, 1,\n",
       "       1, 1, 1, 0, 1, 0, 1, 0, 0, 1, 1, 0, 0, 1, 1, 1, 0, 0, 1, 1, 0, 1,\n",
       "       1, 1, 0, 1, 1, 1, 1, 0, 0, 0, 0, 0, 0, 0, 1, 1, 0, 0, 0, 1, 1, 0,\n",
       "       0, 0, 0, 1, 1, 1, 0, 1, 1, 0, 0, 1, 1, 0, 0, 0, 0, 0, 1, 1, 0, 0,\n",
       "       1, 1, 1, 0, 0, 0, 1, 1, 0, 1, 0, 0, 0, 1, 1, 1, 0, 0, 1, 1, 1, 1,\n",
       "       1, 1, 0, 0, 1, 0, 0, 1, 1, 0, 0, 0, 0, 1, 0, 0, 0, 0, 1, 0, 1, 1,\n",
       "       1, 0, 0, 1, 0, 0, 1, 0, 0, 0, 1, 1, 1, 0, 0, 1, 1, 0, 1, 1, 1, 0,\n",
       "       0, 1, 1, 1, 1, 1, 0, 0, 0, 0, 1, 0, 1, 0, 1, 1, 0, 1, 0, 0, 0, 0,\n",
       "       0, 1, 1, 0, 0, 1, 1, 0, 0, 0, 1, 1, 0, 0, 1, 0, 0, 1, 0, 1, 1, 0,\n",
       "       0, 1, 0, 1, 1, 0, 1, 1, 0, 0, 0, 0, 0, 0, 1, 0, 0, 0, 1, 0, 1, 0,\n",
       "       0, 1, 0, 1, 0, 1, 1, 1, 0, 1, 1, 1, 0, 1, 1, 1, 1, 1, 0, 1, 1, 1,\n",
       "       1, 1, 1, 1, 1, 1, 0, 0, 1, 1, 1, 0, 1, 1, 0, 1, 1, 1, 0, 0, 1, 0,\n",
       "       1, 0, 0, 1, 0, 1, 0, 0, 0, 1, 1, 0, 0, 0, 0, 0, 1, 1, 1, 1, 0, 1,\n",
       "       1, 1, 1, 1, 1, 0, 1, 1, 0, 0, 1, 1, 1, 0, 1, 0, 0, 0, 1, 1, 0, 0,\n",
       "       0, 0, 1, 1, 1, 0, 0, 0, 0, 0, 0, 0, 1, 0, 0, 1, 0, 1, 0, 1, 1, 0,\n",
       "       1, 1, 1, 1, 1, 0, 1, 1, 1, 1, 1, 0, 0, 1, 1, 0, 1, 1, 1, 1, 1, 1,\n",
       "       1, 1, 0, 0, 1, 1, 1, 0, 0, 1, 0, 0, 0, 1, 0, 0, 1, 0, 1, 1, 1, 0,\n",
       "       0, 0, 1, 0, 1, 0, 0, 1, 0, 0, 0, 1, 1, 0, 1, 0, 0, 1, 0, 0, 1, 1,\n",
       "       1, 0, 0, 1, 0, 0, 0, 1, 1, 0, 0])"
      ]
     },
     "execution_count": 205,
     "metadata": {},
     "output_type": "execute_result"
    }
   ],
   "source": [
    "test_pred_clf = clf.predict(test_df)\n",
    "test_pred_clf"
   ]
  },
  {
   "cell_type": "code",
   "execution_count": 206,
   "metadata": {},
   "outputs": [
    {
     "name": "stdout",
     "output_type": "stream",
     "text": [
      "     PassengerId  Transported\n",
      "0            415            1\n",
      "1           8663            1\n",
      "2           4524            0\n",
      "3           8246            0\n",
      "4           2935            1\n",
      "..           ...          ...\n",
      "864         5996            0\n",
      "865         5478            1\n",
      "866         6760            1\n",
      "867         1437            0\n",
      "868         5171            0\n",
      "\n",
      "[869 rows x 2 columns]\n"
     ]
    }
   ],
   "source": [
    "test_pred_clf=pd.DataFrame(test_pred_clf)\n",
    "test_pred_clf=test_pred_clf.rename(columns={0:'Transported'})\n",
    "#test_pred_clf=test_pred_clf.Transported.round()\n",
    "test_pred_clf=pd.concat([test_df_id,test_pred_clf],axis=1)\n",
    "test_pred_clf=test_pred_clf[['PassengerId','Transported']]\n",
    "\n",
    "print(test_pred_clf)"
   ]
  },
  {
   "cell_type": "code",
   "execution_count": null,
   "metadata": {},
   "outputs": [],
   "source": []
  },
  {
   "cell_type": "code",
   "execution_count": 207,
   "metadata": {},
   "outputs": [
    {
     "data": {
      "text/plain": [
       "array([1., 1., 0., 0., 1., 0., 0., 1., 0., 1., 1., 1., 1., 1., 0., 1., 0.,\n",
       "       0., 0., 0., 1., 1., 0., 1., 0., 0., 0., 0., 0., 1., 0., 0., 0., 1.,\n",
       "       0., 0., 1., 0., 1., 1., 1., 0., 0., 0., 1., 0., 1., 1., 0., 1., 1.,\n",
       "       0., 0., 0., 0., 0., 0., 0., 1., 0., 1., 0., 1., 1., 0., 1., 0., 0.,\n",
       "       0., 1., 1., 0., 1., 0., 1., 0., 0., 0., 1., 0., 1., 1., 1., 1., 1.,\n",
       "       1., 1., 1., 1., 1., 1., 0., 0., 1., 0., 1., 0., 1., 0., 0., 0., 0.,\n",
       "       0., 1., 0., 0., 1., 1., 1., 1., 0., 1., 1., 1., 0., 1., 1., 1., 1.,\n",
       "       1., 0., 0., 0., 0., 1., 1., 0., 1., 0., 0., 0., 0., 1., 1., 0., 1.,\n",
       "       0., 0., 1., 0., 1., 0., 1., 0., 1., 0., 1., 1., 1., 1., 1., 1., 1.,\n",
       "       1., 1., 1., 0., 1., 1., 0., 1., 1., 1., 1., 1., 1., 0., 1., 0., 1.,\n",
       "       0., 1., 1., 0., 0., 1., 1., 0., 1., 1., 1., 0., 0., 1., 1., 1., 0.,\n",
       "       0., 0., 1., 0., 0., 0., 0., 0., 1., 0., 1., 1., 0., 0., 1., 1., 1.,\n",
       "       1., 0., 0., 1., 0., 1., 1., 1., 1., 1., 0., 0., 1., 1., 1., 1., 0.,\n",
       "       1., 1., 1., 1., 1., 1., 1., 1., 0., 0., 1., 0., 0., 0., 0., 1., 1.,\n",
       "       1., 1., 1., 0., 1., 0., 0., 0., 1., 0., 0., 0., 0., 0., 0., 1., 0.,\n",
       "       1., 1., 1., 1., 0., 0., 1., 0., 0., 0., 1., 0., 0., 0., 1., 1., 0.,\n",
       "       1., 1., 0., 0., 1., 1., 1., 0., 1., 0., 1., 0., 0., 0., 0., 1., 0.,\n",
       "       0., 1., 1., 1., 1., 0., 1., 1., 1., 0., 0., 1., 1., 1., 1., 0., 0.,\n",
       "       0., 1., 1., 1., 1., 0., 1., 0., 0., 0., 1., 1., 0., 1., 0., 1., 0.,\n",
       "       1., 1., 1., 0., 1., 1., 1., 0., 1., 1., 0., 1., 1., 1., 1., 1., 1.,\n",
       "       0., 1., 0., 1., 1., 1., 0., 1., 0., 1., 1., 1., 1., 0., 0., 1., 1.,\n",
       "       0., 0., 0., 0., 0., 1., 0., 0., 1., 1., 0., 0., 1., 1., 0., 1., 1.,\n",
       "       1., 0., 1., 1., 1., 0., 1., 0., 1., 1., 0., 0., 1., 1., 1., 0., 1.,\n",
       "       1., 0., 0., 0., 1., 1., 1., 1., 1., 0., 1., 0., 0., 1., 0., 1., 0.,\n",
       "       0., 1., 1., 1., 0., 1., 1., 1., 0., 1., 0., 1., 0., 1., 1., 0., 0.,\n",
       "       1., 1., 0., 0., 0., 0., 1., 1., 1., 1., 1., 0., 0., 1., 0., 0., 1.,\n",
       "       0., 0., 1., 0., 0., 0., 0., 0., 0., 1., 1., 1., 1., 0., 0., 0., 1.,\n",
       "       1., 1., 0., 1., 0., 1., 0., 1., 1., 0., 1., 0., 0., 1., 0., 1., 1.,\n",
       "       0., 1., 1., 1., 1., 0., 1., 1., 1., 1., 1., 0., 1., 0., 1., 0., 0.,\n",
       "       1., 1., 0., 0., 1., 1., 1., 0., 0., 1., 1., 1., 1., 1., 1., 0., 1.,\n",
       "       1., 0., 1., 0., 1., 0., 0., 0., 0., 0., 1., 1., 0., 1., 0., 1., 1.,\n",
       "       0., 0., 0., 1., 1., 1., 1., 0., 1., 1., 0., 0., 1., 1., 0., 0., 0.,\n",
       "       0., 0., 1., 1., 0., 0., 1., 0., 1., 1., 1., 0., 1., 1., 0., 1., 0.,\n",
       "       1., 0., 1., 1., 1., 1., 0., 1., 1., 1., 1., 1., 1., 0., 0., 1., 0.,\n",
       "       0., 1., 1., 0., 0., 0., 1., 1., 0., 1., 1., 0., 1., 0., 1., 1., 1.,\n",
       "       0., 0., 1., 0., 0., 1., 0., 0., 0., 1., 1., 1., 0., 0., 1., 1., 0.,\n",
       "       1., 1., 1., 0., 0., 1., 1., 1., 1., 1., 0., 0., 0., 0., 1., 0., 1.,\n",
       "       0., 1., 1., 0., 1., 0., 0., 0., 0., 0., 1., 1., 0., 1., 1., 1., 0.,\n",
       "       0., 1., 1., 1., 0., 0., 1., 0., 0., 1., 1., 1., 1., 0., 0., 1., 0.,\n",
       "       1., 1., 0., 1., 1., 0., 0., 0., 0., 1., 0., 1., 1., 0., 0., 1., 0.,\n",
       "       1., 0., 1., 1., 0., 1., 0., 1., 1., 1., 0., 1., 1., 1., 0., 1., 1.,\n",
       "       1., 1., 1., 0., 1., 1., 1., 1., 1., 1., 1., 1., 1., 0., 0., 1., 1.,\n",
       "       1., 0., 1., 1., 0., 1., 1., 1., 1., 1., 1., 0., 1., 0., 0., 1., 0.,\n",
       "       1., 1., 0., 1., 1., 1., 0., 0., 0., 1., 0., 1., 1., 1., 1., 0., 1.,\n",
       "       1., 1., 1., 1., 1., 0., 1., 1., 1., 0., 1., 1., 1., 0., 1., 0., 0.,\n",
       "       0., 1., 1., 0., 0., 0., 0., 1., 1., 1., 0., 0., 0., 0., 0., 0., 0.,\n",
       "       1., 0., 0., 1., 0., 1., 0., 1., 1., 0., 1., 1., 1., 1., 1., 0., 1.,\n",
       "       1., 1., 1., 1., 0., 0., 1., 1., 0., 1., 1., 1., 1., 1., 1., 1., 1.,\n",
       "       0., 0., 1., 1., 1., 0., 0., 1., 0., 0., 1., 1., 0., 0., 1., 1., 1.,\n",
       "       1., 1., 0., 0., 0., 1., 0., 1., 0., 0., 1., 0., 0., 0., 1., 1., 0.,\n",
       "       1., 0., 1., 1., 0., 0., 1., 1., 1., 0., 0., 1., 0., 0., 0., 1., 1.,\n",
       "       0., 0.])"
      ]
     },
     "execution_count": 207,
     "metadata": {},
     "output_type": "execute_result"
    }
   ],
   "source": [
    "###Archivo que se predice a partir de mlp\n",
    "test_pred_mlp = mlp.predict(test_df)\n",
    "test_pred_mlp\n"
   ]
  },
  {
   "cell_type": "code",
   "execution_count": 208,
   "metadata": {},
   "outputs": [
    {
     "name": "stdout",
     "output_type": "stream",
     "text": [
      "     PassengerId  Transported\n",
      "0            415          1.0\n",
      "1           8663          1.0\n",
      "2           4524          0.0\n",
      "3           8246          0.0\n",
      "4           2935          1.0\n",
      "..           ...          ...\n",
      "864         5996          0.0\n",
      "865         5478          1.0\n",
      "866         6760          1.0\n",
      "867         1437          0.0\n",
      "868         5171          0.0\n",
      "\n",
      "[869 rows x 2 columns]\n"
     ]
    }
   ],
   "source": [
    "####\n",
    "test_pred_mlp=pd.DataFrame(test_pred_mlp, index=test_df.index)\n",
    "test_pred_mlp=test_pred_mlp.rename(columns={0:'Transported'})\n",
    "#test_pred_mlp=test_pred_mlp.Transported.round()\n",
    "test_pred_mlp=pd.concat([test_df_id,test_pred_mlp],axis=1)\n",
    "print(test_pred_mlp)\n",
    "test_pred_mlp=test_pred_mlp[['PassengerId','Transported']]\n"
   ]
  },
  {
   "cell_type": "code",
   "execution_count": 209,
   "metadata": {},
   "outputs": [
    {
     "name": "stdout",
     "output_type": "stream",
     "text": [
      "     PassengerId  Transported\n",
      "0            415          1.0\n",
      "1           8663          1.0\n",
      "2           4524          0.0\n",
      "3           8246          0.0\n",
      "4           2935          1.0\n",
      "..           ...          ...\n",
      "864         5996          0.0\n",
      "865         5478          1.0\n",
      "866         6760          1.0\n",
      "867         1437          0.0\n",
      "868         5171          0.0\n",
      "\n",
      "[869 rows x 2 columns]\n"
     ]
    }
   ],
   "source": [
    "##Archivo que se predice a partir  de random forest\n",
    "test_pred_grid_search = grid_search.predict(test_df)\n",
    "test_pred_grid_search\n",
    "\n",
    "test_pred_grid_search=pd.DataFrame(test_pred_grid_search)\n",
    "test_pred_grid_search=test_pred_grid_search.rename(columns={0:'Transported'})\n",
    "test_pred_grid_search=test_pred_grid_search.Transported.round()\n",
    "test_pred_grid_search=pd.concat([test_df_id,test_pred_grid_search],axis=1)\n",
    "test_pred_grid_search=test_pred_grid_search[['PassengerId','Transported']]\n",
    "\n",
    "print(test_pred_grid_search)"
   ]
  },
  {
   "cell_type": "code",
   "execution_count": 210,
   "metadata": {},
   "outputs": [],
   "source": [
    "###########################\n",
    "from pathlib import Path"
   ]
  },
  {
   "cell_type": "code",
   "execution_count": null,
   "metadata": {},
   "outputs": [],
   "source": []
  },
  {
   "cell_type": "code",
   "execution_count": 211,
   "metadata": {},
   "outputs": [],
   "source": [
    " filepath = Path(r'C:\\Users\\Varios\\Desktop\\Diplodatos\\AprendizajeSupervisado-master\\AprendizajeSupervisado-master\\sample_submission_xgboost.csv')\n",
    "#filepath = Path(r'C:\\Users\\Pablo Madriaga\\OneDrive - Helacor S.A\\ArchivosPersonal\\Diplomatura Ciencia De Datos\\4. Aprendizaje Supervisado\\TP\\sample_submission_xgboost.csv')\n",
    "filepath.parent.mkdir(parents=True, exist_ok=True)  \n",
    "test_pred_clf.to_csv(filepath)"
   ]
  },
  {
   "cell_type": "code",
   "execution_count": 212,
   "metadata": {},
   "outputs": [],
   "source": [
    "filepath = Path(r'C:\\Users\\Varios\\Desktop\\Diplodatos\\AprendizajeSupervisado-master\\AprendizajeSupervisado-master\\sample_submission_mlp.csv')\n",
    "#filepath = Path(r'C:\\Users\\Pablo Madriaga\\OneDrive - Helacor S.A\\ArchivosPersonal\\Diplomatura Ciencia De Datos\\4. Aprendizaje Supervisado\\TP\\sample_submission_mlp.csv')\n",
    "filepath.parent.mkdir(parents=True, exist_ok=True)  \n",
    "test_pred_mlp.to_csv(filepath)"
   ]
  },
  {
   "cell_type": "code",
   "execution_count": 213,
   "metadata": {},
   "outputs": [],
   "source": [
    "filepath = Path(r'C:\\Users\\Varios\\Desktop\\Diplodatos\\AprendizajeSupervisado-master\\AprendizajeSupervisado-master\\sample_submission_randomforest.csv')#\n",
    "#filepath = Path(r'C:\\Users\\Pablo Madriaga\\OneDrive - Helacor S.A\\ArchivosPersonal\\Diplomatura Ciencia De Datos\\4. Aprendizaje Supervisado\\TP\\sample_submission_randomforest.csv')\n",
    "filepath.parent.mkdir(parents=True, exist_ok=True)  \n",
    "test_pred_grid_search.to_csv(filepath)"
   ]
  },
  {
   "cell_type": "code",
   "execution_count": null,
   "metadata": {},
   "outputs": [],
   "source": []
  }
 ],
 "metadata": {
  "kernelspec": {
   "display_name": "Python 3 (ipykernel)",
   "language": "python",
   "name": "python3"
  },
  "language_info": {
   "codemirror_mode": {
    "name": "ipython",
    "version": 3
   },
   "file_extension": ".py",
   "mimetype": "text/x-python",
   "name": "python",
   "nbconvert_exporter": "python",
   "pygments_lexer": "ipython3",
   "version": "3.9.12"
  },
  "vscode": {
   "interpreter": {
    "hash": "e6b65fc4380ac725e50a330b268a227bbdbe91bddfffbf68e5f7ce9848a2b8d5"
   }
  }
 },
 "nbformat": 4,
 "nbformat_minor": 4
}
