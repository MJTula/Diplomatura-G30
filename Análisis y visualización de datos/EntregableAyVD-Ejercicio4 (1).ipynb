{
 "cells": [
  {
   "cell_type": "markdown",
   "id": "ad771144",
   "metadata": {},
   "source": [
    "# Análisis y Visualización de Datos\n",
    "## Trabajo práctico entregable - Grupo 30: Di Bartolo, Madriaga y Tula\n",
    "---\n",
    "\n",
    "### Índice de contenido:\n",
    "* [Librerías externas](#Libs)\n",
    "* [Lectura del dataset](#Dataset)\n",
    "* [Ejercicio 4](#Ejercicio4)\n",
    "    * [Formalización](#1)\n",
    "    * [P-valor](#2)\n",
    "    * [Potencia del test](#3)"
   ]
  },
  {
   "cell_type": "markdown",
   "id": "8d037697",
   "metadata": {},
   "source": [
    "#### Librerías externas <a class=\"anchor\" id=\"Libs\"></a>\n",
    "---\n",
    "\n",
    "Empezamos cargando librerías que vamos a usar en la resolución del ejercicio."
   ]
  },
  {
   "cell_type": "code",
   "execution_count": 2,
   "id": "68438d9f",
   "metadata": {},
   "outputs": [],
   "source": [
    "import matplotlib.pyplot as plt\n",
    "import matplotlib.colors\n",
    "import pandas as pd\n",
    "import seaborn\n",
    "import math\n",
    "import numpy as np"
   ]
  },
  {
   "cell_type": "markdown",
   "id": "2a638dec",
   "metadata": {},
   "source": [
    "#### Lectura del dataset <a class=\"anchor\" id=\"Dataset\"></a>\n",
    "---\n",
    "\n",
    "Cargamos el dataset original y eliminamos los valores extremos (el 5% que menos y más tenga de salario neto)."
   ]
  },
  {
   "cell_type": "code",
   "execution_count": 3,
   "id": "737c4058",
   "metadata": {},
   "outputs": [],
   "source": [
    "# Url donde está alojado el dataset.\n",
    "url = 'https://cs.famaf.unc.edu.ar/~mteruel/datasets/diplodatos/sysarmy_survey_2020_processed.csv'\n",
    "\n",
    "# Lectura del dataset.\n",
    "df = pd.read_csv(url)\n",
    "\n",
    "# Limpiando valores extremos.\n",
    "df = df[df[\"salary_monthly_NETO\"] > df[\"salary_monthly_NETO\"].quantile(5/100)]\n",
    "df = df[df[\"salary_monthly_NETO\"] < df[\"salary_monthly_NETO\"].quantile(95/100)]"
   ]
  },
  {
   "cell_type": "code",
   "execution_count": 4,
   "id": "82e65975",
   "metadata": {},
   "outputs": [
    {
     "data": {
      "image/png": "[encoded data removed]",
      "text/plain": [
       "<Figure size 432x288 with 1 Axes>"
      ]
     },
     "metadata": {
      "needs_background": "light"
     },
     "output_type": "display_data"
    }
   ],
   "source": [
    "# Graficando.\n",
    "plt.hist(df[\"salary_monthly_NETO\"],10,color=\"#B87333\")\n",
    "plt.xlabel(\"Salario mensual neto [AR$]\")\n",
    "plt.ylabel(\"Frecuencia\")\n",
    "plt.show()"
   ]
  },
  {
   "cell_type": "code",
   "execution_count": 5,
   "id": "00ee70b7",
   "metadata": {},
   "outputs": [],
   "source": [
    "# Grupo de salarios netos de hombres.\n",
    "groupA = df[df[\"profile_gender\"] == \"Hombre\"].salary_monthly_NETO\n",
    "\n",
    "# Grupo de salarios netos de no-hombres.\n",
    "groupB = df[df[\"profile_gender\"] != \"Hombre\"].salary_monthly_NETO "
   ]
  },
  {
   "cell_type": "code",
   "execution_count": 8,
   "id": "c79d8ec7",
   "metadata": {},
   "outputs": [
    {
     "name": "stdout",
     "output_type": "stream",
     "text": [
      "La media del grupo A es: 84482.96 y su desviación estándar 38027.59\n",
      "La media del grupo B es: 74325.94 y su desviación estándar 33936.42\n"
     ]
    }
   ],
   "source": [
    "print(\"La media del grupo A es:\", round(groupA.mean(),2), \"y su desviación estándar\",round(groupA.std(),2))\n",
    "print(\"La media del grupo B es:\", round(groupB.mean(),2), \"y su desviación estándar\",round(groupB.std(),2))"
   ]
  },
  {
   "cell_type": "markdown",
   "id": "ff5bc651",
   "metadata": {},
   "source": [
    "### Ejercicio 4 - Test de hipótesis <a class=\"anchor\" id=\"Ejercicio4\"></a>\n",
    "---"
   ]
  },
  {
   "cell_type": "markdown",
   "id": "73314d83",
   "metadata": {},
   "source": [
    "#### 4.1 Formalización <a class=\"anchor\" id=\"1\"></a>\n",
    "\n",
    "Describir formalmente los distintos compenentes de un test de hipótesis para comprobar si la distribución de los salarios es distinta entre los grupos A y B."
   ]
  },
  {
   "cell_type": "markdown",
   "id": "fdbe0433",
   "metadata": {},
   "source": [
    "**Hipótesis**\n",
    "\n",
    "La hipótesis nula ($H_0$) afirma que la media de los salarios netos de los hombres es igual a la media del salario de los no-hombres.\n",
    "\n",
    "$$\n",
    "H_0: \\ \\ <SalarioNeto>_{Hombres} \\ \\ -  \\ \\ <SalarioNeto>_{No-Hombres} \\ \\  = \\ \\  0\n",
    "$$\n",
    "\n",
    "La hipótesis alternativa ($H_1$), por el contrario, nos dice que el salario neto medio de los hombres es distinto al de los no hombres.\n",
    "\n",
    "$$\n",
    "H_1: \\ \\ <SalarioNeto>_{Hombres} \\ \\ -  \\ \\ <SalarioNeto>_{No-Hombres} \\ \\  \\neq \\ \\  0\n",
    "$$\n",
    "\n",
    "**Estadístico (Pivote)**\n",
    "\n",
    "Estadístico: \n",
    "$$\\overline{SalarioNeto}_{Hombres} \\ \\ -  \\ \\ \\overline{SalarioNeto}_{No-Hombres}$$\n",
    "\n",
    "$$\\$$\n",
    "\n",
    "Bajo $H_0$: \n",
    "$$ \\frac{(<SalarioNeto>_{Hombres} \\ \\ -  \\ \\ <SalarioNeto>_{No-Hombres}) - (\\overline{SalarioNeto}_{Hombres} \\ \\ -  \\ \\ \\overline{SalarioNeto}_{No-Hombres})}{\\sqrt{\\frac{\\sigma_{Hombres}^2}{N_{Hombres}}+\\frac{\\sigma_{No-Hombres}^2}{N_{No-Hombres}}}} \\approx N(0,1)\n",
    "$$\n",
    "\n",
    "$$\\$$\n",
    "\n",
    "Ya que nuestro caso es una diferencia de medias de dos muestras independientes y de varianzas desiguales.\n",
    "\n",
    "$$\\$$\n",
    "\n",
    "Por lo tanto, un intervalo de confianza de nivel $(1 - \\alpha) \\ $ para $\\ \\ \\overline{SalarioNeto}_{Hombres} \\ \\ -  \\ \\ \\overline{SalarioNeto}_{No-Hombres}\\ \\ $ está dado por:\n",
    "\n",
    "$$\\$$\n",
    "\n",
    "$$\n",
    "<SalarioNeto>_{Hombres} \\ \\ -  \\ \\ <SalarioNeto>_{No-Hombres} \\ \\ \\pm \\ \\ z_{\\frac{\\alpha}{2}} \\sqrt{\\frac{\\sigma_{Hombres}^2}{N_{Hombres}}+\\frac{\\sigma_{No-Hombres}^2}{N_{No-Hombres}}}\n",
    "$$\n",
    "\n",
    "$$\\$$\n",
    "\n",
    "**Nivel de significancia del test $\\alpha$**\n",
    "\n",
    "$$ \\alpha = 5\\% $$\n",
    "\n",
    "Como vamos a usar $z$, definamos los z valores límites para nuestro $\\alpha$:\n",
    "\n",
    "- $z_{0.025} = -1.96$ \n",
    "- $z_{0.975} = 1.96$\n",
    "\n",
    "Todo $z$ valor que sea menor a $-1.96$ o mayor a $1.96$ cae en la zona de rechazo.\n"
   ]
  },
  {
   "cell_type": "markdown",
   "id": "26c3b336",
   "metadata": {},
   "source": [
    "#### 4.2 P-valor <a class=\"anchor\" id=\"2\"></a>\n",
    "\n",
    "1. Calcule el p-valor y decida si rechazar o no la hipótesis nula.\n",
    "2. Interprete el resultado.\n",
    "3. Los dos grupos de nuestra muestra tienen tamaños muy distintos. ¿Esto afecta al tests?\n",
    "\n",
    "Links útiles:\n",
    "* [Test de hipótesis usando scipy](https://docs.scipy.org/doc/scipy/reference/generated/scipy.stats.ttest_ind.html)\n",
    "* [Test de Welch](http://daniellakens.blogspot.com/2015/01/always-use-welchs-t-test-instead-of.html)"
   ]
  },
  {
   "cell_type": "markdown",
   "id": "ff4e9ea7",
   "metadata": {},
   "source": [
    "Siguiendo la metodología del inciso **4.1** vamos a calcular el intervalo donde puede caer la resta de las medias de los salarios netos para que se cumpla la hipótesis nula."
   ]
  },
  {
   "cell_type": "code",
   "execution_count": 11,
   "id": "ff601931",
   "metadata": {},
   "outputs": [
    {
     "name": "stdout",
     "output_type": "stream",
     "text": [
      "Si la diferencia de promedios de salarios está entre $ -2534.81 y $ 2534.81 entonces no podemos rechazar la hipótesis nula y deberemos aceptar que las medias de los salarios son iguales con un 95% de confianza.\n",
      "\n",
      "Si ocurre lo contrario, deberemos rechazar la hipótesis nula con un 95% de confianza.\n"
     ]
    }
   ],
   "source": [
    "# N de los grupos.\n",
    "N_A = len(groupA)\n",
    "N_B = len(groupB)\n",
    "\n",
    "# Desviación estándar de los grupos.\n",
    "std_A = groupA.std()\n",
    "std_B = groupB.std()\n",
    "\n",
    "# Valores z.\n",
    "z_0025 = -1.96\n",
    "z_0975 = 1.96\n",
    "\n",
    "# Límite inferior.\n",
    "lim_inf = z_0025 * ((std_A**2 / N_A) + (std_B**2 / N_B))**0.5\n",
    "lim_sup = z_0975 * ((std_A**2 / N_A) + (std_B**2 / N_B))**0.5\n",
    "\n",
    "print(\"Si la diferencia de promedios de salarios está entre $\",round(lim_inf,2),\"y $\",round(lim_sup,2),\"entonces\"\\\n",
    "     ,\"no podemos rechazar la hipótesis nula y deberemos aceptar que las medias de los salarios son iguales con\"\\\n",
    "     ,\"un 95% de confianza.\\n\")\n",
    "print(\"Si ocurre lo contrario, deberemos rechazar la hipótesis nula con un 95% de confianza.\")b\n"
   ]
  },
  {
   "cell_type": "markdown",
   "id": "9e9ca5e8",
   "metadata": {},
   "source": [
    "Veamos entonces cuánto es la diferencia de los promedios."
   ]
  },
  {
   "cell_type": "code",
   "execution_count": 14,
   "id": "35892cab",
   "metadata": {},
   "outputs": [
    {
     "name": "stdout",
     "output_type": "stream",
     "text": [
      "La diferencia de los promedios de los sueldos netos de los hombres y los no-hombres es de: $ 10157.02\n",
      "\n",
      "Debemos rechazar la hipótesis nula.\n",
      "\n",
      "Los promedios de los sueldos netos de los hombres y no hombres NO son iguales.\n"
     ]
    }
   ],
   "source": [
    "print(\"La diferencia de los promedios de los sueldos netos de los hombres y los no-hombres es de: $\"\\\n",
    "      , round(groupA.mean()-groupB.mean(),2))\n",
    "\n",
    "print(\"\\nDebemos rechazar la hipótesis nula.\")\n",
    "print(\"\\nLos promedios de los sueldos netos de los hombres y no hombres NO son iguales.\")"
   ]
  }
 ],
 "metadata": {
  "kernelspec": {
   "display_name": "Python 3 (ipykernel)",
   "language": "python",
   "name": "python3"
  },
  "language_info": {
   "codemirror_mode": {
    "name": "ipython",
    "version": 3
   },
   "file_extension": ".py",
   "mimetype": "text/x-python",
   "name": "python",
   "nbconvert_exporter": "python",
   "pygments_lexer": "ipython3",
   "version": "3.9.12"
  }
 },
 "nbformat": 4,
 "nbformat_minor": 5
}
