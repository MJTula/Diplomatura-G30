{
 "cells": [
  {
   "cell_type": "markdown",
   "id": "ad771144",
   "metadata": {},
   "source": [
    "# Análisis y Visualización de Datos\n",
    "## Trabajo práctico entregable - Grupo 30: Di Bartolo, Madriaga y Tula\n",
    "---\n",
    "\n",
    "### Índice de contenido:\n",
    "* [Librerías externas](#Libs)\n",
    "* [Lectura del dataset](#Dataset)\n",
    "* [Ejercicio 3](#Ejercicio3)"
   ]
  },
  {
   "cell_type": "markdown",
   "id": "8d037697",
   "metadata": {},
   "source": [
    "#### Librerías externas <a class=\"anchor\" id=\"Libs\"></a>\n",
    "---\n",
    "\n",
    "Empezamos cargando librerías que vamos a usar en la resolución del ejercicio."
   ]
  },
  {
   "cell_type": "code",
   "execution_count": 2,
   "id": "68438d9f",
   "metadata": {},
   "outputs": [],
   "source": [
    "import matplotlib.pyplot as plt\n",
    "import matplotlib.colors\n",
    "import pandas as pd\n",
    "import seaborn\n",
    "import math\n",
    "import numpy as np"
   ]
  },
  {
   "cell_type": "markdown",
   "id": "2a638dec",
   "metadata": {},
   "source": [
    "#### Lectura del dataset <a class=\"anchor\" id=\"Dataset\"></a>\n",
    "---\n",
    "\n",
    "Cargamos el dataset original y eliminamos los valores extremos (el 5% que menos y más tenga de salario neto)."
   ]
  },
  {
   "cell_type": "code",
   "execution_count": 5,
   "id": "737c4058",
   "metadata": {},
   "outputs": [],
   "source": [
    "# Url donde está alojado el dataset.\n",
    "url = 'https://cs.famaf.unc.edu.ar/~mteruel/datasets/diplodatos/sysarmy_survey_2020_processed.csv'\n",
    "\n",
    "# Lectura del dataset.\n",
    "df = pd.read_csv(url)\n",
    "\n",
    "# Limpiando valores extremos.\n",
    "df = df[df[\"salary_monthly_NETO\"] > df[\"salary_monthly_NETO\"].quantile(5/100)]\n",
    "df = df[df[\"salary_monthly_NETO\"] < df[\"salary_monthly_NETO\"].quantile(95/100)]"
   ]
  },
  {
   "cell_type": "code",
   "execution_count": 6,
   "id": "82e65975",
   "metadata": {},
   "outputs": [
    {
     "data": {
      "image/png": "[encoded data removed]",
      "text/plain": [
       "<Figure size 432x288 with 1 Axes>"
      ]
     },
     "metadata": {
      "needs_background": "light"
     },
     "output_type": "display_data"
    }
   ],
   "source": [
    "# Graficando.\n",
    "plt.hist(df[\"salary_monthly_NETO\"],10,color=\"#B87333\")\n",
    "plt.xlabel(\"Salario mensual neto [AR$]\")\n",
    "plt.ylabel(\"Frecuencia\")\n",
    "plt.show()"
   ]
  },
  {
   "cell_type": "markdown",
   "id": "ff5bc651",
   "metadata": {},
   "source": [
    "### Ejercicio 3 - Estimación <a class=\"anchor\" id=\"Ejercicio3\"></a>\n",
    "\n",
    "Calcular una estimación puntual y un intervalo de confianza de nivel ( $1-\\alpha$ ) para la resta entre la *Media del salario Neto para Hombres* y la *Media del salario Neto para Otros géneros* (diferencia de las medias entre el grupoA y grupoB). \n",
    "\n",
    "**¿Cómo se relaciona este intervalo de confianza con el test de hipótesis?**"
   ]
  },
  {
   "cell_type": "markdown",
   "id": "35918c4b",
   "metadata": {},
   "source": [
    "Primero volvamos a ver qué opciones tenemos en el campo del género de la encuesta."
   ]
  },
  {
   "cell_type": "code",
   "execution_count": 7,
   "id": "7eaf3129",
   "metadata": {},
   "outputs": [
    {
     "name": "stdout",
     "output_type": "stream",
     "text": [
      "Las opciones posibles en profile_gender son: Mujer, Hombre y Otros.\n",
      "\n"
     ]
    }
   ],
   "source": [
    "print(\"Las opciones posibles en profile_gender son: \",df['profile_gender'].unique()[0],\", \",df['profile_gender'].unique()[1],\" y \",df['profile_gender'].unique()[2] , \".\\n\",sep=\"\")"
   ]
  },
  {
   "cell_type": "markdown",
   "id": "fecb6f48",
   "metadata": {},
   "source": [
    "Ahora obtengamos los salarios netos promedios según el género, ordenados según quien gana más."
   ]
  },
  {
   "cell_type": "code",
   "execution_count": 8,
   "id": "189572a7",
   "metadata": {},
   "outputs": [
    {
     "name": "stdout",
     "output_type": "stream",
     "text": [
      "El salario promedio de los hombres es:         $ 84483\n",
      "El salario promedio de los otros géneros es:   $ 80260\n",
      "El salario promedio de las mujeres es:         $ 74147\n"
     ]
    }
   ],
   "source": [
    "print(\"El salario promedio de los hombres es:         $\",round(df.groupby([\"profile_gender\"],dropna=False)[\"salary_monthly_NETO\"].mean()[0]))\n",
    "print(\"El salario promedio de los otros géneros es:   $\",round(df.groupby([\"profile_gender\"],dropna=False)[\"salary_monthly_NETO\"].mean()[2]))\n",
    "print(\"El salario promedio de las mujeres es:         $\",round(df.groupby([\"profile_gender\"],dropna=False)[\"salary_monthly_NETO\"].mean()[1]))"
   ]
  },
  {
   "cell_type": "markdown",
   "id": "d40010a8",
   "metadata": {},
   "source": [
    "Es interesante ver una tabla que describa otras medidas de centralidad y dispersión:"
   ]
  },
  {
   "cell_type": "code",
   "execution_count": 15,
   "id": "b3d51e53",
   "metadata": {},
   "outputs": [
    {
     "data": {
      "text/html": [
       "<div>\n",
       "<style scoped>\n",
       "    .dataframe tbody tr th:only-of-type {\n",
       "        vertical-align: middle;\n",
       "    }\n",
       "\n",
       "    .dataframe tbody tr th {\n",
       "        vertical-align: top;\n",
       "    }\n",
       "\n",
       "    .dataframe thead tr th {\n",
       "        text-align: left;\n",
       "    }\n",
       "\n",
       "    .dataframe thead tr:last-of-type th {\n",
       "        text-align: right;\n",
       "    }\n",
       "</style>\n",
       "<table border=\"1\" class=\"dataframe\">\n",
       "  <thead>\n",
       "    <tr>\n",
       "      <th></th>\n",
       "      <th colspan=\"8\" halign=\"left\">salary_monthly_NETO</th>\n",
       "    </tr>\n",
       "    <tr>\n",
       "      <th></th>\n",
       "      <th>count</th>\n",
       "      <th>mean</th>\n",
       "      <th>std</th>\n",
       "      <th>min</th>\n",
       "      <th>25%</th>\n",
       "      <th>50%</th>\n",
       "      <th>75%</th>\n",
       "      <th>max</th>\n",
       "    </tr>\n",
       "    <tr>\n",
       "      <th>profile_gender</th>\n",
       "      <th></th>\n",
       "      <th></th>\n",
       "      <th></th>\n",
       "      <th></th>\n",
       "      <th></th>\n",
       "      <th></th>\n",
       "      <th></th>\n",
       "      <th></th>\n",
       "    </tr>\n",
       "  </thead>\n",
       "  <tbody>\n",
       "    <tr>\n",
       "      <th>Hombre</th>\n",
       "      <td>4442.0</td>\n",
       "      <td>84482.957461</td>\n",
       "      <td>38027.585794</td>\n",
       "      <td>22980.0</td>\n",
       "      <td>55000.0</td>\n",
       "      <td>80000.0</td>\n",
       "      <td>105000.0</td>\n",
       "      <td>216000.0</td>\n",
       "    </tr>\n",
       "    <tr>\n",
       "      <th>Mujer</th>\n",
       "      <td>830.0</td>\n",
       "      <td>74147.199506</td>\n",
       "      <td>33582.707710</td>\n",
       "      <td>23000.0</td>\n",
       "      <td>49125.0</td>\n",
       "      <td>67846.0</td>\n",
       "      <td>92810.5</td>\n",
       "      <td>203000.0</td>\n",
       "    </tr>\n",
       "    <tr>\n",
       "      <th>Otros</th>\n",
       "      <td>25.0</td>\n",
       "      <td>80260.000000</td>\n",
       "      <td>44573.628227</td>\n",
       "      <td>34000.0</td>\n",
       "      <td>40000.0</td>\n",
       "      <td>74000.0</td>\n",
       "      <td>101000.0</td>\n",
       "      <td>190000.0</td>\n",
       "    </tr>\n",
       "  </tbody>\n",
       "</table>\n",
       "</div>"
      ],
      "text/plain": [
       "               salary_monthly_NETO                                       \\\n",
       "                             count          mean           std      min   \n",
       "profile_gender                                                            \n",
       "Hombre                      4442.0  84482.957461  38027.585794  22980.0   \n",
       "Mujer                        830.0  74147.199506  33582.707710  23000.0   \n",
       "Otros                         25.0  80260.000000  44573.628227  34000.0   \n",
       "\n",
       "                                                      \n",
       "                    25%      50%       75%       max  \n",
       "profile_gender                                        \n",
       "Hombre          55000.0  80000.0  105000.0  216000.0  \n",
       "Mujer           49125.0  67846.0   92810.5  203000.0  \n",
       "Otros           40000.0  74000.0  101000.0  190000.0  "
      ]
     },
     "execution_count": 15,
     "metadata": {},
     "output_type": "execute_result"
    }
   ],
   "source": [
    "df[[\"profile_gender\",\"salary_monthly_NETO\"]].groupby(\"profile_gender\").describe()"
   ]
  },
  {
   "cell_type": "markdown",
   "id": "31588592",
   "metadata": {},
   "source": [
    "Armemos los grupos A (salarios netos de hombres) y B (salarios netos de no hombres)."
   ]
  },
  {
   "cell_type": "code",
   "execution_count": 16,
   "id": "b31dca75",
   "metadata": {},
   "outputs": [],
   "source": [
    "groupA = df[df[\"profile_gender\"] == \"Hombre\"].salary_monthly_NETO\n",
    "groupB = df[df[\"profile_gender\"] != \"Hombre\"].salary_monthly_NETO "
   ]
  },
  {
   "cell_type": "markdown",
   "id": "b3b7a95c",
   "metadata": {},
   "source": [
    "Ahora comparemos las medias:"
   ]
  },
  {
   "cell_type": "code",
   "execution_count": 18,
   "id": "29e9e752",
   "metadata": {},
   "outputs": [
    {
     "name": "stdout",
     "output_type": "stream",
     "text": [
      "La media del salario mensual neto de los hombres es de:               $ 84483\n",
      "La media del salario mensual neto de los no hombres es de:            $ 74326\n",
      "\n",
      "La diferencia de las medias de salario mensual neto es entonces de:   $ 10157\n"
     ]
    }
   ],
   "source": [
    "print(\"La media del salario mensual neto de los hombres es de:               $\", round(groupA.mean()))\n",
    "print(\"La media del salario mensual neto de los no hombres es de:            $\", round(groupB.mean()))\n",
    "print(\"\")\n",
    "print(\"La diferencia de las medias de salario mensual neto es entonces de:   $\", round(round(groupA.mean())-round(groupB.mean())))"
   ]
  },
  {
   "cell_type": "markdown",
   "id": "0259cf6d",
   "metadata": {},
   "source": [
    "Vamos a calcular el intervalo en el cual se encuentra la media de los hombres y no hombres con un 95\\% de confianza.\n",
    "\n",
    "Esto implica que usaremos un $\\alpha = 0.05$.\n",
    "\n",
    "Tendremos un valor de Z inferior y superior:\n",
    "- $z_{0.025}$ = -1.96\n",
    "- $z_{0.975}$ = 1.96"
   ]
  },
  {
   "cell_type": "code",
   "execution_count": 24,
   "id": "1b23209d",
   "metadata": {},
   "outputs": [
    {
     "name": "stdout",
     "output_type": "stream",
     "text": [
      "La media del salario neto de los hombres estará, con un 95% de confianza, entre $ 83365 y $ 85601\n",
      "La media del salario neto de los no hombres estará, con un 95% de confianza, entre $ 72051 y $ 76601\n"
     ]
    }
   ],
   "source": [
    "# Definición de los z valores.\n",
    "z_0025 = -1.96\n",
    "z_0975 = 1.96\n",
    "\n",
    "# Grupo A.\n",
    "N_A = len(groupA)\n",
    "mean_A = groupA.mean()\n",
    "std_A = groupA.std()\n",
    "lim_inf_A = mean_A + std_A * z_0025 / N_A**0.5\n",
    "lim_sup_A = mean_A + std_A * z_0975 / N_A**0.5\n",
    "\n",
    "# Grupo B.\n",
    "N_B = len(groupB)\n",
    "mean_B = groupB.mean()\n",
    "std_B = groupB.std()\n",
    "lim_inf_B = mean_B + std_B * z_0025 / N_B**0.5\n",
    "lim_sup_B = mean_B + std_B * z_0975 / N_B**0.5\n",
    "\n",
    "print(\"La media del salario neto de los hombres estará, con un 95% de confianza, entre $\",round(lim_inf_A),\"y $\",round(lim_sup_A))\n",
    "print(\"La media del salario neto de los no hombres estará, con un 95% de confianza, entre $\",round(lim_inf_B),\"y $\",round(lim_sup_B))"
   ]
  },
  {
   "cell_type": "markdown",
   "id": "2362641a",
   "metadata": {},
   "source": [
    "De esta manera, podemos pensar que la diferencia entre las medias estará, con un 95% de confianza, entre la diferencia más chica y más grande posible de las medias de los grupos A y B."
   ]
  },
  {
   "cell_type": "code",
   "execution_count": 28,
   "id": "0e02e58c",
   "metadata": {},
   "outputs": [
    {
     "name": "stdout",
     "output_type": "stream",
     "text": [
      "La diferencia de las medias del salario mensual neto estará, con un 95% de confianza, entre $ 6764 y $ 13550\n"
     ]
    }
   ],
   "source": [
    "print(\"La diferencia de las medias del salario mensual neto estará, con un 95% de confianza, entre $\",\\\n",
    "     round(lim_inf_A - lim_sup_B),\"y $\", round(lim_sup_A - lim_inf_B))"
   ]
  },
  {
   "cell_type": "markdown",
   "id": "0ebda048",
   "metadata": {},
   "source": [
    "En cuanto a la relación de estos intervalos de confianza respecto a los test de hipótesis, podemos afirmar viendo estos datos que, con un 95% de confianza, **los hombres ganan más que los no hombres**."
   ]
  }
 ],
 "metadata": {
  "kernelspec": {
   "display_name": "Python 3 (ipykernel)",
   "language": "python",
   "name": "python3"
  },
  "language_info": {
   "codemirror_mode": {
    "name": "ipython",
    "version": 3
   },
   "file_extension": ".py",
   "mimetype": "text/x-python",
   "name": "python",
   "nbconvert_exporter": "python",
   "pygments_lexer": "ipython3",
   "version": "3.9.12"
  }
 },
 "nbformat": 4,
 "nbformat_minor": 5
}
